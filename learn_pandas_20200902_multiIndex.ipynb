{
 "metadata": {
  "language_info": {
   "codemirror_mode": {
    "name": "ipython",
    "version": 3
   },
   "file_extension": ".py",
   "mimetype": "text/x-python",
   "name": "python",
   "nbconvert_exporter": "python",
   "pygments_lexer": "ipython3",
   "version": "3.7.4-final"
  },
  "orig_nbformat": 2,
  "kernelspec": {
   "name": "python37464bit996bc1b053e443969e72b61be9e433e9",
   "display_name": "Python 3.7.4 64-bit"
  }
 },
 "nbformat": 4,
 "nbformat_minor": 2,
 "cells": [
  {
   "cell_type": "code",
   "execution_count": 1,
   "metadata": {},
   "outputs": [],
   "source": [
    "import pandas as pd \n",
    "%matplotlib inline\n",
    "\n",
    "stocks = pd.read_excel('./datas/stocks/互联网公司股票.xlsx')"
   ]
  },
  {
   "cell_type": "code",
   "execution_count": 2,
   "metadata": {},
   "outputs": [
    {
     "output_type": "execute_result",
     "data": {
      "text/plain": "           日期    公司      收盘      开盘       高       低    交易量   涨跌幅\n0  2019-10-03  BIDU  104.32  102.35  104.73  101.15   2.24  0.02\n1  2019-10-02  BIDU  102.62  100.85  103.24   99.50   2.69  0.01\n2  2019-10-01  BIDU  102.00  102.80  103.26  101.00   1.78 -0.01\n3  2019-10-03  BABA  169.48  166.65  170.18  165.00  10.39  0.02\n4  2019-10-02  BABA  165.77  162.82  166.88  161.90  11.60  0.00",
      "text/html": "<div>\n<style scoped>\n    .dataframe tbody tr th:only-of-type {\n        vertical-align: middle;\n    }\n\n    .dataframe tbody tr th {\n        vertical-align: top;\n    }\n\n    .dataframe thead th {\n        text-align: right;\n    }\n</style>\n<table border=\"1\" class=\"dataframe\">\n  <thead>\n    <tr style=\"text-align: right;\">\n      <th></th>\n      <th>日期</th>\n      <th>公司</th>\n      <th>收盘</th>\n      <th>开盘</th>\n      <th>高</th>\n      <th>低</th>\n      <th>交易量</th>\n      <th>涨跌幅</th>\n    </tr>\n  </thead>\n  <tbody>\n    <tr>\n      <th>0</th>\n      <td>2019-10-03</td>\n      <td>BIDU</td>\n      <td>104.32</td>\n      <td>102.35</td>\n      <td>104.73</td>\n      <td>101.15</td>\n      <td>2.24</td>\n      <td>0.02</td>\n    </tr>\n    <tr>\n      <th>1</th>\n      <td>2019-10-02</td>\n      <td>BIDU</td>\n      <td>102.62</td>\n      <td>100.85</td>\n      <td>103.24</td>\n      <td>99.50</td>\n      <td>2.69</td>\n      <td>0.01</td>\n    </tr>\n    <tr>\n      <th>2</th>\n      <td>2019-10-01</td>\n      <td>BIDU</td>\n      <td>102.00</td>\n      <td>102.80</td>\n      <td>103.26</td>\n      <td>101.00</td>\n      <td>1.78</td>\n      <td>-0.01</td>\n    </tr>\n    <tr>\n      <th>3</th>\n      <td>2019-10-03</td>\n      <td>BABA</td>\n      <td>169.48</td>\n      <td>166.65</td>\n      <td>170.18</td>\n      <td>165.00</td>\n      <td>10.39</td>\n      <td>0.02</td>\n    </tr>\n    <tr>\n      <th>4</th>\n      <td>2019-10-02</td>\n      <td>BABA</td>\n      <td>165.77</td>\n      <td>162.82</td>\n      <td>166.88</td>\n      <td>161.90</td>\n      <td>11.60</td>\n      <td>0.00</td>\n    </tr>\n  </tbody>\n</table>\n</div>"
     },
     "metadata": {},
     "execution_count": 2
    }
   ],
   "source": [
    "stocks.head()"
   ]
  },
  {
   "cell_type": "code",
   "execution_count": 3,
   "metadata": {},
   "outputs": [
    {
     "output_type": "execute_result",
     "data": {
      "text/plain": "(12, 8)"
     },
     "metadata": {},
     "execution_count": 3
    }
   ],
   "source": [
    "stocks.shape"
   ]
  },
  {
   "cell_type": "code",
   "execution_count": 4,
   "metadata": {},
   "outputs": [
    {
     "output_type": "execute_result",
     "data": {
      "text/plain": "array(['BIDU', 'BABA', 'IQ', 'JD'], dtype=object)"
     },
     "metadata": {},
     "execution_count": 4
    }
   ],
   "source": [
    "stocks['公司'].unique()"
   ]
  },
  {
   "cell_type": "code",
   "execution_count": 6,
   "metadata": {},
   "outputs": [
    {
     "output_type": "execute_result",
     "data": {
      "text/plain": "公司\nBABA    166.80\nBIDU    102.98\nIQ       15.90\nJD       28.35\nName: 收盘, dtype: float64"
     },
     "metadata": {},
     "execution_count": 6
    }
   ],
   "source": [
    "stocks.groupby('公司')['收盘'].mean()"
   ]
  },
  {
   "cell_type": "code",
   "execution_count": 7,
   "metadata": {},
   "outputs": [],
   "source": [
    "ser = stocks.groupby(['公司', '日期'])['收盘'].mean()"
   ]
  },
  {
   "cell_type": "code",
   "execution_count": 8,
   "metadata": {},
   "outputs": [
    {
     "output_type": "execute_result",
     "data": {
      "text/plain": "公司    日期        \nBABA  2019-10-01    165.15\n      2019-10-02    165.77\n      2019-10-03    169.48\nBIDU  2019-10-01    102.00\n      2019-10-02    102.62\n      2019-10-03    104.32\nIQ    2019-10-01     15.92\n      2019-10-02     15.72\n      2019-10-03     16.06\nJD    2019-10-01     28.19\n      2019-10-02     28.06\n      2019-10-03     28.80\nName: 收盘, dtype: float64"
     },
     "metadata": {},
     "execution_count": 8
    }
   ],
   "source": [
    "ser"
   ]
  },
  {
   "cell_type": "code",
   "execution_count": 9,
   "metadata": {},
   "outputs": [
    {
     "output_type": "execute_result",
     "data": {
      "text/plain": "MultiIndex([('BABA', '2019-10-01'),\n            ('BABA', '2019-10-02'),\n            ('BABA', '2019-10-03'),\n            ('BIDU', '2019-10-01'),\n            ('BIDU', '2019-10-02'),\n            ('BIDU', '2019-10-03'),\n            (  'IQ', '2019-10-01'),\n            (  'IQ', '2019-10-02'),\n            (  'IQ', '2019-10-03'),\n            (  'JD', '2019-10-01'),\n            (  'JD', '2019-10-02'),\n            (  'JD', '2019-10-03')],\n           names=['公司', '日期'])"
     },
     "metadata": {},
     "execution_count": 9
    }
   ],
   "source": [
    "ser.index"
   ]
  },
  {
   "cell_type": "code",
   "execution_count": 10,
   "metadata": {},
   "outputs": [
    {
     "output_type": "execute_result",
     "data": {
      "text/plain": "日期    2019-10-01  2019-10-02  2019-10-03\n公司                                      \nBABA      165.15      165.77      169.48\nBIDU      102.00      102.62      104.32\nIQ         15.92       15.72       16.06\nJD         28.19       28.06       28.80",
      "text/html": "<div>\n<style scoped>\n    .dataframe tbody tr th:only-of-type {\n        vertical-align: middle;\n    }\n\n    .dataframe tbody tr th {\n        vertical-align: top;\n    }\n\n    .dataframe thead th {\n        text-align: right;\n    }\n</style>\n<table border=\"1\" class=\"dataframe\">\n  <thead>\n    <tr style=\"text-align: right;\">\n      <th>日期</th>\n      <th>2019-10-01</th>\n      <th>2019-10-02</th>\n      <th>2019-10-03</th>\n    </tr>\n    <tr>\n      <th>公司</th>\n      <th></th>\n      <th></th>\n      <th></th>\n    </tr>\n  </thead>\n  <tbody>\n    <tr>\n      <th>BABA</th>\n      <td>165.15</td>\n      <td>165.77</td>\n      <td>169.48</td>\n    </tr>\n    <tr>\n      <th>BIDU</th>\n      <td>102.00</td>\n      <td>102.62</td>\n      <td>104.32</td>\n    </tr>\n    <tr>\n      <th>IQ</th>\n      <td>15.92</td>\n      <td>15.72</td>\n      <td>16.06</td>\n    </tr>\n    <tr>\n      <th>JD</th>\n      <td>28.19</td>\n      <td>28.06</td>\n      <td>28.80</td>\n    </tr>\n  </tbody>\n</table>\n</div>"
     },
     "metadata": {},
     "execution_count": 10
    }
   ],
   "source": [
    "ser.unstack() #将二级索引变成列"
   ]
  },
  {
   "cell_type": "code",
   "execution_count": 11,
   "metadata": {},
   "outputs": [
    {
     "output_type": "execute_result",
     "data": {
      "text/plain": "公司    日期        \nBABA  2019-10-01    165.15\n      2019-10-02    165.77\n      2019-10-03    169.48\nBIDU  2019-10-01    102.00\n      2019-10-02    102.62\n      2019-10-03    104.32\nIQ    2019-10-01     15.92\n      2019-10-02     15.72\n      2019-10-03     16.06\nJD    2019-10-01     28.19\n      2019-10-02     28.06\n      2019-10-03     28.80\nName: 收盘, dtype: float64"
     },
     "metadata": {},
     "execution_count": 11
    }
   ],
   "source": [
    "ser"
   ]
  },
  {
   "cell_type": "code",
   "execution_count": 12,
   "metadata": {},
   "outputs": [
    {
     "output_type": "execute_result",
     "data": {
      "text/plain": "      公司          日期      收盘\n0   BABA  2019-10-01  165.15\n1   BABA  2019-10-02  165.77\n2   BABA  2019-10-03  169.48\n3   BIDU  2019-10-01  102.00\n4   BIDU  2019-10-02  102.62\n5   BIDU  2019-10-03  104.32\n6     IQ  2019-10-01   15.92\n7     IQ  2019-10-02   15.72\n8     IQ  2019-10-03   16.06\n9     JD  2019-10-01   28.19\n10    JD  2019-10-02   28.06\n11    JD  2019-10-03   28.80",
      "text/html": "<div>\n<style scoped>\n    .dataframe tbody tr th:only-of-type {\n        vertical-align: middle;\n    }\n\n    .dataframe tbody tr th {\n        vertical-align: top;\n    }\n\n    .dataframe thead th {\n        text-align: right;\n    }\n</style>\n<table border=\"1\" class=\"dataframe\">\n  <thead>\n    <tr style=\"text-align: right;\">\n      <th></th>\n      <th>公司</th>\n      <th>日期</th>\n      <th>收盘</th>\n    </tr>\n  </thead>\n  <tbody>\n    <tr>\n      <th>0</th>\n      <td>BABA</td>\n      <td>2019-10-01</td>\n      <td>165.15</td>\n    </tr>\n    <tr>\n      <th>1</th>\n      <td>BABA</td>\n      <td>2019-10-02</td>\n      <td>165.77</td>\n    </tr>\n    <tr>\n      <th>2</th>\n      <td>BABA</td>\n      <td>2019-10-03</td>\n      <td>169.48</td>\n    </tr>\n    <tr>\n      <th>3</th>\n      <td>BIDU</td>\n      <td>2019-10-01</td>\n      <td>102.00</td>\n    </tr>\n    <tr>\n      <th>4</th>\n      <td>BIDU</td>\n      <td>2019-10-02</td>\n      <td>102.62</td>\n    </tr>\n    <tr>\n      <th>5</th>\n      <td>BIDU</td>\n      <td>2019-10-03</td>\n      <td>104.32</td>\n    </tr>\n    <tr>\n      <th>6</th>\n      <td>IQ</td>\n      <td>2019-10-01</td>\n      <td>15.92</td>\n    </tr>\n    <tr>\n      <th>7</th>\n      <td>IQ</td>\n      <td>2019-10-02</td>\n      <td>15.72</td>\n    </tr>\n    <tr>\n      <th>8</th>\n      <td>IQ</td>\n      <td>2019-10-03</td>\n      <td>16.06</td>\n    </tr>\n    <tr>\n      <th>9</th>\n      <td>JD</td>\n      <td>2019-10-01</td>\n      <td>28.19</td>\n    </tr>\n    <tr>\n      <th>10</th>\n      <td>JD</td>\n      <td>2019-10-02</td>\n      <td>28.06</td>\n    </tr>\n    <tr>\n      <th>11</th>\n      <td>JD</td>\n      <td>2019-10-03</td>\n      <td>28.80</td>\n    </tr>\n  </tbody>\n</table>\n</div>"
     },
     "metadata": {},
     "execution_count": 12
    }
   ],
   "source": [
    "ser.reset_index()"
   ]
  },
  {
   "cell_type": "code",
   "execution_count": 13,
   "metadata": {},
   "outputs": [
    {
     "output_type": "execute_result",
     "data": {
      "text/plain": "公司    日期        \nBABA  2019-10-01    165.15\n      2019-10-02    165.77\n      2019-10-03    169.48\nBIDU  2019-10-01    102.00\n      2019-10-02    102.62\n      2019-10-03    104.32\nIQ    2019-10-01     15.92\n      2019-10-02     15.72\n      2019-10-03     16.06\nJD    2019-10-01     28.19\n      2019-10-02     28.06\n      2019-10-03     28.80\nName: 收盘, dtype: float64"
     },
     "metadata": {},
     "execution_count": 13
    }
   ],
   "source": [
    "ser"
   ]
  },
  {
   "cell_type": "code",
   "execution_count": 15,
   "metadata": {},
   "outputs": [
    {
     "output_type": "execute_result",
     "data": {
      "text/plain": "102.62"
     },
     "metadata": {},
     "execution_count": 15
    }
   ],
   "source": [
    "ser[('BIDU', '2019-10-02')]"
   ]
  },
  {
   "cell_type": "code",
   "execution_count": 16,
   "metadata": {},
   "outputs": [
    {
     "output_type": "execute_result",
     "data": {
      "text/plain": "公司\nBABA    165.77\nBIDU    102.62\nIQ       15.72\nJD       28.06\nName: 收盘, dtype: float64"
     },
     "metadata": {},
     "execution_count": 16
    }
   ],
   "source": [
    "ser.loc[:, '2019-10-02']"
   ]
  },
  {
   "cell_type": "code",
   "execution_count": 17,
   "metadata": {},
   "outputs": [
    {
     "output_type": "execute_result",
     "data": {
      "text/plain": "           日期    公司      收盘      开盘       高       低    交易量   涨跌幅\n0  2019-10-03  BIDU  104.32  102.35  104.73  101.15   2.24  0.02\n1  2019-10-02  BIDU  102.62  100.85  103.24   99.50   2.69  0.01\n2  2019-10-01  BIDU  102.00  102.80  103.26  101.00   1.78 -0.01\n3  2019-10-03  BABA  169.48  166.65  170.18  165.00  10.39  0.02\n4  2019-10-02  BABA  165.77  162.82  166.88  161.90  11.60  0.00",
      "text/html": "<div>\n<style scoped>\n    .dataframe tbody tr th:only-of-type {\n        vertical-align: middle;\n    }\n\n    .dataframe tbody tr th {\n        vertical-align: top;\n    }\n\n    .dataframe thead th {\n        text-align: right;\n    }\n</style>\n<table border=\"1\" class=\"dataframe\">\n  <thead>\n    <tr style=\"text-align: right;\">\n      <th></th>\n      <th>日期</th>\n      <th>公司</th>\n      <th>收盘</th>\n      <th>开盘</th>\n      <th>高</th>\n      <th>低</th>\n      <th>交易量</th>\n      <th>涨跌幅</th>\n    </tr>\n  </thead>\n  <tbody>\n    <tr>\n      <th>0</th>\n      <td>2019-10-03</td>\n      <td>BIDU</td>\n      <td>104.32</td>\n      <td>102.35</td>\n      <td>104.73</td>\n      <td>101.15</td>\n      <td>2.24</td>\n      <td>0.02</td>\n    </tr>\n    <tr>\n      <th>1</th>\n      <td>2019-10-02</td>\n      <td>BIDU</td>\n      <td>102.62</td>\n      <td>100.85</td>\n      <td>103.24</td>\n      <td>99.50</td>\n      <td>2.69</td>\n      <td>0.01</td>\n    </tr>\n    <tr>\n      <th>2</th>\n      <td>2019-10-01</td>\n      <td>BIDU</td>\n      <td>102.00</td>\n      <td>102.80</td>\n      <td>103.26</td>\n      <td>101.00</td>\n      <td>1.78</td>\n      <td>-0.01</td>\n    </tr>\n    <tr>\n      <th>3</th>\n      <td>2019-10-03</td>\n      <td>BABA</td>\n      <td>169.48</td>\n      <td>166.65</td>\n      <td>170.18</td>\n      <td>165.00</td>\n      <td>10.39</td>\n      <td>0.02</td>\n    </tr>\n    <tr>\n      <th>4</th>\n      <td>2019-10-02</td>\n      <td>BABA</td>\n      <td>165.77</td>\n      <td>162.82</td>\n      <td>166.88</td>\n      <td>161.90</td>\n      <td>11.60</td>\n      <td>0.00</td>\n    </tr>\n  </tbody>\n</table>\n</div>"
     },
     "metadata": {},
     "execution_count": 17
    }
   ],
   "source": [
    "stocks.head()"
   ]
  },
  {
   "cell_type": "code",
   "execution_count": 18,
   "metadata": {},
   "outputs": [],
   "source": [
    "stocks.set_index(['公司', '日期'], inplace = True)"
   ]
  },
  {
   "cell_type": "code",
   "execution_count": 19,
   "metadata": {},
   "outputs": [
    {
     "output_type": "execute_result",
     "data": {
      "text/plain": "MultiIndex([('BIDU', '2019-10-03'),\n            ('BIDU', '2019-10-02'),\n            ('BIDU', '2019-10-01'),\n            ('BABA', '2019-10-03'),\n            ('BABA', '2019-10-02'),\n            ('BABA', '2019-10-01'),\n            (  'IQ', '2019-10-03'),\n            (  'IQ', '2019-10-02'),\n            (  'IQ', '2019-10-01'),\n            (  'JD', '2019-10-03'),\n            (  'JD', '2019-10-02'),\n            (  'JD', '2019-10-01')],\n           names=['公司', '日期'])"
     },
     "metadata": {},
     "execution_count": 19
    }
   ],
   "source": [
    "stocks.index"
   ]
  },
  {
   "cell_type": "code",
   "execution_count": 20,
   "metadata": {},
   "outputs": [],
   "source": [
    "stocks.sort_index(inplace=True)"
   ]
  },
  {
   "cell_type": "code",
   "execution_count": 21,
   "metadata": {},
   "outputs": [
    {
     "output_type": "execute_result",
     "data": {
      "text/plain": "                     收盘      开盘       高       低    交易量   涨跌幅\n公司   日期                                                     \nBABA 2019-10-01  165.15  168.01  168.23  163.64  14.19 -0.01\n     2019-10-02  165.77  162.82  166.88  161.90  11.60  0.00\n     2019-10-03  169.48  166.65  170.18  165.00  10.39  0.02\nBIDU 2019-10-01  102.00  102.80  103.26  101.00   1.78 -0.01\n     2019-10-02  102.62  100.85  103.24   99.50   2.69  0.01\n     2019-10-03  104.32  102.35  104.73  101.15   2.24  0.02\nIQ   2019-10-01   15.92   16.14   16.22   15.50  11.65 -0.01\n     2019-10-02   15.72   15.85   15.87   15.12   8.10 -0.01\n     2019-10-03   16.06   15.71   16.38   15.32  10.08  0.02\nJD   2019-10-01   28.19   28.22   28.57   27.97  10.64  0.00\n     2019-10-02   28.06   28.00   28.22   27.53   9.53  0.00\n     2019-10-03   28.80   28.11   28.97   27.82   8.77  0.03",
      "text/html": "<div>\n<style scoped>\n    .dataframe tbody tr th:only-of-type {\n        vertical-align: middle;\n    }\n\n    .dataframe tbody tr th {\n        vertical-align: top;\n    }\n\n    .dataframe thead th {\n        text-align: right;\n    }\n</style>\n<table border=\"1\" class=\"dataframe\">\n  <thead>\n    <tr style=\"text-align: right;\">\n      <th></th>\n      <th></th>\n      <th>收盘</th>\n      <th>开盘</th>\n      <th>高</th>\n      <th>低</th>\n      <th>交易量</th>\n      <th>涨跌幅</th>\n    </tr>\n    <tr>\n      <th>公司</th>\n      <th>日期</th>\n      <th></th>\n      <th></th>\n      <th></th>\n      <th></th>\n      <th></th>\n      <th></th>\n    </tr>\n  </thead>\n  <tbody>\n    <tr>\n      <th rowspan=\"3\" valign=\"top\">BABA</th>\n      <th>2019-10-01</th>\n      <td>165.15</td>\n      <td>168.01</td>\n      <td>168.23</td>\n      <td>163.64</td>\n      <td>14.19</td>\n      <td>-0.01</td>\n    </tr>\n    <tr>\n      <th>2019-10-02</th>\n      <td>165.77</td>\n      <td>162.82</td>\n      <td>166.88</td>\n      <td>161.90</td>\n      <td>11.60</td>\n      <td>0.00</td>\n    </tr>\n    <tr>\n      <th>2019-10-03</th>\n      <td>169.48</td>\n      <td>166.65</td>\n      <td>170.18</td>\n      <td>165.00</td>\n      <td>10.39</td>\n      <td>0.02</td>\n    </tr>\n    <tr>\n      <th rowspan=\"3\" valign=\"top\">BIDU</th>\n      <th>2019-10-01</th>\n      <td>102.00</td>\n      <td>102.80</td>\n      <td>103.26</td>\n      <td>101.00</td>\n      <td>1.78</td>\n      <td>-0.01</td>\n    </tr>\n    <tr>\n      <th>2019-10-02</th>\n      <td>102.62</td>\n      <td>100.85</td>\n      <td>103.24</td>\n      <td>99.50</td>\n      <td>2.69</td>\n      <td>0.01</td>\n    </tr>\n    <tr>\n      <th>2019-10-03</th>\n      <td>104.32</td>\n      <td>102.35</td>\n      <td>104.73</td>\n      <td>101.15</td>\n      <td>2.24</td>\n      <td>0.02</td>\n    </tr>\n    <tr>\n      <th rowspan=\"3\" valign=\"top\">IQ</th>\n      <th>2019-10-01</th>\n      <td>15.92</td>\n      <td>16.14</td>\n      <td>16.22</td>\n      <td>15.50</td>\n      <td>11.65</td>\n      <td>-0.01</td>\n    </tr>\n    <tr>\n      <th>2019-10-02</th>\n      <td>15.72</td>\n      <td>15.85</td>\n      <td>15.87</td>\n      <td>15.12</td>\n      <td>8.10</td>\n      <td>-0.01</td>\n    </tr>\n    <tr>\n      <th>2019-10-03</th>\n      <td>16.06</td>\n      <td>15.71</td>\n      <td>16.38</td>\n      <td>15.32</td>\n      <td>10.08</td>\n      <td>0.02</td>\n    </tr>\n    <tr>\n      <th rowspan=\"3\" valign=\"top\">JD</th>\n      <th>2019-10-01</th>\n      <td>28.19</td>\n      <td>28.22</td>\n      <td>28.57</td>\n      <td>27.97</td>\n      <td>10.64</td>\n      <td>0.00</td>\n    </tr>\n    <tr>\n      <th>2019-10-02</th>\n      <td>28.06</td>\n      <td>28.00</td>\n      <td>28.22</td>\n      <td>27.53</td>\n      <td>9.53</td>\n      <td>0.00</td>\n    </tr>\n    <tr>\n      <th>2019-10-03</th>\n      <td>28.80</td>\n      <td>28.11</td>\n      <td>28.97</td>\n      <td>27.82</td>\n      <td>8.77</td>\n      <td>0.03</td>\n    </tr>\n  </tbody>\n</table>\n</div>"
     },
     "metadata": {},
     "execution_count": 21
    }
   ],
   "source": [
    "stocks"
   ]
  },
  {
   "cell_type": "code",
   "execution_count": 26,
   "metadata": {},
   "outputs": [
    {
     "output_type": "execute_result",
     "data": {
      "text/plain": "收盘     102.62\n开盘     100.85\n高      103.24\n低       99.50\n交易量      2.69\n涨跌幅      0.01\nName: (BIDU, 2019-10-02), dtype: float64"
     },
     "metadata": {},
     "execution_count": 26
    }
   ],
   "source": [
    "stocks.loc['BIDU'] #索引用 loc，stock['COLUMN']是某一列"
   ]
  },
  {
   "cell_type": "markdown",
   "metadata": {},
   "source": [
    "# 【重要！】\n",
    "选择数据时：\n",
    "* 元组代表筛选多层索引，其中key1是索引第一级，key2是第二级，例如：\n",
    "key1 = 'JD', key2 = '2019-10-02'\n",
    "* 列表[key1, key2]代表同一层的多个key，key1和key2是并列的统计索引，例如：\n",
    "key1 = 'JD', key2 = 'BIDU'"
   ]
  },
  {
   "cell_type": "code",
   "execution_count": 27,
   "metadata": {},
   "outputs": [
    {
     "output_type": "execute_result",
     "data": {
      "text/plain": "                收盘      开盘       高       低   交易量   涨跌幅\n日期                                                    \n2019-10-01  102.00  102.80  103.26  101.00  1.78 -0.01\n2019-10-02  102.62  100.85  103.24   99.50  2.69  0.01\n2019-10-03  104.32  102.35  104.73  101.15  2.24  0.02",
      "text/html": "<div>\n<style scoped>\n    .dataframe tbody tr th:only-of-type {\n        vertical-align: middle;\n    }\n\n    .dataframe tbody tr th {\n        vertical-align: top;\n    }\n\n    .dataframe thead th {\n        text-align: right;\n    }\n</style>\n<table border=\"1\" class=\"dataframe\">\n  <thead>\n    <tr style=\"text-align: right;\">\n      <th></th>\n      <th>收盘</th>\n      <th>开盘</th>\n      <th>高</th>\n      <th>低</th>\n      <th>交易量</th>\n      <th>涨跌幅</th>\n    </tr>\n    <tr>\n      <th>日期</th>\n      <th></th>\n      <th></th>\n      <th></th>\n      <th></th>\n      <th></th>\n      <th></th>\n    </tr>\n  </thead>\n  <tbody>\n    <tr>\n      <th>2019-10-01</th>\n      <td>102.00</td>\n      <td>102.80</td>\n      <td>103.26</td>\n      <td>101.00</td>\n      <td>1.78</td>\n      <td>-0.01</td>\n    </tr>\n    <tr>\n      <th>2019-10-02</th>\n      <td>102.62</td>\n      <td>100.85</td>\n      <td>103.24</td>\n      <td>99.50</td>\n      <td>2.69</td>\n      <td>0.01</td>\n    </tr>\n    <tr>\n      <th>2019-10-03</th>\n      <td>104.32</td>\n      <td>102.35</td>\n      <td>104.73</td>\n      <td>101.15</td>\n      <td>2.24</td>\n      <td>0.02</td>\n    </tr>\n  </tbody>\n</table>\n</div>"
     },
     "metadata": {},
     "execution_count": 27
    }
   ],
   "source": [
    "stocks.loc['BIDU']"
   ]
  },
  {
   "cell_type": "code",
   "execution_count": 30,
   "metadata": {},
   "outputs": [
    {
     "output_type": "execute_result",
     "data": {
      "text/plain": "                     收盘      开盘       高       低    交易量   涨跌幅\n公司   日期                                                     \nBIDU 2019-10-01  102.00  102.80  103.26  101.00   1.78 -0.01\n     2019-10-02  102.62  100.85  103.24   99.50   2.69  0.01\n     2019-10-03  104.32  102.35  104.73  101.15   2.24  0.02\nJD   2019-10-01   28.19   28.22   28.57   27.97  10.64  0.00\n     2019-10-02   28.06   28.00   28.22   27.53   9.53  0.00\n     2019-10-03   28.80   28.11   28.97   27.82   8.77  0.03",
      "text/html": "<div>\n<style scoped>\n    .dataframe tbody tr th:only-of-type {\n        vertical-align: middle;\n    }\n\n    .dataframe tbody tr th {\n        vertical-align: top;\n    }\n\n    .dataframe thead th {\n        text-align: right;\n    }\n</style>\n<table border=\"1\" class=\"dataframe\">\n  <thead>\n    <tr style=\"text-align: right;\">\n      <th></th>\n      <th></th>\n      <th>收盘</th>\n      <th>开盘</th>\n      <th>高</th>\n      <th>低</th>\n      <th>交易量</th>\n      <th>涨跌幅</th>\n    </tr>\n    <tr>\n      <th>公司</th>\n      <th>日期</th>\n      <th></th>\n      <th></th>\n      <th></th>\n      <th></th>\n      <th></th>\n      <th></th>\n    </tr>\n  </thead>\n  <tbody>\n    <tr>\n      <th rowspan=\"3\" valign=\"top\">BIDU</th>\n      <th>2019-10-01</th>\n      <td>102.00</td>\n      <td>102.80</td>\n      <td>103.26</td>\n      <td>101.00</td>\n      <td>1.78</td>\n      <td>-0.01</td>\n    </tr>\n    <tr>\n      <th>2019-10-02</th>\n      <td>102.62</td>\n      <td>100.85</td>\n      <td>103.24</td>\n      <td>99.50</td>\n      <td>2.69</td>\n      <td>0.01</td>\n    </tr>\n    <tr>\n      <th>2019-10-03</th>\n      <td>104.32</td>\n      <td>102.35</td>\n      <td>104.73</td>\n      <td>101.15</td>\n      <td>2.24</td>\n      <td>0.02</td>\n    </tr>\n    <tr>\n      <th rowspan=\"3\" valign=\"top\">JD</th>\n      <th>2019-10-01</th>\n      <td>28.19</td>\n      <td>28.22</td>\n      <td>28.57</td>\n      <td>27.97</td>\n      <td>10.64</td>\n      <td>0.00</td>\n    </tr>\n    <tr>\n      <th>2019-10-02</th>\n      <td>28.06</td>\n      <td>28.00</td>\n      <td>28.22</td>\n      <td>27.53</td>\n      <td>9.53</td>\n      <td>0.00</td>\n    </tr>\n    <tr>\n      <th>2019-10-03</th>\n      <td>28.80</td>\n      <td>28.11</td>\n      <td>28.97</td>\n      <td>27.82</td>\n      <td>8.77</td>\n      <td>0.03</td>\n    </tr>\n  </tbody>\n</table>\n</div>"
     },
     "metadata": {},
     "execution_count": 30
    }
   ],
   "source": [
    "stocks.loc[['BIDU', 'JD'], :]"
   ]
  },
  {
   "cell_type": "code",
   "execution_count": 31,
   "metadata": {},
   "outputs": [
    {
     "output_type": "execute_result",
     "data": {
      "text/plain": "收盘     102.00\n开盘     102.80\n高      103.26\n低      101.00\n交易量      1.78\n涨跌幅     -0.01\nName: (BIDU, 2019-10-01), dtype: float64"
     },
     "metadata": {},
     "execution_count": 31
    }
   ],
   "source": [
    "stocks.loc[('BIDU', '2019-10-01'), :]"
   ]
  },
  {
   "cell_type": "code",
   "execution_count": 34,
   "metadata": {},
   "outputs": [
    {
     "output_type": "execute_result",
     "data": {
      "text/plain": "                     收盘      开盘       高       低    交易量   涨跌幅\n公司   日期                                                     \nBABA 2019-10-02  165.77  162.82  166.88  161.90  11.60  0.00\n     2019-10-03  169.48  166.65  170.18  165.00  10.39  0.02\nBIDU 2019-10-02  102.62  100.85  103.24   99.50   2.69  0.01\n     2019-10-03  104.32  102.35  104.73  101.15   2.24  0.02\nIQ   2019-10-02   15.72   15.85   15.87   15.12   8.10 -0.01\n     2019-10-03   16.06   15.71   16.38   15.32  10.08  0.02\nJD   2019-10-02   28.06   28.00   28.22   27.53   9.53  0.00\n     2019-10-03   28.80   28.11   28.97   27.82   8.77  0.03",
      "text/html": "<div>\n<style scoped>\n    .dataframe tbody tr th:only-of-type {\n        vertical-align: middle;\n    }\n\n    .dataframe tbody tr th {\n        vertical-align: top;\n    }\n\n    .dataframe thead th {\n        text-align: right;\n    }\n</style>\n<table border=\"1\" class=\"dataframe\">\n  <thead>\n    <tr style=\"text-align: right;\">\n      <th></th>\n      <th></th>\n      <th>收盘</th>\n      <th>开盘</th>\n      <th>高</th>\n      <th>低</th>\n      <th>交易量</th>\n      <th>涨跌幅</th>\n    </tr>\n    <tr>\n      <th>公司</th>\n      <th>日期</th>\n      <th></th>\n      <th></th>\n      <th></th>\n      <th></th>\n      <th></th>\n      <th></th>\n    </tr>\n  </thead>\n  <tbody>\n    <tr>\n      <th rowspan=\"2\" valign=\"top\">BABA</th>\n      <th>2019-10-02</th>\n      <td>165.77</td>\n      <td>162.82</td>\n      <td>166.88</td>\n      <td>161.90</td>\n      <td>11.60</td>\n      <td>0.00</td>\n    </tr>\n    <tr>\n      <th>2019-10-03</th>\n      <td>169.48</td>\n      <td>166.65</td>\n      <td>170.18</td>\n      <td>165.00</td>\n      <td>10.39</td>\n      <td>0.02</td>\n    </tr>\n    <tr>\n      <th rowspan=\"2\" valign=\"top\">BIDU</th>\n      <th>2019-10-02</th>\n      <td>102.62</td>\n      <td>100.85</td>\n      <td>103.24</td>\n      <td>99.50</td>\n      <td>2.69</td>\n      <td>0.01</td>\n    </tr>\n    <tr>\n      <th>2019-10-03</th>\n      <td>104.32</td>\n      <td>102.35</td>\n      <td>104.73</td>\n      <td>101.15</td>\n      <td>2.24</td>\n      <td>0.02</td>\n    </tr>\n    <tr>\n      <th rowspan=\"2\" valign=\"top\">IQ</th>\n      <th>2019-10-02</th>\n      <td>15.72</td>\n      <td>15.85</td>\n      <td>15.87</td>\n      <td>15.12</td>\n      <td>8.10</td>\n      <td>-0.01</td>\n    </tr>\n    <tr>\n      <th>2019-10-03</th>\n      <td>16.06</td>\n      <td>15.71</td>\n      <td>16.38</td>\n      <td>15.32</td>\n      <td>10.08</td>\n      <td>0.02</td>\n    </tr>\n    <tr>\n      <th rowspan=\"2\" valign=\"top\">JD</th>\n      <th>2019-10-02</th>\n      <td>28.06</td>\n      <td>28.00</td>\n      <td>28.22</td>\n      <td>27.53</td>\n      <td>9.53</td>\n      <td>0.00</td>\n    </tr>\n    <tr>\n      <th>2019-10-03</th>\n      <td>28.80</td>\n      <td>28.11</td>\n      <td>28.97</td>\n      <td>27.82</td>\n      <td>8.77</td>\n      <td>0.03</td>\n    </tr>\n  </tbody>\n</table>\n</div>"
     },
     "metadata": {},
     "execution_count": 34
    }
   ],
   "source": [
    "stocks.loc[(slice(None), ['2019-10-02', '2019-10-03']), :]"
   ]
  },
  {
   "cell_type": "code",
   "execution_count": null,
   "metadata": {},
   "outputs": [],
   "source": []
  }
 ]
}