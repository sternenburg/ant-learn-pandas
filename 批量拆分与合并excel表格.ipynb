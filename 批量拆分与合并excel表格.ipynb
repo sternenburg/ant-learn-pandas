{
 "metadata": {
  "language_info": {
   "codemirror_mode": {
    "name": "ipython",
    "version": 3
   },
   "file_extension": ".py",
   "mimetype": "text/x-python",
   "name": "python",
   "nbconvert_exporter": "python",
   "pygments_lexer": "ipython3",
   "version": "3.7.4-final"
  },
  "orig_nbformat": 2,
  "kernelspec": {
   "name": "python37464bit996bc1b053e443969e72b61be9e433e9",
   "display_name": "Python 3.7.4 64-bit"
  }
 },
 "nbformat": 4,
 "nbformat_minor": 2,
 "cells": [
  {
   "cell_type": "markdown",
   "metadata": {},
   "source": [
    "# 使用Pandas批量拆分与合并excel表格"
   ]
  },
  {
   "cell_type": "code",
   "execution_count": 1,
   "metadata": {},
   "outputs": [],
   "source": [
    "import pandas as pd \n",
    "import os"
   ]
  },
  {
   "cell_type": "code",
   "execution_count": 23,
   "metadata": {},
   "outputs": [],
   "source": [
    "os.chdir(r'H:\\Coding\\Python\\oper_excel')"
   ]
  },
  {
   "cell_type": "code",
   "execution_count": 24,
   "metadata": {},
   "outputs": [],
   "source": [
    "work_dir = r'.\\course_datas\\c15_excel_split_merge'\n",
    "# work_dir = '.\\\\course_datas\\\\c15_excel_split_merge'\n",
    "# work_dir = './course_datas/c15_excel_split_merge'"
   ]
  },
  {
   "cell_type": "code",
   "execution_count": 25,
   "metadata": {},
   "outputs": [],
   "source": [
    "splits_dir = f'{work_dir}\\\\split'"
   ]
  },
  {
   "cell_type": "code",
   "execution_count": 26,
   "metadata": {},
   "outputs": [
    {
     "output_type": "execute_result",
     "data": {
      "text/plain": "'.\\\\course_datas\\\\c15_excel_split_merge\\\\split'"
     },
     "metadata": {},
     "execution_count": 26
    }
   ],
   "source": [
    "splits_dir"
   ]
  },
  {
   "cell_type": "code",
   "execution_count": 27,
   "metadata": {},
   "outputs": [],
   "source": [
    "if not os.path.exists(splits_dir):\n",
    "    os.mkdir(splits_dir)"
   ]
  },
  {
   "cell_type": "code",
   "execution_count": 28,
   "metadata": {},
   "outputs": [
    {
     "output_type": "execute_result",
     "data": {
      "text/plain": "'H:\\\\Coding\\\\Python\\\\oper_excel'"
     },
     "metadata": {},
     "execution_count": 28
    }
   ],
   "source": [
    "pwd"
   ]
  },
  {
   "cell_type": "code",
   "execution_count": 42,
   "metadata": {},
   "outputs": [],
   "source": [
    "df_source = pd.read_excel(f\"{work_dir}\\\\crazyant_blog_articles_source.xlsx\")"
   ]
  },
  {
   "cell_type": "code",
   "execution_count": 37,
   "metadata": {},
   "outputs": [
    {
     "output_type": "execute_result",
     "data": {
      "text/plain": "     id                 title                    tags\n0  2585  Tensorflow怎样接收变长列表特征  python,tensorflow,特征工程\n1  2583   Pandas实现数据的合并concat      pandas,python,数据分析\n2  2574  Pandas的Index索引有什么用途？      pandas,python,数据分析\n3  2564           机器学习常用数据集大全             python,机器学习\n4  2561          一个数据科学家的修炼路径                    数据分析",
      "text/html": "<div>\n<style scoped>\n    .dataframe tbody tr th:only-of-type {\n        vertical-align: middle;\n    }\n\n    .dataframe tbody tr th {\n        vertical-align: top;\n    }\n\n    .dataframe thead th {\n        text-align: right;\n    }\n</style>\n<table border=\"1\" class=\"dataframe\">\n  <thead>\n    <tr style=\"text-align: right;\">\n      <th></th>\n      <th>id</th>\n      <th>title</th>\n      <th>tags</th>\n    </tr>\n  </thead>\n  <tbody>\n    <tr>\n      <th>0</th>\n      <td>2585</td>\n      <td>Tensorflow怎样接收变长列表特征</td>\n      <td>python,tensorflow,特征工程</td>\n    </tr>\n    <tr>\n      <th>1</th>\n      <td>2583</td>\n      <td>Pandas实现数据的合并concat</td>\n      <td>pandas,python,数据分析</td>\n    </tr>\n    <tr>\n      <th>2</th>\n      <td>2574</td>\n      <td>Pandas的Index索引有什么用途？</td>\n      <td>pandas,python,数据分析</td>\n    </tr>\n    <tr>\n      <th>3</th>\n      <td>2564</td>\n      <td>机器学习常用数据集大全</td>\n      <td>python,机器学习</td>\n    </tr>\n    <tr>\n      <th>4</th>\n      <td>2561</td>\n      <td>一个数据科学家的修炼路径</td>\n      <td>数据分析</td>\n    </tr>\n  </tbody>\n</table>\n</div>"
     },
     "metadata": {},
     "execution_count": 37
    }
   ],
   "source": [
    "df_source.head()"
   ]
  },
  {
   "cell_type": "code",
   "execution_count": 43,
   "metadata": {},
   "outputs": [
    {
     "output_type": "execute_result",
     "data": {
      "text/plain": "RangeIndex(start=0, stop=258, step=1)"
     },
     "metadata": {},
     "execution_count": 43
    }
   ],
   "source": [
    "df_source.index"
   ]
  },
  {
   "cell_type": "markdown",
   "metadata": {},
   "source": [
    "## 将一个Excel等份拆成多个Excel"
   ]
  },
  {
   "cell_type": "code",
   "execution_count": 44,
   "metadata": {},
   "outputs": [],
   "source": [
    "# Excel拆分给如下几个人\n",
    "user_names = ['lei', 'bei', 'ming', 'hong']\n",
    "total_row_count = df_source.index.size"
   ]
  },
  {
   "cell_type": "code",
   "execution_count": 45,
   "metadata": {},
   "outputs": [
    {
     "output_type": "execute_result",
     "data": {
      "text/plain": "258"
     },
     "metadata": {},
     "execution_count": 45
    }
   ],
   "source": []
  },
  {
   "cell_type": "code",
   "execution_count": null,
   "metadata": {},
   "outputs": [],
   "source": []
  }
 ]
}