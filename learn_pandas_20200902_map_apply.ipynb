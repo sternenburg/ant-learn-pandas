{
 "metadata": {
  "language_info": {
   "codemirror_mode": {
    "name": "ipython",
    "version": 3
   },
   "file_extension": ".py",
   "mimetype": "text/x-python",
   "name": "python",
   "nbconvert_exporter": "python",
   "pygments_lexer": "ipython3",
   "version": "3.7.4-final"
  },
  "orig_nbformat": 2,
  "kernelspec": {
   "name": "python37464bit996bc1b053e443969e72b61be9e433e9",
   "display_name": "Python 3.7.4 64-bit"
  }
 },
 "nbformat": 4,
 "nbformat_minor": 2,
 "cells": [
  {
   "cell_type": "markdown",
   "metadata": {},
   "source": [
    "# Pandas的数据转换函数map, apply, applymap\n",
    "1. map:只用于Series，实现每个值 -> 值的映射\n",
    "2. apply：可用于Series实现每个值 -> 值的映射，也可以用于Datafram实现单个轴的Series处理\n",
    "3. applymap：只用于Dataframe，实现每个元素的处理"
   ]
  },
  {
   "cell_type": "code",
   "execution_count": 1,
   "metadata": {},
   "outputs": [
    {
     "output_type": "execute_result",
     "data": {
      "text/plain": "           日期    公司      收盘      开盘       高       低    交易量   涨跌幅\n0  2019-10-03  BIDU  104.32  102.35  104.73  101.15   2.24  0.02\n1  2019-10-02  BIDU  102.62  100.85  103.24   99.50   2.69  0.01\n2  2019-10-01  BIDU  102.00  102.80  103.26  101.00   1.78 -0.01\n3  2019-10-03  BABA  169.48  166.65  170.18  165.00  10.39  0.02\n4  2019-10-02  BABA  165.77  162.82  166.88  161.90  11.60  0.00",
      "text/html": "<div>\n<style scoped>\n    .dataframe tbody tr th:only-of-type {\n        vertical-align: middle;\n    }\n\n    .dataframe tbody tr th {\n        vertical-align: top;\n    }\n\n    .dataframe thead th {\n        text-align: right;\n    }\n</style>\n<table border=\"1\" class=\"dataframe\">\n  <thead>\n    <tr style=\"text-align: right;\">\n      <th></th>\n      <th>日期</th>\n      <th>公司</th>\n      <th>收盘</th>\n      <th>开盘</th>\n      <th>高</th>\n      <th>低</th>\n      <th>交易量</th>\n      <th>涨跌幅</th>\n    </tr>\n  </thead>\n  <tbody>\n    <tr>\n      <th>0</th>\n      <td>2019-10-03</td>\n      <td>BIDU</td>\n      <td>104.32</td>\n      <td>102.35</td>\n      <td>104.73</td>\n      <td>101.15</td>\n      <td>2.24</td>\n      <td>0.02</td>\n    </tr>\n    <tr>\n      <th>1</th>\n      <td>2019-10-02</td>\n      <td>BIDU</td>\n      <td>102.62</td>\n      <td>100.85</td>\n      <td>103.24</td>\n      <td>99.50</td>\n      <td>2.69</td>\n      <td>0.01</td>\n    </tr>\n    <tr>\n      <th>2</th>\n      <td>2019-10-01</td>\n      <td>BIDU</td>\n      <td>102.00</td>\n      <td>102.80</td>\n      <td>103.26</td>\n      <td>101.00</td>\n      <td>1.78</td>\n      <td>-0.01</td>\n    </tr>\n    <tr>\n      <th>3</th>\n      <td>2019-10-03</td>\n      <td>BABA</td>\n      <td>169.48</td>\n      <td>166.65</td>\n      <td>170.18</td>\n      <td>165.00</td>\n      <td>10.39</td>\n      <td>0.02</td>\n    </tr>\n    <tr>\n      <th>4</th>\n      <td>2019-10-02</td>\n      <td>BABA</td>\n      <td>165.77</td>\n      <td>162.82</td>\n      <td>166.88</td>\n      <td>161.90</td>\n      <td>11.60</td>\n      <td>0.00</td>\n    </tr>\n  </tbody>\n</table>\n</div>"
     },
     "metadata": {},
     "execution_count": 1
    }
   ],
   "source": [
    "import pandas as pd \n",
    "stocks = pd.read_excel('./datas/stocks/互联网公司股票.xlsx')\n",
    "stocks.head()"
   ]
  },
  {
   "cell_type": "code",
   "execution_count": 3,
   "metadata": {},
   "outputs": [],
   "source": [
    "ls = list(stocks['公司'].unique())"
   ]
  },
  {
   "cell_type": "code",
   "execution_count": 4,
   "metadata": {},
   "outputs": [
    {
     "output_type": "execute_result",
     "data": {
      "text/plain": "['BIDU', 'BABA', 'IQ', 'JD']"
     },
     "metadata": {},
     "execution_count": 4
    }
   ],
   "source": [
    "ls"
   ]
  },
  {
   "cell_type": "code",
   "execution_count": 9,
   "metadata": {},
   "outputs": [],
   "source": [
    "dict_company_names = {\n",
    "    ls[0]:'百度',\n",
    "    ls[1]:'阿里巴巴',\n",
    "    ls[2]:'爱奇艺',\n",
    "    ls[3]:'京东'\n",
    "}"
   ]
  },
  {
   "cell_type": "code",
   "execution_count": 6,
   "metadata": {},
   "outputs": [
    {
     "output_type": "execute_result",
     "data": {
      "text/plain": "{'BIDU': '百度', 'BABA': '阿里巴巴', 'IQ': '爱奇异', 'JD': '京东'}"
     },
     "metadata": {},
     "execution_count": 6
    }
   ],
   "source": [
    "dict_company_names"
   ]
  },
  {
   "cell_type": "code",
   "execution_count": 10,
   "metadata": {},
   "outputs": [],
   "source": [
    "stocks['公司中文'] = stocks['公司'].map(dict_company_names)"
   ]
  },
  {
   "cell_type": "code",
   "execution_count": 11,
   "metadata": {},
   "outputs": [
    {
     "output_type": "execute_result",
     "data": {
      "text/plain": "            日期    公司      收盘      开盘       高       低    交易量   涨跌幅  公司中文\n0   2019-10-03  BIDU  104.32  102.35  104.73  101.15   2.24  0.02    百度\n1   2019-10-02  BIDU  102.62  100.85  103.24   99.50   2.69  0.01    百度\n2   2019-10-01  BIDU  102.00  102.80  103.26  101.00   1.78 -0.01    百度\n3   2019-10-03  BABA  169.48  166.65  170.18  165.00  10.39  0.02  阿里巴巴\n4   2019-10-02  BABA  165.77  162.82  166.88  161.90  11.60  0.00  阿里巴巴\n5   2019-10-01  BABA  165.15  168.01  168.23  163.64  14.19 -0.01  阿里巴巴\n6   2019-10-03    IQ   16.06   15.71   16.38   15.32  10.08  0.02   爱奇艺\n7   2019-10-02    IQ   15.72   15.85   15.87   15.12   8.10 -0.01   爱奇艺\n8   2019-10-01    IQ   15.92   16.14   16.22   15.50  11.65 -0.01   爱奇艺\n9   2019-10-03    JD   28.80   28.11   28.97   27.82   8.77  0.03    京东\n10  2019-10-02    JD   28.06   28.00   28.22   27.53   9.53  0.00    京东\n11  2019-10-01    JD   28.19   28.22   28.57   27.97  10.64  0.00    京东",
      "text/html": "<div>\n<style scoped>\n    .dataframe tbody tr th:only-of-type {\n        vertical-align: middle;\n    }\n\n    .dataframe tbody tr th {\n        vertical-align: top;\n    }\n\n    .dataframe thead th {\n        text-align: right;\n    }\n</style>\n<table border=\"1\" class=\"dataframe\">\n  <thead>\n    <tr style=\"text-align: right;\">\n      <th></th>\n      <th>日期</th>\n      <th>公司</th>\n      <th>收盘</th>\n      <th>开盘</th>\n      <th>高</th>\n      <th>低</th>\n      <th>交易量</th>\n      <th>涨跌幅</th>\n      <th>公司中文</th>\n    </tr>\n  </thead>\n  <tbody>\n    <tr>\n      <th>0</th>\n      <td>2019-10-03</td>\n      <td>BIDU</td>\n      <td>104.32</td>\n      <td>102.35</td>\n      <td>104.73</td>\n      <td>101.15</td>\n      <td>2.24</td>\n      <td>0.02</td>\n      <td>百度</td>\n    </tr>\n    <tr>\n      <th>1</th>\n      <td>2019-10-02</td>\n      <td>BIDU</td>\n      <td>102.62</td>\n      <td>100.85</td>\n      <td>103.24</td>\n      <td>99.50</td>\n      <td>2.69</td>\n      <td>0.01</td>\n      <td>百度</td>\n    </tr>\n    <tr>\n      <th>2</th>\n      <td>2019-10-01</td>\n      <td>BIDU</td>\n      <td>102.00</td>\n      <td>102.80</td>\n      <td>103.26</td>\n      <td>101.00</td>\n      <td>1.78</td>\n      <td>-0.01</td>\n      <td>百度</td>\n    </tr>\n    <tr>\n      <th>3</th>\n      <td>2019-10-03</td>\n      <td>BABA</td>\n      <td>169.48</td>\n      <td>166.65</td>\n      <td>170.18</td>\n      <td>165.00</td>\n      <td>10.39</td>\n      <td>0.02</td>\n      <td>阿里巴巴</td>\n    </tr>\n    <tr>\n      <th>4</th>\n      <td>2019-10-02</td>\n      <td>BABA</td>\n      <td>165.77</td>\n      <td>162.82</td>\n      <td>166.88</td>\n      <td>161.90</td>\n      <td>11.60</td>\n      <td>0.00</td>\n      <td>阿里巴巴</td>\n    </tr>\n    <tr>\n      <th>5</th>\n      <td>2019-10-01</td>\n      <td>BABA</td>\n      <td>165.15</td>\n      <td>168.01</td>\n      <td>168.23</td>\n      <td>163.64</td>\n      <td>14.19</td>\n      <td>-0.01</td>\n      <td>阿里巴巴</td>\n    </tr>\n    <tr>\n      <th>6</th>\n      <td>2019-10-03</td>\n      <td>IQ</td>\n      <td>16.06</td>\n      <td>15.71</td>\n      <td>16.38</td>\n      <td>15.32</td>\n      <td>10.08</td>\n      <td>0.02</td>\n      <td>爱奇艺</td>\n    </tr>\n    <tr>\n      <th>7</th>\n      <td>2019-10-02</td>\n      <td>IQ</td>\n      <td>15.72</td>\n      <td>15.85</td>\n      <td>15.87</td>\n      <td>15.12</td>\n      <td>8.10</td>\n      <td>-0.01</td>\n      <td>爱奇艺</td>\n    </tr>\n    <tr>\n      <th>8</th>\n      <td>2019-10-01</td>\n      <td>IQ</td>\n      <td>15.92</td>\n      <td>16.14</td>\n      <td>16.22</td>\n      <td>15.50</td>\n      <td>11.65</td>\n      <td>-0.01</td>\n      <td>爱奇艺</td>\n    </tr>\n    <tr>\n      <th>9</th>\n      <td>2019-10-03</td>\n      <td>JD</td>\n      <td>28.80</td>\n      <td>28.11</td>\n      <td>28.97</td>\n      <td>27.82</td>\n      <td>8.77</td>\n      <td>0.03</td>\n      <td>京东</td>\n    </tr>\n    <tr>\n      <th>10</th>\n      <td>2019-10-02</td>\n      <td>JD</td>\n      <td>28.06</td>\n      <td>28.00</td>\n      <td>28.22</td>\n      <td>27.53</td>\n      <td>9.53</td>\n      <td>0.00</td>\n      <td>京东</td>\n    </tr>\n    <tr>\n      <th>11</th>\n      <td>2019-10-01</td>\n      <td>JD</td>\n      <td>28.19</td>\n      <td>28.22</td>\n      <td>28.57</td>\n      <td>27.97</td>\n      <td>10.64</td>\n      <td>0.00</td>\n      <td>京东</td>\n    </tr>\n  </tbody>\n</table>\n</div>"
     },
     "metadata": {},
     "execution_count": 11
    }
   ],
   "source": [
    "stocks"
   ]
  },
  {
   "cell_type": "code",
   "execution_count": 12,
   "metadata": {},
   "outputs": [],
   "source": [
    "stocks['公司中文2'] = stocks['公司'].map(lambda x: dict_company_names[x])"
   ]
  },
  {
   "cell_type": "code",
   "execution_count": 13,
   "metadata": {},
   "outputs": [
    {
     "output_type": "execute_result",
     "data": {
      "text/plain": "            日期    公司      收盘      开盘       高       低    交易量   涨跌幅  公司中文 公司中文2\n0   2019-10-03  BIDU  104.32  102.35  104.73  101.15   2.24  0.02    百度    百度\n1   2019-10-02  BIDU  102.62  100.85  103.24   99.50   2.69  0.01    百度    百度\n2   2019-10-01  BIDU  102.00  102.80  103.26  101.00   1.78 -0.01    百度    百度\n3   2019-10-03  BABA  169.48  166.65  170.18  165.00  10.39  0.02  阿里巴巴  阿里巴巴\n4   2019-10-02  BABA  165.77  162.82  166.88  161.90  11.60  0.00  阿里巴巴  阿里巴巴\n5   2019-10-01  BABA  165.15  168.01  168.23  163.64  14.19 -0.01  阿里巴巴  阿里巴巴\n6   2019-10-03    IQ   16.06   15.71   16.38   15.32  10.08  0.02   爱奇艺   爱奇艺\n7   2019-10-02    IQ   15.72   15.85   15.87   15.12   8.10 -0.01   爱奇艺   爱奇艺\n8   2019-10-01    IQ   15.92   16.14   16.22   15.50  11.65 -0.01   爱奇艺   爱奇艺\n9   2019-10-03    JD   28.80   28.11   28.97   27.82   8.77  0.03    京东    京东\n10  2019-10-02    JD   28.06   28.00   28.22   27.53   9.53  0.00    京东    京东\n11  2019-10-01    JD   28.19   28.22   28.57   27.97  10.64  0.00    京东    京东",
      "text/html": "<div>\n<style scoped>\n    .dataframe tbody tr th:only-of-type {\n        vertical-align: middle;\n    }\n\n    .dataframe tbody tr th {\n        vertical-align: top;\n    }\n\n    .dataframe thead th {\n        text-align: right;\n    }\n</style>\n<table border=\"1\" class=\"dataframe\">\n  <thead>\n    <tr style=\"text-align: right;\">\n      <th></th>\n      <th>日期</th>\n      <th>公司</th>\n      <th>收盘</th>\n      <th>开盘</th>\n      <th>高</th>\n      <th>低</th>\n      <th>交易量</th>\n      <th>涨跌幅</th>\n      <th>公司中文</th>\n      <th>公司中文2</th>\n    </tr>\n  </thead>\n  <tbody>\n    <tr>\n      <th>0</th>\n      <td>2019-10-03</td>\n      <td>BIDU</td>\n      <td>104.32</td>\n      <td>102.35</td>\n      <td>104.73</td>\n      <td>101.15</td>\n      <td>2.24</td>\n      <td>0.02</td>\n      <td>百度</td>\n      <td>百度</td>\n    </tr>\n    <tr>\n      <th>1</th>\n      <td>2019-10-02</td>\n      <td>BIDU</td>\n      <td>102.62</td>\n      <td>100.85</td>\n      <td>103.24</td>\n      <td>99.50</td>\n      <td>2.69</td>\n      <td>0.01</td>\n      <td>百度</td>\n      <td>百度</td>\n    </tr>\n    <tr>\n      <th>2</th>\n      <td>2019-10-01</td>\n      <td>BIDU</td>\n      <td>102.00</td>\n      <td>102.80</td>\n      <td>103.26</td>\n      <td>101.00</td>\n      <td>1.78</td>\n      <td>-0.01</td>\n      <td>百度</td>\n      <td>百度</td>\n    </tr>\n    <tr>\n      <th>3</th>\n      <td>2019-10-03</td>\n      <td>BABA</td>\n      <td>169.48</td>\n      <td>166.65</td>\n      <td>170.18</td>\n      <td>165.00</td>\n      <td>10.39</td>\n      <td>0.02</td>\n      <td>阿里巴巴</td>\n      <td>阿里巴巴</td>\n    </tr>\n    <tr>\n      <th>4</th>\n      <td>2019-10-02</td>\n      <td>BABA</td>\n      <td>165.77</td>\n      <td>162.82</td>\n      <td>166.88</td>\n      <td>161.90</td>\n      <td>11.60</td>\n      <td>0.00</td>\n      <td>阿里巴巴</td>\n      <td>阿里巴巴</td>\n    </tr>\n    <tr>\n      <th>5</th>\n      <td>2019-10-01</td>\n      <td>BABA</td>\n      <td>165.15</td>\n      <td>168.01</td>\n      <td>168.23</td>\n      <td>163.64</td>\n      <td>14.19</td>\n      <td>-0.01</td>\n      <td>阿里巴巴</td>\n      <td>阿里巴巴</td>\n    </tr>\n    <tr>\n      <th>6</th>\n      <td>2019-10-03</td>\n      <td>IQ</td>\n      <td>16.06</td>\n      <td>15.71</td>\n      <td>16.38</td>\n      <td>15.32</td>\n      <td>10.08</td>\n      <td>0.02</td>\n      <td>爱奇艺</td>\n      <td>爱奇艺</td>\n    </tr>\n    <tr>\n      <th>7</th>\n      <td>2019-10-02</td>\n      <td>IQ</td>\n      <td>15.72</td>\n      <td>15.85</td>\n      <td>15.87</td>\n      <td>15.12</td>\n      <td>8.10</td>\n      <td>-0.01</td>\n      <td>爱奇艺</td>\n      <td>爱奇艺</td>\n    </tr>\n    <tr>\n      <th>8</th>\n      <td>2019-10-01</td>\n      <td>IQ</td>\n      <td>15.92</td>\n      <td>16.14</td>\n      <td>16.22</td>\n      <td>15.50</td>\n      <td>11.65</td>\n      <td>-0.01</td>\n      <td>爱奇艺</td>\n      <td>爱奇艺</td>\n    </tr>\n    <tr>\n      <th>9</th>\n      <td>2019-10-03</td>\n      <td>JD</td>\n      <td>28.80</td>\n      <td>28.11</td>\n      <td>28.97</td>\n      <td>27.82</td>\n      <td>8.77</td>\n      <td>0.03</td>\n      <td>京东</td>\n      <td>京东</td>\n    </tr>\n    <tr>\n      <th>10</th>\n      <td>2019-10-02</td>\n      <td>JD</td>\n      <td>28.06</td>\n      <td>28.00</td>\n      <td>28.22</td>\n      <td>27.53</td>\n      <td>9.53</td>\n      <td>0.00</td>\n      <td>京东</td>\n      <td>京东</td>\n    </tr>\n    <tr>\n      <th>11</th>\n      <td>2019-10-01</td>\n      <td>JD</td>\n      <td>28.19</td>\n      <td>28.22</td>\n      <td>28.57</td>\n      <td>27.97</td>\n      <td>10.64</td>\n      <td>0.00</td>\n      <td>京东</td>\n      <td>京东</td>\n    </tr>\n  </tbody>\n</table>\n</div>"
     },
     "metadata": {},
     "execution_count": 13
    }
   ],
   "source": [
    "stocks"
   ]
  },
  {
   "cell_type": "code",
   "execution_count": null,
   "metadata": {},
   "outputs": [],
   "source": []
  }
 ]
}