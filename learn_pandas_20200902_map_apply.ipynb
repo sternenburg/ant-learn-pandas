{
 "metadata": {
  "language_info": {
   "codemirror_mode": {
    "name": "ipython",
    "version": 3
   },
   "file_extension": ".py",
   "mimetype": "text/x-python",
   "name": "python",
   "nbconvert_exporter": "python",
   "pygments_lexer": "ipython3",
   "version": "3.8.3-final"
  },
  "orig_nbformat": 2,
  "kernelspec": {
   "name": "python_defaultSpec_1599095394256",
   "display_name": "Python 3.8.3 64-bit"
  }
 },
 "nbformat": 4,
 "nbformat_minor": 2,
 "cells": [
  {
   "cell_type": "markdown",
   "metadata": {},
   "source": [
    "# Pandas的数据转换函数map, apply, applymap\n",
    "1. map:只用于Series，实现每个值 -> 值的映射\n",
    "2. apply：可用于Series实现每个值 -> 值的映射，也可以用于Datafram实现单个轴的Series处理\n",
    "3. applymap：只用于Dataframe，实现每个元素的处理"
   ]
  },
  {
   "cell_type": "code",
   "execution_count": 1,
   "metadata": {},
   "outputs": [
    {
     "output_type": "execute_result",
     "data": {
      "text/plain": "           日期    公司      收盘      开盘       高       低    交易量   涨跌幅\n0  2019-10-03  BIDU  104.32  102.35  104.73  101.15   2.24  0.02\n1  2019-10-02  BIDU  102.62  100.85  103.24   99.50   2.69  0.01\n2  2019-10-01  BIDU  102.00  102.80  103.26  101.00   1.78 -0.01\n3  2019-10-03  BABA  169.48  166.65  170.18  165.00  10.39  0.02\n4  2019-10-02  BABA  165.77  162.82  166.88  161.90  11.60  0.00",
      "text/html": "<div>\n<style scoped>\n    .dataframe tbody tr th:only-of-type {\n        vertical-align: middle;\n    }\n\n    .dataframe tbody tr th {\n        vertical-align: top;\n    }\n\n    .dataframe thead th {\n        text-align: right;\n    }\n</style>\n<table border=\"1\" class=\"dataframe\">\n  <thead>\n    <tr style=\"text-align: right;\">\n      <th></th>\n      <th>日期</th>\n      <th>公司</th>\n      <th>收盘</th>\n      <th>开盘</th>\n      <th>高</th>\n      <th>低</th>\n      <th>交易量</th>\n      <th>涨跌幅</th>\n    </tr>\n  </thead>\n  <tbody>\n    <tr>\n      <th>0</th>\n      <td>2019-10-03</td>\n      <td>BIDU</td>\n      <td>104.32</td>\n      <td>102.35</td>\n      <td>104.73</td>\n      <td>101.15</td>\n      <td>2.24</td>\n      <td>0.02</td>\n    </tr>\n    <tr>\n      <th>1</th>\n      <td>2019-10-02</td>\n      <td>BIDU</td>\n      <td>102.62</td>\n      <td>100.85</td>\n      <td>103.24</td>\n      <td>99.50</td>\n      <td>2.69</td>\n      <td>0.01</td>\n    </tr>\n    <tr>\n      <th>2</th>\n      <td>2019-10-01</td>\n      <td>BIDU</td>\n      <td>102.00</td>\n      <td>102.80</td>\n      <td>103.26</td>\n      <td>101.00</td>\n      <td>1.78</td>\n      <td>-0.01</td>\n    </tr>\n    <tr>\n      <th>3</th>\n      <td>2019-10-03</td>\n      <td>BABA</td>\n      <td>169.48</td>\n      <td>166.65</td>\n      <td>170.18</td>\n      <td>165.00</td>\n      <td>10.39</td>\n      <td>0.02</td>\n    </tr>\n    <tr>\n      <th>4</th>\n      <td>2019-10-02</td>\n      <td>BABA</td>\n      <td>165.77</td>\n      <td>162.82</td>\n      <td>166.88</td>\n      <td>161.90</td>\n      <td>11.60</td>\n      <td>0.00</td>\n    </tr>\n  </tbody>\n</table>\n</div>"
     },
     "metadata": {},
     "execution_count": 1
    }
   ],
   "source": [
    "import pandas as pd \n",
    "stocks = pd.read_excel('./datas/stocks/互联网公司股票.xlsx')\n",
    "stocks.head()"
   ]
  },
  {
   "cell_type": "code",
   "execution_count": 2,
   "metadata": {},
   "outputs": [],
   "source": [
    "ls = list(stocks['公司'].unique())"
   ]
  },
  {
   "cell_type": "code",
   "execution_count": 3,
   "metadata": {},
   "outputs": [
    {
     "output_type": "execute_result",
     "data": {
      "text/plain": "['BIDU', 'BABA', 'IQ', 'JD']"
     },
     "metadata": {},
     "execution_count": 3
    }
   ],
   "source": [
    "ls"
   ]
  },
  {
   "cell_type": "code",
   "execution_count": 4,
   "metadata": {},
   "outputs": [],
   "source": [
    "dict_company_names = {\n",
    "    ls[0]:'百度',\n",
    "    ls[1]:'阿里巴巴',\n",
    "    ls[2]:'爱奇艺',\n",
    "    ls[3]:'京东'\n",
    "}"
   ]
  },
  {
   "cell_type": "code",
   "execution_count": 5,
   "metadata": {},
   "outputs": [
    {
     "output_type": "execute_result",
     "data": {
      "text/plain": "{'BIDU': '百度', 'BABA': '阿里巴巴', 'IQ': '爱奇艺', 'JD': '京东'}"
     },
     "metadata": {},
     "execution_count": 5
    }
   ],
   "source": [
    "dict_company_names"
   ]
  },
  {
   "cell_type": "code",
   "execution_count": 6,
   "metadata": {},
   "outputs": [],
   "source": [
    "stocks['公司中文'] = stocks['公司'].map(dict_company_names)"
   ]
  },
  {
   "cell_type": "code",
   "execution_count": 7,
   "metadata": {},
   "outputs": [
    {
     "output_type": "execute_result",
     "data": {
      "text/plain": "            日期    公司      收盘      开盘       高       低    交易量   涨跌幅  公司中文\n0   2019-10-03  BIDU  104.32  102.35  104.73  101.15   2.24  0.02    百度\n1   2019-10-02  BIDU  102.62  100.85  103.24   99.50   2.69  0.01    百度\n2   2019-10-01  BIDU  102.00  102.80  103.26  101.00   1.78 -0.01    百度\n3   2019-10-03  BABA  169.48  166.65  170.18  165.00  10.39  0.02  阿里巴巴\n4   2019-10-02  BABA  165.77  162.82  166.88  161.90  11.60  0.00  阿里巴巴\n5   2019-10-01  BABA  165.15  168.01  168.23  163.64  14.19 -0.01  阿里巴巴\n6   2019-10-03    IQ   16.06   15.71   16.38   15.32  10.08  0.02   爱奇艺\n7   2019-10-02    IQ   15.72   15.85   15.87   15.12   8.10 -0.01   爱奇艺\n8   2019-10-01    IQ   15.92   16.14   16.22   15.50  11.65 -0.01   爱奇艺\n9   2019-10-03    JD   28.80   28.11   28.97   27.82   8.77  0.03    京东\n10  2019-10-02    JD   28.06   28.00   28.22   27.53   9.53  0.00    京东\n11  2019-10-01    JD   28.19   28.22   28.57   27.97  10.64  0.00    京东",
      "text/html": "<div>\n<style scoped>\n    .dataframe tbody tr th:only-of-type {\n        vertical-align: middle;\n    }\n\n    .dataframe tbody tr th {\n        vertical-align: top;\n    }\n\n    .dataframe thead th {\n        text-align: right;\n    }\n</style>\n<table border=\"1\" class=\"dataframe\">\n  <thead>\n    <tr style=\"text-align: right;\">\n      <th></th>\n      <th>日期</th>\n      <th>公司</th>\n      <th>收盘</th>\n      <th>开盘</th>\n      <th>高</th>\n      <th>低</th>\n      <th>交易量</th>\n      <th>涨跌幅</th>\n      <th>公司中文</th>\n    </tr>\n  </thead>\n  <tbody>\n    <tr>\n      <th>0</th>\n      <td>2019-10-03</td>\n      <td>BIDU</td>\n      <td>104.32</td>\n      <td>102.35</td>\n      <td>104.73</td>\n      <td>101.15</td>\n      <td>2.24</td>\n      <td>0.02</td>\n      <td>百度</td>\n    </tr>\n    <tr>\n      <th>1</th>\n      <td>2019-10-02</td>\n      <td>BIDU</td>\n      <td>102.62</td>\n      <td>100.85</td>\n      <td>103.24</td>\n      <td>99.50</td>\n      <td>2.69</td>\n      <td>0.01</td>\n      <td>百度</td>\n    </tr>\n    <tr>\n      <th>2</th>\n      <td>2019-10-01</td>\n      <td>BIDU</td>\n      <td>102.00</td>\n      <td>102.80</td>\n      <td>103.26</td>\n      <td>101.00</td>\n      <td>1.78</td>\n      <td>-0.01</td>\n      <td>百度</td>\n    </tr>\n    <tr>\n      <th>3</th>\n      <td>2019-10-03</td>\n      <td>BABA</td>\n      <td>169.48</td>\n      <td>166.65</td>\n      <td>170.18</td>\n      <td>165.00</td>\n      <td>10.39</td>\n      <td>0.02</td>\n      <td>阿里巴巴</td>\n    </tr>\n    <tr>\n      <th>4</th>\n      <td>2019-10-02</td>\n      <td>BABA</td>\n      <td>165.77</td>\n      <td>162.82</td>\n      <td>166.88</td>\n      <td>161.90</td>\n      <td>11.60</td>\n      <td>0.00</td>\n      <td>阿里巴巴</td>\n    </tr>\n    <tr>\n      <th>5</th>\n      <td>2019-10-01</td>\n      <td>BABA</td>\n      <td>165.15</td>\n      <td>168.01</td>\n      <td>168.23</td>\n      <td>163.64</td>\n      <td>14.19</td>\n      <td>-0.01</td>\n      <td>阿里巴巴</td>\n    </tr>\n    <tr>\n      <th>6</th>\n      <td>2019-10-03</td>\n      <td>IQ</td>\n      <td>16.06</td>\n      <td>15.71</td>\n      <td>16.38</td>\n      <td>15.32</td>\n      <td>10.08</td>\n      <td>0.02</td>\n      <td>爱奇艺</td>\n    </tr>\n    <tr>\n      <th>7</th>\n      <td>2019-10-02</td>\n      <td>IQ</td>\n      <td>15.72</td>\n      <td>15.85</td>\n      <td>15.87</td>\n      <td>15.12</td>\n      <td>8.10</td>\n      <td>-0.01</td>\n      <td>爱奇艺</td>\n    </tr>\n    <tr>\n      <th>8</th>\n      <td>2019-10-01</td>\n      <td>IQ</td>\n      <td>15.92</td>\n      <td>16.14</td>\n      <td>16.22</td>\n      <td>15.50</td>\n      <td>11.65</td>\n      <td>-0.01</td>\n      <td>爱奇艺</td>\n    </tr>\n    <tr>\n      <th>9</th>\n      <td>2019-10-03</td>\n      <td>JD</td>\n      <td>28.80</td>\n      <td>28.11</td>\n      <td>28.97</td>\n      <td>27.82</td>\n      <td>8.77</td>\n      <td>0.03</td>\n      <td>京东</td>\n    </tr>\n    <tr>\n      <th>10</th>\n      <td>2019-10-02</td>\n      <td>JD</td>\n      <td>28.06</td>\n      <td>28.00</td>\n      <td>28.22</td>\n      <td>27.53</td>\n      <td>9.53</td>\n      <td>0.00</td>\n      <td>京东</td>\n    </tr>\n    <tr>\n      <th>11</th>\n      <td>2019-10-01</td>\n      <td>JD</td>\n      <td>28.19</td>\n      <td>28.22</td>\n      <td>28.57</td>\n      <td>27.97</td>\n      <td>10.64</td>\n      <td>0.00</td>\n      <td>京东</td>\n    </tr>\n  </tbody>\n</table>\n</div>"
     },
     "metadata": {},
     "execution_count": 7
    }
   ],
   "source": [
    "stocks"
   ]
  },
  {
   "cell_type": "code",
   "execution_count": 8,
   "metadata": {},
   "outputs": [],
   "source": [
    "stocks['公司中文2'] = stocks['公司'].map(lambda x: dict_company_names[x])"
   ]
  },
  {
   "cell_type": "code",
   "execution_count": 9,
   "metadata": {},
   "outputs": [
    {
     "output_type": "execute_result",
     "data": {
      "text/plain": "            日期    公司      收盘      开盘       高       低    交易量   涨跌幅  公司中文 公司中文2\n0   2019-10-03  BIDU  104.32  102.35  104.73  101.15   2.24  0.02    百度    百度\n1   2019-10-02  BIDU  102.62  100.85  103.24   99.50   2.69  0.01    百度    百度\n2   2019-10-01  BIDU  102.00  102.80  103.26  101.00   1.78 -0.01    百度    百度\n3   2019-10-03  BABA  169.48  166.65  170.18  165.00  10.39  0.02  阿里巴巴  阿里巴巴\n4   2019-10-02  BABA  165.77  162.82  166.88  161.90  11.60  0.00  阿里巴巴  阿里巴巴\n5   2019-10-01  BABA  165.15  168.01  168.23  163.64  14.19 -0.01  阿里巴巴  阿里巴巴\n6   2019-10-03    IQ   16.06   15.71   16.38   15.32  10.08  0.02   爱奇艺   爱奇艺\n7   2019-10-02    IQ   15.72   15.85   15.87   15.12   8.10 -0.01   爱奇艺   爱奇艺\n8   2019-10-01    IQ   15.92   16.14   16.22   15.50  11.65 -0.01   爱奇艺   爱奇艺\n9   2019-10-03    JD   28.80   28.11   28.97   27.82   8.77  0.03    京东    京东\n10  2019-10-02    JD   28.06   28.00   28.22   27.53   9.53  0.00    京东    京东\n11  2019-10-01    JD   28.19   28.22   28.57   27.97  10.64  0.00    京东    京东",
      "text/html": "<div>\n<style scoped>\n    .dataframe tbody tr th:only-of-type {\n        vertical-align: middle;\n    }\n\n    .dataframe tbody tr th {\n        vertical-align: top;\n    }\n\n    .dataframe thead th {\n        text-align: right;\n    }\n</style>\n<table border=\"1\" class=\"dataframe\">\n  <thead>\n    <tr style=\"text-align: right;\">\n      <th></th>\n      <th>日期</th>\n      <th>公司</th>\n      <th>收盘</th>\n      <th>开盘</th>\n      <th>高</th>\n      <th>低</th>\n      <th>交易量</th>\n      <th>涨跌幅</th>\n      <th>公司中文</th>\n      <th>公司中文2</th>\n    </tr>\n  </thead>\n  <tbody>\n    <tr>\n      <th>0</th>\n      <td>2019-10-03</td>\n      <td>BIDU</td>\n      <td>104.32</td>\n      <td>102.35</td>\n      <td>104.73</td>\n      <td>101.15</td>\n      <td>2.24</td>\n      <td>0.02</td>\n      <td>百度</td>\n      <td>百度</td>\n    </tr>\n    <tr>\n      <th>1</th>\n      <td>2019-10-02</td>\n      <td>BIDU</td>\n      <td>102.62</td>\n      <td>100.85</td>\n      <td>103.24</td>\n      <td>99.50</td>\n      <td>2.69</td>\n      <td>0.01</td>\n      <td>百度</td>\n      <td>百度</td>\n    </tr>\n    <tr>\n      <th>2</th>\n      <td>2019-10-01</td>\n      <td>BIDU</td>\n      <td>102.00</td>\n      <td>102.80</td>\n      <td>103.26</td>\n      <td>101.00</td>\n      <td>1.78</td>\n      <td>-0.01</td>\n      <td>百度</td>\n      <td>百度</td>\n    </tr>\n    <tr>\n      <th>3</th>\n      <td>2019-10-03</td>\n      <td>BABA</td>\n      <td>169.48</td>\n      <td>166.65</td>\n      <td>170.18</td>\n      <td>165.00</td>\n      <td>10.39</td>\n      <td>0.02</td>\n      <td>阿里巴巴</td>\n      <td>阿里巴巴</td>\n    </tr>\n    <tr>\n      <th>4</th>\n      <td>2019-10-02</td>\n      <td>BABA</td>\n      <td>165.77</td>\n      <td>162.82</td>\n      <td>166.88</td>\n      <td>161.90</td>\n      <td>11.60</td>\n      <td>0.00</td>\n      <td>阿里巴巴</td>\n      <td>阿里巴巴</td>\n    </tr>\n    <tr>\n      <th>5</th>\n      <td>2019-10-01</td>\n      <td>BABA</td>\n      <td>165.15</td>\n      <td>168.01</td>\n      <td>168.23</td>\n      <td>163.64</td>\n      <td>14.19</td>\n      <td>-0.01</td>\n      <td>阿里巴巴</td>\n      <td>阿里巴巴</td>\n    </tr>\n    <tr>\n      <th>6</th>\n      <td>2019-10-03</td>\n      <td>IQ</td>\n      <td>16.06</td>\n      <td>15.71</td>\n      <td>16.38</td>\n      <td>15.32</td>\n      <td>10.08</td>\n      <td>0.02</td>\n      <td>爱奇艺</td>\n      <td>爱奇艺</td>\n    </tr>\n    <tr>\n      <th>7</th>\n      <td>2019-10-02</td>\n      <td>IQ</td>\n      <td>15.72</td>\n      <td>15.85</td>\n      <td>15.87</td>\n      <td>15.12</td>\n      <td>8.10</td>\n      <td>-0.01</td>\n      <td>爱奇艺</td>\n      <td>爱奇艺</td>\n    </tr>\n    <tr>\n      <th>8</th>\n      <td>2019-10-01</td>\n      <td>IQ</td>\n      <td>15.92</td>\n      <td>16.14</td>\n      <td>16.22</td>\n      <td>15.50</td>\n      <td>11.65</td>\n      <td>-0.01</td>\n      <td>爱奇艺</td>\n      <td>爱奇艺</td>\n    </tr>\n    <tr>\n      <th>9</th>\n      <td>2019-10-03</td>\n      <td>JD</td>\n      <td>28.80</td>\n      <td>28.11</td>\n      <td>28.97</td>\n      <td>27.82</td>\n      <td>8.77</td>\n      <td>0.03</td>\n      <td>京东</td>\n      <td>京东</td>\n    </tr>\n    <tr>\n      <th>10</th>\n      <td>2019-10-02</td>\n      <td>JD</td>\n      <td>28.06</td>\n      <td>28.00</td>\n      <td>28.22</td>\n      <td>27.53</td>\n      <td>9.53</td>\n      <td>0.00</td>\n      <td>京东</td>\n      <td>京东</td>\n    </tr>\n    <tr>\n      <th>11</th>\n      <td>2019-10-01</td>\n      <td>JD</td>\n      <td>28.19</td>\n      <td>28.22</td>\n      <td>28.57</td>\n      <td>27.97</td>\n      <td>10.64</td>\n      <td>0.00</td>\n      <td>京东</td>\n      <td>京东</td>\n    </tr>\n  </tbody>\n</table>\n</div>"
     },
     "metadata": {},
     "execution_count": 9
    }
   ],
   "source": [
    "stocks"
   ]
  },
  {
   "cell_type": "code",
   "execution_count": 10,
   "metadata": {},
   "outputs": [],
   "source": [
    "stocks['公司中文3'] = stocks['公司'].apply(\n",
    "    lambda x: dict_company_names[x]\n",
    ")"
   ]
  },
  {
   "cell_type": "code",
   "execution_count": 11,
   "metadata": {},
   "outputs": [
    {
     "output_type": "execute_result",
     "data": {
      "text/plain": "            日期    公司      收盘      开盘       高       低    交易量   涨跌幅  公司中文 公司中文2  \\\n0   2019-10-03  BIDU  104.32  102.35  104.73  101.15   2.24  0.02    百度    百度   \n1   2019-10-02  BIDU  102.62  100.85  103.24   99.50   2.69  0.01    百度    百度   \n2   2019-10-01  BIDU  102.00  102.80  103.26  101.00   1.78 -0.01    百度    百度   \n3   2019-10-03  BABA  169.48  166.65  170.18  165.00  10.39  0.02  阿里巴巴  阿里巴巴   \n4   2019-10-02  BABA  165.77  162.82  166.88  161.90  11.60  0.00  阿里巴巴  阿里巴巴   \n5   2019-10-01  BABA  165.15  168.01  168.23  163.64  14.19 -0.01  阿里巴巴  阿里巴巴   \n6   2019-10-03    IQ   16.06   15.71   16.38   15.32  10.08  0.02   爱奇艺   爱奇艺   \n7   2019-10-02    IQ   15.72   15.85   15.87   15.12   8.10 -0.01   爱奇艺   爱奇艺   \n8   2019-10-01    IQ   15.92   16.14   16.22   15.50  11.65 -0.01   爱奇艺   爱奇艺   \n9   2019-10-03    JD   28.80   28.11   28.97   27.82   8.77  0.03    京东    京东   \n10  2019-10-02    JD   28.06   28.00   28.22   27.53   9.53  0.00    京东    京东   \n11  2019-10-01    JD   28.19   28.22   28.57   27.97  10.64  0.00    京东    京东   \n\n   公司中文3  \n0     百度  \n1     百度  \n2     百度  \n3   阿里巴巴  \n4   阿里巴巴  \n5   阿里巴巴  \n6    爱奇艺  \n7    爱奇艺  \n8    爱奇艺  \n9     京东  \n10    京东  \n11    京东  ",
      "text/html": "<div>\n<style scoped>\n    .dataframe tbody tr th:only-of-type {\n        vertical-align: middle;\n    }\n\n    .dataframe tbody tr th {\n        vertical-align: top;\n    }\n\n    .dataframe thead th {\n        text-align: right;\n    }\n</style>\n<table border=\"1\" class=\"dataframe\">\n  <thead>\n    <tr style=\"text-align: right;\">\n      <th></th>\n      <th>日期</th>\n      <th>公司</th>\n      <th>收盘</th>\n      <th>开盘</th>\n      <th>高</th>\n      <th>低</th>\n      <th>交易量</th>\n      <th>涨跌幅</th>\n      <th>公司中文</th>\n      <th>公司中文2</th>\n      <th>公司中文3</th>\n    </tr>\n  </thead>\n  <tbody>\n    <tr>\n      <th>0</th>\n      <td>2019-10-03</td>\n      <td>BIDU</td>\n      <td>104.32</td>\n      <td>102.35</td>\n      <td>104.73</td>\n      <td>101.15</td>\n      <td>2.24</td>\n      <td>0.02</td>\n      <td>百度</td>\n      <td>百度</td>\n      <td>百度</td>\n    </tr>\n    <tr>\n      <th>1</th>\n      <td>2019-10-02</td>\n      <td>BIDU</td>\n      <td>102.62</td>\n      <td>100.85</td>\n      <td>103.24</td>\n      <td>99.50</td>\n      <td>2.69</td>\n      <td>0.01</td>\n      <td>百度</td>\n      <td>百度</td>\n      <td>百度</td>\n    </tr>\n    <tr>\n      <th>2</th>\n      <td>2019-10-01</td>\n      <td>BIDU</td>\n      <td>102.00</td>\n      <td>102.80</td>\n      <td>103.26</td>\n      <td>101.00</td>\n      <td>1.78</td>\n      <td>-0.01</td>\n      <td>百度</td>\n      <td>百度</td>\n      <td>百度</td>\n    </tr>\n    <tr>\n      <th>3</th>\n      <td>2019-10-03</td>\n      <td>BABA</td>\n      <td>169.48</td>\n      <td>166.65</td>\n      <td>170.18</td>\n      <td>165.00</td>\n      <td>10.39</td>\n      <td>0.02</td>\n      <td>阿里巴巴</td>\n      <td>阿里巴巴</td>\n      <td>阿里巴巴</td>\n    </tr>\n    <tr>\n      <th>4</th>\n      <td>2019-10-02</td>\n      <td>BABA</td>\n      <td>165.77</td>\n      <td>162.82</td>\n      <td>166.88</td>\n      <td>161.90</td>\n      <td>11.60</td>\n      <td>0.00</td>\n      <td>阿里巴巴</td>\n      <td>阿里巴巴</td>\n      <td>阿里巴巴</td>\n    </tr>\n    <tr>\n      <th>5</th>\n      <td>2019-10-01</td>\n      <td>BABA</td>\n      <td>165.15</td>\n      <td>168.01</td>\n      <td>168.23</td>\n      <td>163.64</td>\n      <td>14.19</td>\n      <td>-0.01</td>\n      <td>阿里巴巴</td>\n      <td>阿里巴巴</td>\n      <td>阿里巴巴</td>\n    </tr>\n    <tr>\n      <th>6</th>\n      <td>2019-10-03</td>\n      <td>IQ</td>\n      <td>16.06</td>\n      <td>15.71</td>\n      <td>16.38</td>\n      <td>15.32</td>\n      <td>10.08</td>\n      <td>0.02</td>\n      <td>爱奇艺</td>\n      <td>爱奇艺</td>\n      <td>爱奇艺</td>\n    </tr>\n    <tr>\n      <th>7</th>\n      <td>2019-10-02</td>\n      <td>IQ</td>\n      <td>15.72</td>\n      <td>15.85</td>\n      <td>15.87</td>\n      <td>15.12</td>\n      <td>8.10</td>\n      <td>-0.01</td>\n      <td>爱奇艺</td>\n      <td>爱奇艺</td>\n      <td>爱奇艺</td>\n    </tr>\n    <tr>\n      <th>8</th>\n      <td>2019-10-01</td>\n      <td>IQ</td>\n      <td>15.92</td>\n      <td>16.14</td>\n      <td>16.22</td>\n      <td>15.50</td>\n      <td>11.65</td>\n      <td>-0.01</td>\n      <td>爱奇艺</td>\n      <td>爱奇艺</td>\n      <td>爱奇艺</td>\n    </tr>\n    <tr>\n      <th>9</th>\n      <td>2019-10-03</td>\n      <td>JD</td>\n      <td>28.80</td>\n      <td>28.11</td>\n      <td>28.97</td>\n      <td>27.82</td>\n      <td>8.77</td>\n      <td>0.03</td>\n      <td>京东</td>\n      <td>京东</td>\n      <td>京东</td>\n    </tr>\n    <tr>\n      <th>10</th>\n      <td>2019-10-02</td>\n      <td>JD</td>\n      <td>28.06</td>\n      <td>28.00</td>\n      <td>28.22</td>\n      <td>27.53</td>\n      <td>9.53</td>\n      <td>0.00</td>\n      <td>京东</td>\n      <td>京东</td>\n      <td>京东</td>\n    </tr>\n    <tr>\n      <th>11</th>\n      <td>2019-10-01</td>\n      <td>JD</td>\n      <td>28.19</td>\n      <td>28.22</td>\n      <td>28.57</td>\n      <td>27.97</td>\n      <td>10.64</td>\n      <td>0.00</td>\n      <td>京东</td>\n      <td>京东</td>\n      <td>京东</td>\n    </tr>\n  </tbody>\n</table>\n</div>"
     },
     "metadata": {},
     "execution_count": 11
    }
   ],
   "source": [
    "stocks"
   ]
  },
  {
   "cell_type": "code",
   "execution_count": 15,
   "metadata": {},
   "outputs": [
    {
     "output_type": "execute_result",
     "data": {
      "text/plain": "     收盘   开盘    高    低  交易量\n0   104  102  104  101    2\n1   102  100  103   99    2\n2   102  102  103  101    1\n3   169  166  170  165   10\n4   165  162  166  161   11\n5   165  168  168  163   14\n6    16   15   16   15   10\n7    15   15   15   15    8\n8    15   16   16   15   11\n9    28   28   28   27    8\n10   28   28   28   27    9\n11   28   28   28   27   10",
      "text/html": "<div>\n<style scoped>\n    .dataframe tbody tr th:only-of-type {\n        vertical-align: middle;\n    }\n\n    .dataframe tbody tr th {\n        vertical-align: top;\n    }\n\n    .dataframe thead th {\n        text-align: right;\n    }\n</style>\n<table border=\"1\" class=\"dataframe\">\n  <thead>\n    <tr style=\"text-align: right;\">\n      <th></th>\n      <th>收盘</th>\n      <th>开盘</th>\n      <th>高</th>\n      <th>低</th>\n      <th>交易量</th>\n    </tr>\n  </thead>\n  <tbody>\n    <tr>\n      <th>0</th>\n      <td>104</td>\n      <td>102</td>\n      <td>104</td>\n      <td>101</td>\n      <td>2</td>\n    </tr>\n    <tr>\n      <th>1</th>\n      <td>102</td>\n      <td>100</td>\n      <td>103</td>\n      <td>99</td>\n      <td>2</td>\n    </tr>\n    <tr>\n      <th>2</th>\n      <td>102</td>\n      <td>102</td>\n      <td>103</td>\n      <td>101</td>\n      <td>1</td>\n    </tr>\n    <tr>\n      <th>3</th>\n      <td>169</td>\n      <td>166</td>\n      <td>170</td>\n      <td>165</td>\n      <td>10</td>\n    </tr>\n    <tr>\n      <th>4</th>\n      <td>165</td>\n      <td>162</td>\n      <td>166</td>\n      <td>161</td>\n      <td>11</td>\n    </tr>\n    <tr>\n      <th>5</th>\n      <td>165</td>\n      <td>168</td>\n      <td>168</td>\n      <td>163</td>\n      <td>14</td>\n    </tr>\n    <tr>\n      <th>6</th>\n      <td>16</td>\n      <td>15</td>\n      <td>16</td>\n      <td>15</td>\n      <td>10</td>\n    </tr>\n    <tr>\n      <th>7</th>\n      <td>15</td>\n      <td>15</td>\n      <td>15</td>\n      <td>15</td>\n      <td>8</td>\n    </tr>\n    <tr>\n      <th>8</th>\n      <td>15</td>\n      <td>16</td>\n      <td>16</td>\n      <td>15</td>\n      <td>11</td>\n    </tr>\n    <tr>\n      <th>9</th>\n      <td>28</td>\n      <td>28</td>\n      <td>28</td>\n      <td>27</td>\n      <td>8</td>\n    </tr>\n    <tr>\n      <th>10</th>\n      <td>28</td>\n      <td>28</td>\n      <td>28</td>\n      <td>27</td>\n      <td>9</td>\n    </tr>\n    <tr>\n      <th>11</th>\n      <td>28</td>\n      <td>28</td>\n      <td>28</td>\n      <td>27</td>\n      <td>10</td>\n    </tr>\n  </tbody>\n</table>\n</div>"
     },
     "metadata": {},
     "execution_count": 15
    }
   ],
   "source": [
    "stocks.loc[:, ['收盘', '开盘', '高', '低', '交易量']].applymap(lambda x: int(x))"
   ]
  },
  {
   "cell_type": "markdown",
   "metadata": {},
   "source": [
    "## 用apply函数查找每个月的最高温度，以图表形式展示"
   ]
  },
  {
   "cell_type": "code",
   "execution_count": 16,
   "metadata": {},
   "outputs": [
    {
     "output_type": "execute_result",
     "data": {
      "text/plain": "          ymd  bWendu  yWendu tianqi fengxiang fengli  aqi aqiInfo  aqiLevel  \\\n0  2019-01-01       6       3   阴~多云       西北风     3级   39       优         1   \n1  2019-01-02       8       4   阴~多云       东北风     2级   86       良         2   \n2  2019-01-03      10       8  多云~小雨       东北风     2级   71       良         2   \n3  2019-01-04      10       8     小雨       东南风     2级   33       优         1   \n4  2019-01-05      10       5     小雨       西北风     2级   46       优         1   \n\n     month  \n0  2019-01  \n1  2019-01  \n2  2019-01  \n3  2019-01  \n4  2019-01  ",
      "text/html": "<div>\n<style scoped>\n    .dataframe tbody tr th:only-of-type {\n        vertical-align: middle;\n    }\n\n    .dataframe tbody tr th {\n        vertical-align: top;\n    }\n\n    .dataframe thead th {\n        text-align: right;\n    }\n</style>\n<table border=\"1\" class=\"dataframe\">\n  <thead>\n    <tr style=\"text-align: right;\">\n      <th></th>\n      <th>ymd</th>\n      <th>bWendu</th>\n      <th>yWendu</th>\n      <th>tianqi</th>\n      <th>fengxiang</th>\n      <th>fengli</th>\n      <th>aqi</th>\n      <th>aqiInfo</th>\n      <th>aqiLevel</th>\n      <th>month</th>\n    </tr>\n  </thead>\n  <tbody>\n    <tr>\n      <th>0</th>\n      <td>2019-01-01</td>\n      <td>6</td>\n      <td>3</td>\n      <td>阴~多云</td>\n      <td>西北风</td>\n      <td>3级</td>\n      <td>39</td>\n      <td>优</td>\n      <td>1</td>\n      <td>2019-01</td>\n    </tr>\n    <tr>\n      <th>1</th>\n      <td>2019-01-02</td>\n      <td>8</td>\n      <td>4</td>\n      <td>阴~多云</td>\n      <td>东北风</td>\n      <td>2级</td>\n      <td>86</td>\n      <td>良</td>\n      <td>2</td>\n      <td>2019-01</td>\n    </tr>\n    <tr>\n      <th>2</th>\n      <td>2019-01-03</td>\n      <td>10</td>\n      <td>8</td>\n      <td>多云~小雨</td>\n      <td>东北风</td>\n      <td>2级</td>\n      <td>71</td>\n      <td>良</td>\n      <td>2</td>\n      <td>2019-01</td>\n    </tr>\n    <tr>\n      <th>3</th>\n      <td>2019-01-04</td>\n      <td>10</td>\n      <td>8</td>\n      <td>小雨</td>\n      <td>东南风</td>\n      <td>2级</td>\n      <td>33</td>\n      <td>优</td>\n      <td>1</td>\n      <td>2019-01</td>\n    </tr>\n    <tr>\n      <th>4</th>\n      <td>2019-01-05</td>\n      <td>10</td>\n      <td>5</td>\n      <td>小雨</td>\n      <td>西北风</td>\n      <td>2级</td>\n      <td>46</td>\n      <td>优</td>\n      <td>1</td>\n      <td>2019-01</td>\n    </tr>\n  </tbody>\n</table>\n</div>"
     },
     "metadata": {},
     "execution_count": 16
    }
   ],
   "source": [
    "fpath = \"./shanghai_weather/shanghai_weather_2019.csv\"\n",
    "df = pd.read_csv(fpath)\n",
    "# 替换掉温度的后缀℃\n",
    "df.loc[:, \"bWendu\"] = df[\"bWendu\"].str.replace(\"℃\", \"\").astype('int32')\n",
    "df.loc[:, \"yWendu\"] = df[\"yWendu\"].str.replace(\"℃\", \"\").astype('int32')\n",
    "# 新增一列为月份\n",
    "df['month'] = df['ymd'].str[:7]\n",
    "df.head()"
   ]
  },
  {
   "cell_type": "code",
   "execution_count": 27,
   "metadata": {},
   "outputs": [
    {
     "output_type": "execute_result",
     "data": {
      "text/plain": "                   ymd  bWendu\nmonth                         \n2019-01 22  2019-01-23      12\n        23  2019-01-24      12\n        18  2019-01-19      13\n        29  2019-01-30      15\n2019-02 35  2019-02-05      14",
      "text/html": "<div>\n<style scoped>\n    .dataframe tbody tr th:only-of-type {\n        vertical-align: middle;\n    }\n\n    .dataframe tbody tr th {\n        vertical-align: top;\n    }\n\n    .dataframe thead th {\n        text-align: right;\n    }\n</style>\n<table border=\"1\" class=\"dataframe\">\n  <thead>\n    <tr style=\"text-align: right;\">\n      <th></th>\n      <th></th>\n      <th>ymd</th>\n      <th>bWendu</th>\n    </tr>\n    <tr>\n      <th>month</th>\n      <th></th>\n      <th></th>\n      <th></th>\n    </tr>\n  </thead>\n  <tbody>\n    <tr>\n      <th rowspan=\"4\" valign=\"top\">2019-01</th>\n      <th>22</th>\n      <td>2019-01-23</td>\n      <td>12</td>\n    </tr>\n    <tr>\n      <th>23</th>\n      <td>2019-01-24</td>\n      <td>12</td>\n    </tr>\n    <tr>\n      <th>18</th>\n      <td>2019-01-19</td>\n      <td>13</td>\n    </tr>\n    <tr>\n      <th>29</th>\n      <td>2019-01-30</td>\n      <td>15</td>\n    </tr>\n    <tr>\n      <th>2019-02</th>\n      <th>35</th>\n      <td>2019-02-05</td>\n      <td>14</td>\n    </tr>\n  </tbody>\n</table>\n</div>"
     },
     "metadata": {},
     "execution_count": 27
    }
   ],
   "source": [
    "# 定义取得最高温度的函数\n",
    "def getWenduTopN(df, topn):\n",
    "    return df.sort_values(by='bWendu')[['ymd', 'bWendu']][-topn:]\n",
    "\n",
    "df.groupby('month').apply(getWenduTopN, topn=4).head()"
   ]
  },
  {
   "cell_type": "code",
   "execution_count": null,
   "metadata": {},
   "outputs": [],
   "source": []
  }
 ]
}