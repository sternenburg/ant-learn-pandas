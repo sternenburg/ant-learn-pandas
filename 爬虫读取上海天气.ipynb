{
 "metadata": {
  "language_info": {
   "codemirror_mode": {
    "name": "ipython",
    "version": 3
   },
   "file_extension": ".py",
   "mimetype": "text/x-python",
   "name": "python",
   "nbconvert_exporter": "python",
   "pygments_lexer": "ipython3",
   "version": "3.7.4-final"
  },
  "orig_nbformat": 2,
  "kernelspec": {
   "name": "python37464bit996bc1b053e443969e72b61be9e433e9",
   "display_name": "Python 3.7.4 64-bit"
  }
 },
 "nbformat": 4,
 "nbformat_minor": 2,
 "cells": [
  {
   "cell_type": "markdown",
   "metadata": {},
   "source": [
    "## 爬虫读取2345天气网2019年上海的天气，并保存为csv文件"
   ]
  },
  {
   "cell_type": "code",
   "execution_count": 1,
   "metadata": {},
   "outputs": [
    {
     "output_type": "execute_result",
     "data": {
      "text/plain": "['201901',\n '201902',\n '201903',\n '201904',\n '201905',\n '201906',\n '201907',\n '201908',\n '201909',\n '201910',\n '201911',\n '201912']"
     },
     "metadata": {},
     "execution_count": 1
    }
   ],
   "source": [
    "months = []\n",
    "for year in (2019, ):\n",
    "    for month in range(12):\n",
    "        months.append('%d%02d'%(year, month+1))\n",
    "months"
   ]
  },
  {
   "cell_type": "code",
   "execution_count": 2,
   "metadata": {},
   "outputs": [],
   "source": [
    "todo_urls = [\n",
    "    f\"http://tianqi.2345.com/t/wea_history/js/{month}/58362_{month}.js\"\n",
    "    for month in months\n",
    "]"
   ]
  },
  {
   "cell_type": "code",
   "execution_count": 3,
   "metadata": {},
   "outputs": [
    {
     "output_type": "execute_result",
     "data": {
      "text/plain": "['http://tianqi.2345.com/t/wea_history/js/201901/58362_201901.js',\n 'http://tianqi.2345.com/t/wea_history/js/201902/58362_201902.js',\n 'http://tianqi.2345.com/t/wea_history/js/201903/58362_201903.js',\n 'http://tianqi.2345.com/t/wea_history/js/201904/58362_201904.js',\n 'http://tianqi.2345.com/t/wea_history/js/201905/58362_201905.js',\n 'http://tianqi.2345.com/t/wea_history/js/201906/58362_201906.js',\n 'http://tianqi.2345.com/t/wea_history/js/201907/58362_201907.js',\n 'http://tianqi.2345.com/t/wea_history/js/201908/58362_201908.js',\n 'http://tianqi.2345.com/t/wea_history/js/201909/58362_201909.js',\n 'http://tianqi.2345.com/t/wea_history/js/201910/58362_201910.js',\n 'http://tianqi.2345.com/t/wea_history/js/201911/58362_201911.js',\n 'http://tianqi.2345.com/t/wea_history/js/201912/58362_201912.js']"
     },
     "metadata": {},
     "execution_count": 3
    }
   ],
   "source": [
    "todo_urls"
   ]
  },
  {
   "cell_type": "code",
   "execution_count": 4,
   "metadata": {},
   "outputs": [],
   "source": [
    "import requests"
   ]
  },
  {
   "cell_type": "code",
   "execution_count": 5,
   "metadata": {},
   "outputs": [],
   "source": [
    "datas = []"
   ]
  },
  {
   "cell_type": "code",
   "execution_count": 6,
   "metadata": {},
   "outputs": [],
   "source": [
    "for url in todo_urls:\n",
    "    r = requests.get(url)\n",
    "    if r.status_code != 200:\n",
    "        raise Exception()\n",
    "    # 去除javascript前后的字符串，达到一个js格式的JSON\n",
    "    data = r.text.lstrip(\"var weather_str=\").rstrip(\";\")\n",
    "    datas.append(data)"
   ]
  },
  {
   "cell_type": "code",
   "execution_count": 7,
   "metadata": {},
   "outputs": [
    {
     "output_type": "execute_result",
     "data": {
      "text/plain": "\"{city:'上海',tqInfo:[{ymd:'2019-01-01',bWendu:'6℃',yWendu:'3℃',tianqi:'阴~多云',fengxiang:'西北风',fengli:'3级',aqi:'39',aqiInfo:'优',aqiLevel:'1'},{ymd:'2019-01-02',bWendu:'8℃',yWendu:'4℃',tianqi:'阴~多云',fengxiang:'东北风',fengli:'2级',aqi:'86',aqiInfo:'良',aqiLevel:'2'},{ymd:'2019-01-03',bWendu:'10℃',yWendu:'8℃',tianqi:'多云~小雨',fengxiang:'东北风',fengli:'2级',aqi:'71',aqiInfo:'良',aqiLevel:'2'},{ymd:'2019-01-04',bWendu:'10℃',yWendu:'8℃',tianqi:'小雨',fengxiang:'东南风',fengli:'2级',aqi:'33',aqiInfo:'优',aqiLevel:'1'},{ymd:'2019-01-05',bWendu:'10℃',yWendu:'5℃',tianqi:'小雨',fengxiang:'西北风',fengli:'2级',aqi:'46',aqiInfo:'优',aqiLevel:'1'},{ymd:'2019-01-06',bWendu:'8℃',yWendu:'5℃',tianqi:'阴~多云',fengxiang:'东北风',fengli:'2级',aqi:'43',aqiInfo:'优',aqiLevel:'1'},{ymd:'2019-01-07',bWendu:'8℃',yWendu:'6℃',tianqi:'小雨~阴',fengxiang:'东北风',fengli:'2级',aqi:'41',aqiInfo:'优',aqiLevel:'1'},{ymd:'2019-01-08',bWendu:'8℃',yWendu:'5℃',tianqi:'多云~阴',fengxiang:'东北风',fengli:'3级',aqi:'73',aqiInfo:'良',aqiLevel:'2'},{ymd:'2019-01-09',bWendu:'7℃',yWendu:'6℃',tianqi:'小雨',fengxiang:'东北风',fengli:'3级',aqi:'37',aqiInfo:'优',aqiLevel:'1'},{ymd:'2019-01-10',bWendu:'9℃',yWendu:'7℃',tianqi:'小雨',fengxiang:'东北风',fengli:'2级',aqi:'28',aqiInfo:'优',aqiLevel:'1'},{ymd:'2019-01-11',bWendu:'9℃',yWendu:'6℃',tianqi:'小雨',fengxiang:'东风',fengli:'2级',aqi:'28',aqiInfo:'优',aqiLevel:'1'},{ymd:'2019-01-12',bWendu:'9℃',yWendu:'6℃',tianqi:'小雨~阴',fengxiang:'西北风',fengli:'3级',aqi:'56',aqiInfo:'良',aqiLevel:'2'},{ymd:'2019-01-13',bWendu:'9℃',yWendu:'5℃',tianqi:'阴~多云',fengxiang:'西北风',fengli:'2级',aqi:'101',aqiInfo:'轻度污染',aqiLevel:'3'},{ymd:'2019-01-14',bWendu:'10℃',yWendu:'6℃',tianqi:'多云',fengxiang:'东北风',fengli:'2级',aqi:'100',aqiInfo:'良',aqiLevel:'2'},{ymd:'2019-01-15',bWendu:'9℃',yWendu:'2℃',tianqi:'小雨~多云',fengxiang:'东北风',fengli:'3级',aqi:'142',aqiInfo:'轻度污染',aqiLevel:'3'},{ymd:'2019-01-16',bWendu:'6℃',yWendu:'0℃',tianqi:'阴~多云',fengxiang:'西北风',fengli:'2级',aqi:'51',aqiInfo:'良',aqiLevel:'2'},{ymd:'2019-01-17',bWendu:'8℃',yWendu:'1℃',tianqi:'晴~多云',fengxiang:'西北风',fengli:'2级',aqi:'98',aqiInfo:'良',aqiLevel:'2'},{ymd:'2019-01-18',bWendu:'11℃',yWendu:'7℃',tianqi:'晴~多云',fengxiang:'东南风',fengli:'2级',aqi:'115',aqiInfo:'轻度污染',aqiLevel:'3'},{ymd:'2019-01-19',bWendu:'13℃',yWendu:'5℃',tianqi:'多云~小雨',fengxiang:'西南风',fengli:'3级',aqi:'98',aqiInfo:'良',aqiLevel:'2'},{ymd:'2019-01-20',bWendu:'9℃',yWendu:'2℃',tianqi:'多云~晴',fengxiang:'西北风',fengli:'3级',aqi:'135',aqiInfo:'轻度污染',aqiLevel:'3'},{ymd:'2019-01-21',bWendu:'8℃',yWendu:'2℃',tianqi:'多云',fengxiang:'西北风',fengli:'2级',aqi:'59',aqiInfo:'良',aqiLevel:'2'},{ymd:'2019-01-22',bWendu:'10℃',yWendu:'2℃',tianqi:'晴',fengxiang:'西北风',fengli:'2级',aqi:'109',aqiInfo:'轻度污染',aqiLevel:'3'},{ymd:'2019-01-23',bWendu:'12℃',yWendu:'4℃',tianqi:'晴~多云',fengxiang:'西北风',fengli:'2级',aqi:'122',aqiInfo:'轻度污染',aqiLevel:'3'},{ymd:'2019-01-24',bWendu:'12℃',yWendu:'5℃',tianqi:'晴~多云',fengxiang:'东南风',fengli:'2级',aqi:'138',aqiInfo:'轻度污染',aqiLevel:'3'},{ymd:'2019-01-25',bWendu:'10℃',yWendu:'2℃',tianqi:'阴~多云',fengxiang:'东北风',fengli:'3级',aqi:'51',aqiInfo:'良',aqiLevel:'2'},{ymd:'2019-01-26',bWendu:'5℃',yWendu:'1℃',tianqi:'多云',fengxiang:'西北风',fengli:'3级',aqi:'35',aqiInfo:'优',aqiLevel:'1'},{ymd:'2019-01-27',bWendu:'9℃',yWendu:'3℃',tianqi:'多云~晴',fengxiang:'东南风',fengli:'2级',aqi:'37',aqiInfo:'优',aqiLevel:'1'},{ymd:'2019-01-28',bWendu:'10℃',yWendu:'6℃',tianqi:'多云',fengxiang:'东北风',fengli:'2级',aqi:'70',aqiInfo:'良',aqiLevel:'2'},{ymd:'2019-01-29',bWendu:'10℃',yWendu:'8℃',tianqi:'阴~多云',fengxiang:'东南风',fengli:'2级',aqi:'76',aqiInfo:'良',aqiLevel:'2'},{ymd:'2019-01-30',bWendu:'15℃',yWendu:'4℃',tianqi:'阴~小雨',fengxiang:'东南风',fengli:'2级',aqi:'49',aqiInfo:'优',aqiLevel:'1'},{ymd:'2019-01-31',bWendu:'11℃',yWendu:'0℃',tianqi:'小雨~多云',fengxiang:'东北风',fengli:'3级',aqi:'33',aqiInfo:'优',aqiLevel:'1'},{}],maxWendu:'15（2019-01-30）',minWendu:'1（2019-01-17）',avgbWendu:'9',avgyWendu:'4',maxAqi:'142',minAqi:'28',avgAqi:'71',maxAqiInfo:'轻度污染',maxAqiDate:'01月15日',maxAqiLevel:'3',minAqiInfo:'空气优',minAqiDate:'01月10日',minAqiLevel:'1'}\""
     },
     "metadata": {},
     "execution_count": 7
    }
   ],
   "source": [
    "datas[0]"
   ]
  },
  {
   "cell_type": "code",
   "execution_count": 8,
   "metadata": {},
   "outputs": [],
   "source": [
    "import demjson"
   ]
  },
  {
   "cell_type": "code",
   "execution_count": 10,
   "metadata": {},
   "outputs": [
    {
     "output_type": "execute_result",
     "data": {
      "text/plain": "{'city': '上海',\n 'tqInfo': [{'ymd': '2019-01-01',\n   'bWendu': '6℃',\n   'yWendu': '3℃',\n   'tianqi': '阴~多云',\n   'fengxiang': '西北风',\n   'fengli': '3级',\n   'aqi': '39',\n   'aqiInfo': '优',\n   'aqiLevel': '1'},\n  {'ymd': '2019-01-02',\n   'bWendu': '8℃',\n   'yWendu': '4℃',\n   'tianqi': '阴~多云',\n   'fengxiang': '东北风',\n   'fengli': '2级',\n   'aqi': '86',\n   'aqiInfo': '良',\n   'aqiLevel': '2'},\n  {'ymd': '2019-01-03',\n   'bWendu': '10℃',\n   'yWendu': '8℃',\n   'tianqi': '多云~小雨',\n   'fengxiang': '东北风',\n   'fengli': '2级',\n   'aqi': '71',\n   'aqiInfo': '良',\n   'aqiLevel': '2'},\n  {'ymd': '2019-01-04',\n   'bWendu': '10℃',\n   'yWendu': '8℃',\n   'tianqi': '小雨',\n   'fengxiang': '东南风',\n   'fengli': '2级',\n   'aqi': '33',\n   'aqiInfo': '优',\n   'aqiLevel': '1'},\n  {'ymd': '2019-01-05',\n   'bWendu': '10℃',\n   'yWendu': '5℃',\n   'tianqi': '小雨',\n   'fengxiang': '西北风',\n   'fengli': '2级',\n   'aqi': '46',\n   'aqiInfo': '优',\n   'aqiLevel': '1'},\n  {'ymd': '2019-01-06',\n   'bWendu': '8℃',\n   'yWendu': '5℃',\n   'tianqi': '阴~多云',\n   'fengxiang': '东北风',\n   'fengli': '2级',\n   'aqi': '43',\n   'aqiInfo': '优',\n   'aqiLevel': '1'},\n  {'ymd': '2019-01-07',\n   'bWendu': '8℃',\n   'yWendu': '6℃',\n   'tianqi': '小雨~阴',\n   'fengxiang': '东北风',\n   'fengli': '2级',\n   'aqi': '41',\n   'aqiInfo': '优',\n   'aqiLevel': '1'},\n  {'ymd': '2019-01-08',\n   'bWendu': '8℃',\n   'yWendu': '5℃',\n   'tianqi': '多云~阴',\n   'fengxiang': '东北风',\n   'fengli': '3级',\n   'aqi': '73',\n   'aqiInfo': '良',\n   'aqiLevel': '2'},\n  {'ymd': '2019-01-09',\n   'bWendu': '7℃',\n   'yWendu': '6℃',\n   'tianqi': '小雨',\n   'fengxiang': '东北风',\n   'fengli': '3级',\n   'aqi': '37',\n   'aqiInfo': '优',\n   'aqiLevel': '1'},\n  {'ymd': '2019-01-10',\n   'bWendu': '9℃',\n   'yWendu': '7℃',\n   'tianqi': '小雨',\n   'fengxiang': '东北风',\n   'fengli': '2级',\n   'aqi': '28',\n   'aqiInfo': '优',\n   'aqiLevel': '1'},\n  {'ymd': '2019-01-11',\n   'bWendu': '9℃',\n   'yWendu': '6℃',\n   'tianqi': '小雨',\n   'fengxiang': '东风',\n   'fengli': '2级',\n   'aqi': '28',\n   'aqiInfo': '优',\n   'aqiLevel': '1'},\n  {'ymd': '2019-01-12',\n   'bWendu': '9℃',\n   'yWendu': '6℃',\n   'tianqi': '小雨~阴',\n   'fengxiang': '西北风',\n   'fengli': '3级',\n   'aqi': '56',\n   'aqiInfo': '良',\n   'aqiLevel': '2'},\n  {'ymd': '2019-01-13',\n   'bWendu': '9℃',\n   'yWendu': '5℃',\n   'tianqi': '阴~多云',\n   'fengxiang': '西北风',\n   'fengli': '2级',\n   'aqi': '101',\n   'aqiInfo': '轻度污染',\n   'aqiLevel': '3'},\n  {'ymd': '2019-01-14',\n   'bWendu': '10℃',\n   'yWendu': '6℃',\n   'tianqi': '多云',\n   'fengxiang': '东北风',\n   'fengli': '2级',\n   'aqi': '100',\n   'aqiInfo': '良',\n   'aqiLevel': '2'},\n  {'ymd': '2019-01-15',\n   'bWendu': '9℃',\n   'yWendu': '2℃',\n   'tianqi': '小雨~多云',\n   'fengxiang': '东北风',\n   'fengli': '3级',\n   'aqi': '142',\n   'aqiInfo': '轻度污染',\n   'aqiLevel': '3'},\n  {'ymd': '2019-01-16',\n   'bWendu': '6℃',\n   'yWendu': '0℃',\n   'tianqi': '阴~多云',\n   'fengxiang': '西北风',\n   'fengli': '2级',\n   'aqi': '51',\n   'aqiInfo': '良',\n   'aqiLevel': '2'},\n  {'ymd': '2019-01-17',\n   'bWendu': '8℃',\n   'yWendu': '1℃',\n   'tianqi': '晴~多云',\n   'fengxiang': '西北风',\n   'fengli': '2级',\n   'aqi': '98',\n   'aqiInfo': '良',\n   'aqiLevel': '2'},\n  {'ymd': '2019-01-18',\n   'bWendu': '11℃',\n   'yWendu': '7℃',\n   'tianqi': '晴~多云',\n   'fengxiang': '东南风',\n   'fengli': '2级',\n   'aqi': '115',\n   'aqiInfo': '轻度污染',\n   'aqiLevel': '3'},\n  {'ymd': '2019-01-19',\n   'bWendu': '13℃',\n   'yWendu': '5℃',\n   'tianqi': '多云~小雨',\n   'fengxiang': '西南风',\n   'fengli': '3级',\n   'aqi': '98',\n   'aqiInfo': '良',\n   'aqiLevel': '2'},\n  {'ymd': '2019-01-20',\n   'bWendu': '9℃',\n   'yWendu': '2℃',\n   'tianqi': '多云~晴',\n   'fengxiang': '西北风',\n   'fengli': '3级',\n   'aqi': '135',\n   'aqiInfo': '轻度污染',\n   'aqiLevel': '3'},\n  {'ymd': '2019-01-21',\n   'bWendu': '8℃',\n   'yWendu': '2℃',\n   'tianqi': '多云',\n   'fengxiang': '西北风',\n   'fengli': '2级',\n   'aqi': '59',\n   'aqiInfo': '良',\n   'aqiLevel': '2'},\n  {'ymd': '2019-01-22',\n   'bWendu': '10℃',\n   'yWendu': '2℃',\n   'tianqi': '晴',\n   'fengxiang': '西北风',\n   'fengli': '2级',\n   'aqi': '109',\n   'aqiInfo': '轻度污染',\n   'aqiLevel': '3'},\n  {'ymd': '2019-01-23',\n   'bWendu': '12℃',\n   'yWendu': '4℃',\n   'tianqi': '晴~多云',\n   'fengxiang': '西北风',\n   'fengli': '2级',\n   'aqi': '122',\n   'aqiInfo': '轻度污染',\n   'aqiLevel': '3'},\n  {'ymd': '2019-01-24',\n   'bWendu': '12℃',\n   'yWendu': '5℃',\n   'tianqi': '晴~多云',\n   'fengxiang': '东南风',\n   'fengli': '2级',\n   'aqi': '138',\n   'aqiInfo': '轻度污染',\n   'aqiLevel': '3'},\n  {'ymd': '2019-01-25',\n   'bWendu': '10℃',\n   'yWendu': '2℃',\n   'tianqi': '阴~多云',\n   'fengxiang': '东北风',\n   'fengli': '3级',\n   'aqi': '51',\n   'aqiInfo': '良',\n   'aqiLevel': '2'},\n  {'ymd': '2019-01-26',\n   'bWendu': '5℃',\n   'yWendu': '1℃',\n   'tianqi': '多云',\n   'fengxiang': '西北风',\n   'fengli': '3级',\n   'aqi': '35',\n   'aqiInfo': '优',\n   'aqiLevel': '1'},\n  {'ymd': '2019-01-27',\n   'bWendu': '9℃',\n   'yWendu': '3℃',\n   'tianqi': '多云~晴',\n   'fengxiang': '东南风',\n   'fengli': '2级',\n   'aqi': '37',\n   'aqiInfo': '优',\n   'aqiLevel': '1'},\n  {'ymd': '2019-01-28',\n   'bWendu': '10℃',\n   'yWendu': '6℃',\n   'tianqi': '多云',\n   'fengxiang': '东北风',\n   'fengli': '2级',\n   'aqi': '70',\n   'aqiInfo': '良',\n   'aqiLevel': '2'},\n  {'ymd': '2019-01-29',\n   'bWendu': '10℃',\n   'yWendu': '8℃',\n   'tianqi': '阴~多云',\n   'fengxiang': '东南风',\n   'fengli': '2级',\n   'aqi': '76',\n   'aqiInfo': '良',\n   'aqiLevel': '2'},\n  {'ymd': '2019-01-30',\n   'bWendu': '15℃',\n   'yWendu': '4℃',\n   'tianqi': '阴~小雨',\n   'fengxiang': '东南风',\n   'fengli': '2级',\n   'aqi': '49',\n   'aqiInfo': '优',\n   'aqiLevel': '1'},\n  {'ymd': '2019-01-31',\n   'bWendu': '11℃',\n   'yWendu': '0℃',\n   'tianqi': '小雨~多云',\n   'fengxiang': '东北风',\n   'fengli': '3级',\n   'aqi': '33',\n   'aqiInfo': '优',\n   'aqiLevel': '1'},\n  {}],\n 'maxWendu': '15（2019-01-30）',\n 'minWendu': '1（2019-01-17）',\n 'avgbWendu': '9',\n 'avgyWendu': '4',\n 'maxAqi': '142',\n 'minAqi': '28',\n 'avgAqi': '71',\n 'maxAqiInfo': '轻度污染',\n 'maxAqiDate': '01月15日',\n 'maxAqiLevel': '3',\n 'minAqiInfo': '空气优',\n 'minAqiDate': '01月10日',\n 'minAqiLevel': '1'}"
     },
     "metadata": {},
     "execution_count": 10
    }
   ],
   "source": [
    "demjson.decode(datas[0])"
   ]
  },
  {
   "cell_type": "code",
   "execution_count": 12,
   "metadata": {},
   "outputs": [],
   "source": [
    "tqInfos = demjson.decode(datas[0])['tqInfo']"
   ]
  },
  {
   "cell_type": "code",
   "execution_count": 13,
   "metadata": {},
   "outputs": [
    {
     "output_type": "execute_result",
     "data": {
      "text/plain": "[{'ymd': '2019-01-01',\n  'bWendu': '6℃',\n  'yWendu': '3℃',\n  'tianqi': '阴~多云',\n  'fengxiang': '西北风',\n  'fengli': '3级',\n  'aqi': '39',\n  'aqiInfo': '优',\n  'aqiLevel': '1'},\n {'ymd': '2019-01-02',\n  'bWendu': '8℃',\n  'yWendu': '4℃',\n  'tianqi': '阴~多云',\n  'fengxiang': '东北风',\n  'fengli': '2级',\n  'aqi': '86',\n  'aqiInfo': '良',\n  'aqiLevel': '2'},\n {'ymd': '2019-01-03',\n  'bWendu': '10℃',\n  'yWendu': '8℃',\n  'tianqi': '多云~小雨',\n  'fengxiang': '东北风',\n  'fengli': '2级',\n  'aqi': '71',\n  'aqiInfo': '良',\n  'aqiLevel': '2'},\n {'ymd': '2019-01-04',\n  'bWendu': '10℃',\n  'yWendu': '8℃',\n  'tianqi': '小雨',\n  'fengxiang': '东南风',\n  'fengli': '2级',\n  'aqi': '33',\n  'aqiInfo': '优',\n  'aqiLevel': '1'},\n {'ymd': '2019-01-05',\n  'bWendu': '10℃',\n  'yWendu': '5℃',\n  'tianqi': '小雨',\n  'fengxiang': '西北风',\n  'fengli': '2级',\n  'aqi': '46',\n  'aqiInfo': '优',\n  'aqiLevel': '1'},\n {'ymd': '2019-01-06',\n  'bWendu': '8℃',\n  'yWendu': '5℃',\n  'tianqi': '阴~多云',\n  'fengxiang': '东北风',\n  'fengli': '2级',\n  'aqi': '43',\n  'aqiInfo': '优',\n  'aqiLevel': '1'},\n {'ymd': '2019-01-07',\n  'bWendu': '8℃',\n  'yWendu': '6℃',\n  'tianqi': '小雨~阴',\n  'fengxiang': '东北风',\n  'fengli': '2级',\n  'aqi': '41',\n  'aqiInfo': '优',\n  'aqiLevel': '1'},\n {'ymd': '2019-01-08',\n  'bWendu': '8℃',\n  'yWendu': '5℃',\n  'tianqi': '多云~阴',\n  'fengxiang': '东北风',\n  'fengli': '3级',\n  'aqi': '73',\n  'aqiInfo': '良',\n  'aqiLevel': '2'},\n {'ymd': '2019-01-09',\n  'bWendu': '7℃',\n  'yWendu': '6℃',\n  'tianqi': '小雨',\n  'fengxiang': '东北风',\n  'fengli': '3级',\n  'aqi': '37',\n  'aqiInfo': '优',\n  'aqiLevel': '1'},\n {'ymd': '2019-01-10',\n  'bWendu': '9℃',\n  'yWendu': '7℃',\n  'tianqi': '小雨',\n  'fengxiang': '东北风',\n  'fengli': '2级',\n  'aqi': '28',\n  'aqiInfo': '优',\n  'aqiLevel': '1'},\n {'ymd': '2019-01-11',\n  'bWendu': '9℃',\n  'yWendu': '6℃',\n  'tianqi': '小雨',\n  'fengxiang': '东风',\n  'fengli': '2级',\n  'aqi': '28',\n  'aqiInfo': '优',\n  'aqiLevel': '1'},\n {'ymd': '2019-01-12',\n  'bWendu': '9℃',\n  'yWendu': '6℃',\n  'tianqi': '小雨~阴',\n  'fengxiang': '西北风',\n  'fengli': '3级',\n  'aqi': '56',\n  'aqiInfo': '良',\n  'aqiLevel': '2'},\n {'ymd': '2019-01-13',\n  'bWendu': '9℃',\n  'yWendu': '5℃',\n  'tianqi': '阴~多云',\n  'fengxiang': '西北风',\n  'fengli': '2级',\n  'aqi': '101',\n  'aqiInfo': '轻度污染',\n  'aqiLevel': '3'},\n {'ymd': '2019-01-14',\n  'bWendu': '10℃',\n  'yWendu': '6℃',\n  'tianqi': '多云',\n  'fengxiang': '东北风',\n  'fengli': '2级',\n  'aqi': '100',\n  'aqiInfo': '良',\n  'aqiLevel': '2'},\n {'ymd': '2019-01-15',\n  'bWendu': '9℃',\n  'yWendu': '2℃',\n  'tianqi': '小雨~多云',\n  'fengxiang': '东北风',\n  'fengli': '3级',\n  'aqi': '142',\n  'aqiInfo': '轻度污染',\n  'aqiLevel': '3'},\n {'ymd': '2019-01-16',\n  'bWendu': '6℃',\n  'yWendu': '0℃',\n  'tianqi': '阴~多云',\n  'fengxiang': '西北风',\n  'fengli': '2级',\n  'aqi': '51',\n  'aqiInfo': '良',\n  'aqiLevel': '2'},\n {'ymd': '2019-01-17',\n  'bWendu': '8℃',\n  'yWendu': '1℃',\n  'tianqi': '晴~多云',\n  'fengxiang': '西北风',\n  'fengli': '2级',\n  'aqi': '98',\n  'aqiInfo': '良',\n  'aqiLevel': '2'},\n {'ymd': '2019-01-18',\n  'bWendu': '11℃',\n  'yWendu': '7℃',\n  'tianqi': '晴~多云',\n  'fengxiang': '东南风',\n  'fengli': '2级',\n  'aqi': '115',\n  'aqiInfo': '轻度污染',\n  'aqiLevel': '3'},\n {'ymd': '2019-01-19',\n  'bWendu': '13℃',\n  'yWendu': '5℃',\n  'tianqi': '多云~小雨',\n  'fengxiang': '西南风',\n  'fengli': '3级',\n  'aqi': '98',\n  'aqiInfo': '良',\n  'aqiLevel': '2'},\n {'ymd': '2019-01-20',\n  'bWendu': '9℃',\n  'yWendu': '2℃',\n  'tianqi': '多云~晴',\n  'fengxiang': '西北风',\n  'fengli': '3级',\n  'aqi': '135',\n  'aqiInfo': '轻度污染',\n  'aqiLevel': '3'},\n {'ymd': '2019-01-21',\n  'bWendu': '8℃',\n  'yWendu': '2℃',\n  'tianqi': '多云',\n  'fengxiang': '西北风',\n  'fengli': '2级',\n  'aqi': '59',\n  'aqiInfo': '良',\n  'aqiLevel': '2'},\n {'ymd': '2019-01-22',\n  'bWendu': '10℃',\n  'yWendu': '2℃',\n  'tianqi': '晴',\n  'fengxiang': '西北风',\n  'fengli': '2级',\n  'aqi': '109',\n  'aqiInfo': '轻度污染',\n  'aqiLevel': '3'},\n {'ymd': '2019-01-23',\n  'bWendu': '12℃',\n  'yWendu': '4℃',\n  'tianqi': '晴~多云',\n  'fengxiang': '西北风',\n  'fengli': '2级',\n  'aqi': '122',\n  'aqiInfo': '轻度污染',\n  'aqiLevel': '3'},\n {'ymd': '2019-01-24',\n  'bWendu': '12℃',\n  'yWendu': '5℃',\n  'tianqi': '晴~多云',\n  'fengxiang': '东南风',\n  'fengli': '2级',\n  'aqi': '138',\n  'aqiInfo': '轻度污染',\n  'aqiLevel': '3'},\n {'ymd': '2019-01-25',\n  'bWendu': '10℃',\n  'yWendu': '2℃',\n  'tianqi': '阴~多云',\n  'fengxiang': '东北风',\n  'fengli': '3级',\n  'aqi': '51',\n  'aqiInfo': '良',\n  'aqiLevel': '2'},\n {'ymd': '2019-01-26',\n  'bWendu': '5℃',\n  'yWendu': '1℃',\n  'tianqi': '多云',\n  'fengxiang': '西北风',\n  'fengli': '3级',\n  'aqi': '35',\n  'aqiInfo': '优',\n  'aqiLevel': '1'},\n {'ymd': '2019-01-27',\n  'bWendu': '9℃',\n  'yWendu': '3℃',\n  'tianqi': '多云~晴',\n  'fengxiang': '东南风',\n  'fengli': '2级',\n  'aqi': '37',\n  'aqiInfo': '优',\n  'aqiLevel': '1'},\n {'ymd': '2019-01-28',\n  'bWendu': '10℃',\n  'yWendu': '6℃',\n  'tianqi': '多云',\n  'fengxiang': '东北风',\n  'fengli': '2级',\n  'aqi': '70',\n  'aqiInfo': '良',\n  'aqiLevel': '2'},\n {'ymd': '2019-01-29',\n  'bWendu': '10℃',\n  'yWendu': '8℃',\n  'tianqi': '阴~多云',\n  'fengxiang': '东南风',\n  'fengli': '2级',\n  'aqi': '76',\n  'aqiInfo': '良',\n  'aqiLevel': '2'},\n {'ymd': '2019-01-30',\n  'bWendu': '15℃',\n  'yWendu': '4℃',\n  'tianqi': '阴~小雨',\n  'fengxiang': '东南风',\n  'fengli': '2级',\n  'aqi': '49',\n  'aqiInfo': '优',\n  'aqiLevel': '1'},\n {'ymd': '2019-01-31',\n  'bWendu': '11℃',\n  'yWendu': '0℃',\n  'tianqi': '小雨~多云',\n  'fengxiang': '东北风',\n  'fengli': '3级',\n  'aqi': '33',\n  'aqiInfo': '优',\n  'aqiLevel': '1'},\n {}]"
     },
     "metadata": {},
     "execution_count": 13
    }
   ],
   "source": [
    "tqInfos"
   ]
  },
  {
   "cell_type": "code",
   "execution_count": 14,
   "metadata": {},
   "outputs": [],
   "source": [
    "all_datas = []"
   ]
  },
  {
   "cell_type": "code",
   "execution_count": 15,
   "metadata": {},
   "outputs": [],
   "source": [
    "for data in datas:\n",
    "    tqInfos = demjson.decode(data)['tqInfo']\n",
    "    all_datas.extend([x for x in tqInfos if len(x) > 0])"
   ]
  },
  {
   "cell_type": "code",
   "execution_count": 18,
   "metadata": {},
   "outputs": [
    {
     "output_type": "execute_result",
     "data": {
      "text/plain": "{'ymd': '2019-01-01',\n 'bWendu': '6℃',\n 'yWendu': '3℃',\n 'tianqi': '阴~多云',\n 'fengxiang': '西北风',\n 'fengli': '3级',\n 'aqi': '39',\n 'aqiInfo': '优',\n 'aqiLevel': '1'}"
     },
     "metadata": {},
     "execution_count": 18
    }
   ],
   "source": [
    "all_datas[0]"
   ]
  },
  {
   "cell_type": "code",
   "execution_count": 19,
   "metadata": {},
   "outputs": [
    {
     "output_type": "execute_result",
     "data": {
      "text/plain": "365"
     },
     "metadata": {},
     "execution_count": 19
    }
   ],
   "source": [
    "len(all_datas)"
   ]
  },
  {
   "cell_type": "code",
   "execution_count": 24,
   "metadata": {},
   "outputs": [],
   "source": [
    "columns = list(all_datas[0].keys())"
   ]
  },
  {
   "cell_type": "code",
   "execution_count": 25,
   "metadata": {},
   "outputs": [
    {
     "output_type": "execute_result",
     "data": {
      "text/plain": "['ymd',\n 'bWendu',\n 'yWendu',\n 'tianqi',\n 'fengxiang',\n 'fengli',\n 'aqi',\n 'aqiInfo',\n 'aqiLevel']"
     },
     "metadata": {},
     "execution_count": 25
    }
   ],
   "source": [
    "columns"
   ]
  },
  {
   "cell_type": "code",
   "execution_count": 26,
   "metadata": {},
   "outputs": [],
   "source": [
    "import csv"
   ]
  },
  {
   "cell_type": "code",
   "execution_count": 27,
   "metadata": {},
   "outputs": [
    {
     "output_type": "execute_result",
     "data": {
      "text/plain": "'c:\\\\Users\\\\Lei\\\\Documents\\\\GitHub\\\\ant-learn-pandas'"
     },
     "metadata": {},
     "execution_count": 27
    }
   ],
   "source": [
    "pwd"
   ]
  },
  {
   "cell_type": "code",
   "execution_count": 28,
   "metadata": {},
   "outputs": [],
   "source": [
    "import os\n",
    "work_dir = './shanghai_weather'\n",
    "if not os.path.exists(work_dir):\n",
    "    os.mkdir(work_dir)\n",
    "\n",
    "import csv\n",
    "with open(f'{work_dir}/shanghai_weather_2019.csv', 'w', newline = '', encoding = 'utf-8') as csv_file:\n",
    "    writer = csv.writer(csv_file)\n",
    "    writer.writerow(columns)\n",
    "    for data in all_datas:\n",
    "        writer.writerow([data[column] for column in columns])\n"
   ]
  },
  {
   "cell_type": "markdown",
   "metadata": {},
   "source": [
    "## 读取CSC文件，查询上海市天气"
   ]
  },
  {
   "cell_type": "code",
   "execution_count": 2,
   "metadata": {},
   "outputs": [],
   "source": [
    "import pandas as pd\n",
    "df = pd.read_csv(\"./shanghai_weather/shanghai_weather_2019.csv\")"
   ]
  },
  {
   "cell_type": "code",
   "execution_count": 3,
   "metadata": {},
   "outputs": [],
   "source": [
    "df.set_index('ymd', inplace = True)"
   ]
  },
  {
   "cell_type": "code",
   "execution_count": 4,
   "metadata": {},
   "outputs": [
    {
     "output_type": "execute_result",
     "data": {
      "text/plain": "Index(['2019-01-01', '2019-01-02', '2019-01-03', '2019-01-04', '2019-01-05',\n       '2019-01-06', '2019-01-07', '2019-01-08', '2019-01-09', '2019-01-10',\n       ...\n       '2019-12-22', '2019-12-23', '2019-12-24', '2019-12-25', '2019-12-26',\n       '2019-12-27', '2019-12-28', '2019-12-29', '2019-12-30', '2019-12-31'],\n      dtype='object', name='ymd', length=365)"
     },
     "metadata": {},
     "execution_count": 4
    }
   ],
   "source": [
    "df.index"
   ]
  },
  {
   "cell_type": "code",
   "execution_count": 8,
   "metadata": {},
   "outputs": [
    {
     "output_type": "execute_result",
     "data": {
      "text/plain": "Index(['bWendu', 'yWendu', 'tianqi', 'fengxiang', 'fengli', 'aqi', 'aqiInfo',\n       'aqiLevel'],\n      dtype='object')"
     },
     "metadata": {},
     "execution_count": 8
    }
   ],
   "source": [
    "df.columns"
   ]
  },
  {
   "cell_type": "code",
   "execution_count": 5,
   "metadata": {},
   "outputs": [],
   "source": [
    "df['bWendu'] = df['bWendu'].str.replace('℃', '').astype('int32')\n",
    "df['yWendu'] = df['yWendu'].str.replace('℃', '').astype('int32')"
   ]
  },
  {
   "cell_type": "code",
   "execution_count": 11,
   "metadata": {},
   "outputs": [
    {
     "output_type": "execute_result",
     "data": {
      "text/plain": "            bWendu  yWendu tianqi fengxiang fengli  aqi aqiInfo  aqiLevel\nymd                                                                      \n2019-01-01       6       3   阴~多云       西北风     3级   39       优         1\n2019-01-02       8       4   阴~多云       东北风     2级   86       良         2\n2019-01-03      10       8  多云~小雨       东北风     2级   71       良         2\n2019-01-04      10       8     小雨       东南风     2级   33       优         1\n2019-01-05      10       5     小雨       西北风     2级   46       优         1",
      "text/html": "<div>\n<style scoped>\n    .dataframe tbody tr th:only-of-type {\n        vertical-align: middle;\n    }\n\n    .dataframe tbody tr th {\n        vertical-align: top;\n    }\n\n    .dataframe thead th {\n        text-align: right;\n    }\n</style>\n<table border=\"1\" class=\"dataframe\">\n  <thead>\n    <tr style=\"text-align: right;\">\n      <th></th>\n      <th>bWendu</th>\n      <th>yWendu</th>\n      <th>tianqi</th>\n      <th>fengxiang</th>\n      <th>fengli</th>\n      <th>aqi</th>\n      <th>aqiInfo</th>\n      <th>aqiLevel</th>\n    </tr>\n    <tr>\n      <th>ymd</th>\n      <th></th>\n      <th></th>\n      <th></th>\n      <th></th>\n      <th></th>\n      <th></th>\n      <th></th>\n      <th></th>\n    </tr>\n  </thead>\n  <tbody>\n    <tr>\n      <th>2019-01-01</th>\n      <td>6</td>\n      <td>3</td>\n      <td>阴~多云</td>\n      <td>西北风</td>\n      <td>3级</td>\n      <td>39</td>\n      <td>优</td>\n      <td>1</td>\n    </tr>\n    <tr>\n      <th>2019-01-02</th>\n      <td>8</td>\n      <td>4</td>\n      <td>阴~多云</td>\n      <td>东北风</td>\n      <td>2级</td>\n      <td>86</td>\n      <td>良</td>\n      <td>2</td>\n    </tr>\n    <tr>\n      <th>2019-01-03</th>\n      <td>10</td>\n      <td>8</td>\n      <td>多云~小雨</td>\n      <td>东北风</td>\n      <td>2级</td>\n      <td>71</td>\n      <td>良</td>\n      <td>2</td>\n    </tr>\n    <tr>\n      <th>2019-01-04</th>\n      <td>10</td>\n      <td>8</td>\n      <td>小雨</td>\n      <td>东南风</td>\n      <td>2级</td>\n      <td>33</td>\n      <td>优</td>\n      <td>1</td>\n    </tr>\n    <tr>\n      <th>2019-01-05</th>\n      <td>10</td>\n      <td>5</td>\n      <td>小雨</td>\n      <td>西北风</td>\n      <td>2级</td>\n      <td>46</td>\n      <td>优</td>\n      <td>1</td>\n    </tr>\n  </tbody>\n</table>\n</div>"
     },
     "metadata": {},
     "execution_count": 11
    }
   ],
   "source": [
    "df.head()"
   ]
  },
  {
   "cell_type": "code",
   "execution_count": 6,
   "metadata": {},
   "outputs": [
    {
     "output_type": "execute_result",
     "data": {
      "text/plain": "            bWendu  yWendu tianqi fengxiang fengli  aqi aqiInfo  aqiLevel\nymd                                                                      \n2019-01-03      10       8  多云~小雨       东北风     2级   71       良         2\n2019-01-04      10       8     小雨       东南风     2级   33       优         1\n2019-01-05      10       5     小雨       西北风     2级   46       优         1\n2019-01-07       8       6   小雨~阴       东北风     2级   41       优         1\n2019-01-09       7       6     小雨       东北风     3级   37       优         1\n...            ...     ...    ...       ...    ...  ...     ...       ...\n2019-12-24      11      10     小雨       东北风     3级   54       良         2\n2019-12-25      13       9  小雨~中雨       东北风     2级   45       优         1\n2019-12-26      10       4  小雨~多云       西北风     4级   42       优         1\n2019-12-28      12      10  多云~小雨       东南风     2级  112    轻度污染         3\n2019-12-29      15       9   小雨~阴       西南风     2级   50       优         1\n\n[169 rows x 8 columns]",
      "text/html": "<div>\n<style scoped>\n    .dataframe tbody tr th:only-of-type {\n        vertical-align: middle;\n    }\n\n    .dataframe tbody tr th {\n        vertical-align: top;\n    }\n\n    .dataframe thead th {\n        text-align: right;\n    }\n</style>\n<table border=\"1\" class=\"dataframe\">\n  <thead>\n    <tr style=\"text-align: right;\">\n      <th></th>\n      <th>bWendu</th>\n      <th>yWendu</th>\n      <th>tianqi</th>\n      <th>fengxiang</th>\n      <th>fengli</th>\n      <th>aqi</th>\n      <th>aqiInfo</th>\n      <th>aqiLevel</th>\n    </tr>\n    <tr>\n      <th>ymd</th>\n      <th></th>\n      <th></th>\n      <th></th>\n      <th></th>\n      <th></th>\n      <th></th>\n      <th></th>\n      <th></th>\n    </tr>\n  </thead>\n  <tbody>\n    <tr>\n      <th>2019-01-03</th>\n      <td>10</td>\n      <td>8</td>\n      <td>多云~小雨</td>\n      <td>东北风</td>\n      <td>2级</td>\n      <td>71</td>\n      <td>良</td>\n      <td>2</td>\n    </tr>\n    <tr>\n      <th>2019-01-04</th>\n      <td>10</td>\n      <td>8</td>\n      <td>小雨</td>\n      <td>东南风</td>\n      <td>2级</td>\n      <td>33</td>\n      <td>优</td>\n      <td>1</td>\n    </tr>\n    <tr>\n      <th>2019-01-05</th>\n      <td>10</td>\n      <td>5</td>\n      <td>小雨</td>\n      <td>西北风</td>\n      <td>2级</td>\n      <td>46</td>\n      <td>优</td>\n      <td>1</td>\n    </tr>\n    <tr>\n      <th>2019-01-07</th>\n      <td>8</td>\n      <td>6</td>\n      <td>小雨~阴</td>\n      <td>东北风</td>\n      <td>2级</td>\n      <td>41</td>\n      <td>优</td>\n      <td>1</td>\n    </tr>\n    <tr>\n      <th>2019-01-09</th>\n      <td>7</td>\n      <td>6</td>\n      <td>小雨</td>\n      <td>东北风</td>\n      <td>3级</td>\n      <td>37</td>\n      <td>优</td>\n      <td>1</td>\n    </tr>\n    <tr>\n      <th>...</th>\n      <td>...</td>\n      <td>...</td>\n      <td>...</td>\n      <td>...</td>\n      <td>...</td>\n      <td>...</td>\n      <td>...</td>\n      <td>...</td>\n    </tr>\n    <tr>\n      <th>2019-12-24</th>\n      <td>11</td>\n      <td>10</td>\n      <td>小雨</td>\n      <td>东北风</td>\n      <td>3级</td>\n      <td>54</td>\n      <td>良</td>\n      <td>2</td>\n    </tr>\n    <tr>\n      <th>2019-12-25</th>\n      <td>13</td>\n      <td>9</td>\n      <td>小雨~中雨</td>\n      <td>东北风</td>\n      <td>2级</td>\n      <td>45</td>\n      <td>优</td>\n      <td>1</td>\n    </tr>\n    <tr>\n      <th>2019-12-26</th>\n      <td>10</td>\n      <td>4</td>\n      <td>小雨~多云</td>\n      <td>西北风</td>\n      <td>4级</td>\n      <td>42</td>\n      <td>优</td>\n      <td>1</td>\n    </tr>\n    <tr>\n      <th>2019-12-28</th>\n      <td>12</td>\n      <td>10</td>\n      <td>多云~小雨</td>\n      <td>东南风</td>\n      <td>2级</td>\n      <td>112</td>\n      <td>轻度污染</td>\n      <td>3</td>\n    </tr>\n    <tr>\n      <th>2019-12-29</th>\n      <td>15</td>\n      <td>9</td>\n      <td>小雨~阴</td>\n      <td>西南风</td>\n      <td>2级</td>\n      <td>50</td>\n      <td>优</td>\n      <td>1</td>\n    </tr>\n  </tbody>\n</table>\n<p>169 rows × 8 columns</p>\n</div>"
     },
     "metadata": {},
     "execution_count": 6
    }
   ],
   "source": [
    "df.loc[df['tianqi'].str.contains('雨'), :]"
   ]
  },
  {
   "cell_type": "code",
   "execution_count": 7,
   "metadata": {},
   "outputs": [
    {
     "output_type": "execute_result",
     "data": {
      "text/plain": "            bWendu  yWendu tianqi fengxiang fengli  aqi aqiInfo  aqiLevel\nymd                                                                      \n2019-06-03      30      21   多云~晴       东南风     3级   48       优         1\n2019-10-18      23      16   多云~晴       东北风     3级   40       优         1\n2019-10-24      24      17   晴~多云       东北风     3级   47       优         1\n2019-11-05      21      15   多云~晴       东北风     3级   36       优         1",
      "text/html": "<div>\n<style scoped>\n    .dataframe tbody tr th:only-of-type {\n        vertical-align: middle;\n    }\n\n    .dataframe tbody tr th {\n        vertical-align: top;\n    }\n\n    .dataframe thead th {\n        text-align: right;\n    }\n</style>\n<table border=\"1\" class=\"dataframe\">\n  <thead>\n    <tr style=\"text-align: right;\">\n      <th></th>\n      <th>bWendu</th>\n      <th>yWendu</th>\n      <th>tianqi</th>\n      <th>fengxiang</th>\n      <th>fengli</th>\n      <th>aqi</th>\n      <th>aqiInfo</th>\n      <th>aqiLevel</th>\n    </tr>\n    <tr>\n      <th>ymd</th>\n      <th></th>\n      <th></th>\n      <th></th>\n      <th></th>\n      <th></th>\n      <th></th>\n      <th></th>\n      <th></th>\n    </tr>\n  </thead>\n  <tbody>\n    <tr>\n      <th>2019-06-03</th>\n      <td>30</td>\n      <td>21</td>\n      <td>多云~晴</td>\n      <td>东南风</td>\n      <td>3级</td>\n      <td>48</td>\n      <td>优</td>\n      <td>1</td>\n    </tr>\n    <tr>\n      <th>2019-10-18</th>\n      <td>23</td>\n      <td>16</td>\n      <td>多云~晴</td>\n      <td>东北风</td>\n      <td>3级</td>\n      <td>40</td>\n      <td>优</td>\n      <td>1</td>\n    </tr>\n    <tr>\n      <th>2019-10-24</th>\n      <td>24</td>\n      <td>17</td>\n      <td>晴~多云</td>\n      <td>东北风</td>\n      <td>3级</td>\n      <td>47</td>\n      <td>优</td>\n      <td>1</td>\n    </tr>\n    <tr>\n      <th>2019-11-05</th>\n      <td>21</td>\n      <td>15</td>\n      <td>多云~晴</td>\n      <td>东北风</td>\n      <td>3级</td>\n      <td>36</td>\n      <td>优</td>\n      <td>1</td>\n    </tr>\n  </tbody>\n</table>\n</div>"
     },
     "metadata": {},
     "execution_count": 7
    }
   ],
   "source": [
    "df.loc[(df[\"bWendu\"]<=30) & (df[\"yWendu\"]>=15) & (df[\"tianqi\"].str.contains('晴')) & (df[\"aqiLevel\"]==1), :]"
   ]
  },
  {
   "cell_type": "code",
   "execution_count": 8,
   "metadata": {},
   "outputs": [
    {
     "output_type": "execute_result",
     "data": {
      "text/plain": "           bWendu      yWendu         aqi    aqiLevel\ncount  365.000000  365.000000  365.000000  365.000000\nmean    21.484932   15.317808   57.487671    1.586301\nstd      8.541940    7.823102   28.039865    0.672317\nmin      4.000000    0.000000   15.000000    1.000000\n25%     13.000000    8.000000   37.000000    1.000000\n50%     23.000000   16.000000   50.000000    1.000000\n75%     28.000000   22.000000   70.000000    2.000000\nmax     37.000000   29.000000  163.000000    4.000000",
      "text/html": "<div>\n<style scoped>\n    .dataframe tbody tr th:only-of-type {\n        vertical-align: middle;\n    }\n\n    .dataframe tbody tr th {\n        vertical-align: top;\n    }\n\n    .dataframe thead th {\n        text-align: right;\n    }\n</style>\n<table border=\"1\" class=\"dataframe\">\n  <thead>\n    <tr style=\"text-align: right;\">\n      <th></th>\n      <th>bWendu</th>\n      <th>yWendu</th>\n      <th>aqi</th>\n      <th>aqiLevel</th>\n    </tr>\n  </thead>\n  <tbody>\n    <tr>\n      <th>count</th>\n      <td>365.000000</td>\n      <td>365.000000</td>\n      <td>365.000000</td>\n      <td>365.000000</td>\n    </tr>\n    <tr>\n      <th>mean</th>\n      <td>21.484932</td>\n      <td>15.317808</td>\n      <td>57.487671</td>\n      <td>1.586301</td>\n    </tr>\n    <tr>\n      <th>std</th>\n      <td>8.541940</td>\n      <td>7.823102</td>\n      <td>28.039865</td>\n      <td>0.672317</td>\n    </tr>\n    <tr>\n      <th>min</th>\n      <td>4.000000</td>\n      <td>0.000000</td>\n      <td>15.000000</td>\n      <td>1.000000</td>\n    </tr>\n    <tr>\n      <th>25%</th>\n      <td>13.000000</td>\n      <td>8.000000</td>\n      <td>37.000000</td>\n      <td>1.000000</td>\n    </tr>\n    <tr>\n      <th>50%</th>\n      <td>23.000000</td>\n      <td>16.000000</td>\n      <td>50.000000</td>\n      <td>1.000000</td>\n    </tr>\n    <tr>\n      <th>75%</th>\n      <td>28.000000</td>\n      <td>22.000000</td>\n      <td>70.000000</td>\n      <td>2.000000</td>\n    </tr>\n    <tr>\n      <th>max</th>\n      <td>37.000000</td>\n      <td>29.000000</td>\n      <td>163.000000</td>\n      <td>4.000000</td>\n    </tr>\n  </tbody>\n</table>\n</div>"
     },
     "metadata": {},
     "execution_count": 8
    }
   ],
   "source": [
    "df.describe()"
   ]
  },
  {
   "cell_type": "code",
   "execution_count": 26,
   "metadata": {},
   "outputs": [
    {
     "output_type": "execute_result",
     "data": {
      "text/plain": "多云        83\n小雨        53\n小雨~多云     36\n阴~多云      29\n多云~小雨     22\n多云~晴      21\n多云~阴      20\n晴         20\n晴~多云      13\n小雨~中雨     10\n小雨~阴      10\n中雨~小雨      9\n阴~小雨       7\n阴          5\n小雨~晴       4\n晴~阴        4\n中雨         3\n中雨~大雨      3\n阴~中雨       2\n小雨~大雨      2\n暴雨~中雨      1\n中雨~多云      1\n阴~晴        1\n中雨~阴       1\n中雨~暴雨      1\n雨夹雪~小雨     1\n暴雨         1\n雷阵雨~小雨     1\n晴~小雨       1\nName: tianqi, dtype: int64"
     },
     "metadata": {},
     "execution_count": 26
    }
   ],
   "source": [
    "df['tianqi'].value_counts()"
   ]
  },
  {
   "cell_type": "code",
   "execution_count": 10,
   "metadata": {},
   "outputs": [],
   "source": [
    "df['month'] = df.index.str[:7]"
   ]
  },
  {
   "cell_type": "code",
   "execution_count": 11,
   "metadata": {},
   "outputs": [
    {
     "output_type": "execute_result",
     "data": {
      "text/plain": "            bWendu  yWendu tianqi fengxiang fengli  aqi aqiInfo  aqiLevel  \\\nymd                                                                         \n2019-01-01       6       3   阴~多云       西北风     3级   39       优         1   \n2019-01-02       8       4   阴~多云       东北风     2级   86       良         2   \n2019-01-03      10       8  多云~小雨       东北风     2级   71       良         2   \n2019-01-04      10       8     小雨       东南风     2级   33       优         1   \n2019-01-05      10       5     小雨       西北风     2级   46       优         1   \n\n              month  \nymd                  \n2019-01-01  2019-01  \n2019-01-02  2019-01  \n2019-01-03  2019-01  \n2019-01-04  2019-01  \n2019-01-05  2019-01  ",
      "text/html": "<div>\n<style scoped>\n    .dataframe tbody tr th:only-of-type {\n        vertical-align: middle;\n    }\n\n    .dataframe tbody tr th {\n        vertical-align: top;\n    }\n\n    .dataframe thead th {\n        text-align: right;\n    }\n</style>\n<table border=\"1\" class=\"dataframe\">\n  <thead>\n    <tr style=\"text-align: right;\">\n      <th></th>\n      <th>bWendu</th>\n      <th>yWendu</th>\n      <th>tianqi</th>\n      <th>fengxiang</th>\n      <th>fengli</th>\n      <th>aqi</th>\n      <th>aqiInfo</th>\n      <th>aqiLevel</th>\n      <th>month</th>\n    </tr>\n    <tr>\n      <th>ymd</th>\n      <th></th>\n      <th></th>\n      <th></th>\n      <th></th>\n      <th></th>\n      <th></th>\n      <th></th>\n      <th></th>\n      <th></th>\n    </tr>\n  </thead>\n  <tbody>\n    <tr>\n      <th>2019-01-01</th>\n      <td>6</td>\n      <td>3</td>\n      <td>阴~多云</td>\n      <td>西北风</td>\n      <td>3级</td>\n      <td>39</td>\n      <td>优</td>\n      <td>1</td>\n      <td>2019-01</td>\n    </tr>\n    <tr>\n      <th>2019-01-02</th>\n      <td>8</td>\n      <td>4</td>\n      <td>阴~多云</td>\n      <td>东北风</td>\n      <td>2级</td>\n      <td>86</td>\n      <td>良</td>\n      <td>2</td>\n      <td>2019-01</td>\n    </tr>\n    <tr>\n      <th>2019-01-03</th>\n      <td>10</td>\n      <td>8</td>\n      <td>多云~小雨</td>\n      <td>东北风</td>\n      <td>2级</td>\n      <td>71</td>\n      <td>良</td>\n      <td>2</td>\n      <td>2019-01</td>\n    </tr>\n    <tr>\n      <th>2019-01-04</th>\n      <td>10</td>\n      <td>8</td>\n      <td>小雨</td>\n      <td>东南风</td>\n      <td>2级</td>\n      <td>33</td>\n      <td>优</td>\n      <td>1</td>\n      <td>2019-01</td>\n    </tr>\n    <tr>\n      <th>2019-01-05</th>\n      <td>10</td>\n      <td>5</td>\n      <td>小雨</td>\n      <td>西北风</td>\n      <td>2级</td>\n      <td>46</td>\n      <td>优</td>\n      <td>1</td>\n      <td>2019-01</td>\n    </tr>\n  </tbody>\n</table>\n</div>"
     },
     "metadata": {},
     "execution_count": 11
    }
   ],
   "source": [
    "df.head()"
   ]
  },
  {
   "cell_type": "code",
   "execution_count": 12,
   "metadata": {},
   "outputs": [
    {
     "output_type": "execute_result",
     "data": {
      "text/plain": "month\n2019-01    15\n2019-02    16\n2019-03    25\n2019-04    29\n2019-05    34\n2019-06    33\n2019-07    37\n2019-08    36\n2019-09    32\n2019-10    30\n2019-11    24\n2019-12    20\nName: bWendu, dtype: int32"
     },
     "metadata": {},
     "execution_count": 12
    }
   ],
   "source": [
    "data = df.groupby('month')['bWendu'].max()\n",
    "data"
   ]
  },
  {
   "cell_type": "code",
   "execution_count": 14,
   "metadata": {},
   "outputs": [
    {
     "output_type": "execute_result",
     "data": {
      "text/plain": "         bWendu  yWendu        aqi\nmonth                             \n2019-01      15       0  70.967742\n2019-02      16       2  61.892857\n2019-03      25       4  75.064516\n2019-04      29       9  59.800000\n2019-05      34      12  58.870968\n2019-06      33      19  46.766667\n2019-07      37      21  42.870968\n2019-08      36      22  42.741935\n2019-09      32      18  40.433333\n2019-10      30      13  61.258065\n2019-11      24       7  57.300000\n2019-12      20       2  71.483871",
      "text/html": "<div>\n<style scoped>\n    .dataframe tbody tr th:only-of-type {\n        vertical-align: middle;\n    }\n\n    .dataframe tbody tr th {\n        vertical-align: top;\n    }\n\n    .dataframe thead th {\n        text-align: right;\n    }\n</style>\n<table border=\"1\" class=\"dataframe\">\n  <thead>\n    <tr style=\"text-align: right;\">\n      <th></th>\n      <th>bWendu</th>\n      <th>yWendu</th>\n      <th>aqi</th>\n    </tr>\n    <tr>\n      <th>month</th>\n      <th></th>\n      <th></th>\n      <th></th>\n    </tr>\n  </thead>\n  <tbody>\n    <tr>\n      <th>2019-01</th>\n      <td>15</td>\n      <td>0</td>\n      <td>70.967742</td>\n    </tr>\n    <tr>\n      <th>2019-02</th>\n      <td>16</td>\n      <td>2</td>\n      <td>61.892857</td>\n    </tr>\n    <tr>\n      <th>2019-03</th>\n      <td>25</td>\n      <td>4</td>\n      <td>75.064516</td>\n    </tr>\n    <tr>\n      <th>2019-04</th>\n      <td>29</td>\n      <td>9</td>\n      <td>59.800000</td>\n    </tr>\n    <tr>\n      <th>2019-05</th>\n      <td>34</td>\n      <td>12</td>\n      <td>58.870968</td>\n    </tr>\n    <tr>\n      <th>2019-06</th>\n      <td>33</td>\n      <td>19</td>\n      <td>46.766667</td>\n    </tr>\n    <tr>\n      <th>2019-07</th>\n      <td>37</td>\n      <td>21</td>\n      <td>42.870968</td>\n    </tr>\n    <tr>\n      <th>2019-08</th>\n      <td>36</td>\n      <td>22</td>\n      <td>42.741935</td>\n    </tr>\n    <tr>\n      <th>2019-09</th>\n      <td>32</td>\n      <td>18</td>\n      <td>40.433333</td>\n    </tr>\n    <tr>\n      <th>2019-10</th>\n      <td>30</td>\n      <td>13</td>\n      <td>61.258065</td>\n    </tr>\n    <tr>\n      <th>2019-11</th>\n      <td>24</td>\n      <td>7</td>\n      <td>57.300000</td>\n    </tr>\n    <tr>\n      <th>2019-12</th>\n      <td>20</td>\n      <td>2</td>\n      <td>71.483871</td>\n    </tr>\n  </tbody>\n</table>\n</div>"
     },
     "metadata": {},
     "execution_count": 14
    }
   ],
   "source": [
    "import numpy as np\n",
    "group_data = df.groupby('month').agg({\"bWendu\":np.max, \"yWendu\":np.min, \"aqi\":np.mean})\n",
    "group_data"
   ]
  },
  {
   "cell_type": "code",
   "execution_count": 15,
   "metadata": {},
   "outputs": [
    {
     "output_type": "execute_result",
     "data": {
      "text/plain": "<AxesSubplot:xlabel='month'>"
     },
     "metadata": {},
     "execution_count": 15
    },
    {
     "output_type": "display_data",
     "data": {
      "text/plain": "<Figure size 432x288 with 1 Axes>",
      "image/svg+xml": "<?xml version=\"1.0\" encoding=\"utf-8\" standalone=\"no\"?>\r\n<!DOCTYPE svg PUBLIC \"-//W3C//DTD SVG 1.1//EN\"\r\n  \"http://www.w3.org/Graphics/SVG/1.1/DTD/svg11.dtd\">\r\n<!-- Created with matplotlib (https://matplotlib.org/) -->\r\n<svg height=\"262.19625pt\" version=\"1.1\" viewBox=\"0 0 370.091406 262.19625\" width=\"370.091406pt\" xmlns=\"http://www.w3.org/2000/svg\" xmlns:xlink=\"http://www.w3.org/1999/xlink\">\r\n <metadata>\r\n  <rdf:RDF xmlns:cc=\"http://creativecommons.org/ns#\" xmlns:dc=\"http://purl.org/dc/elements/1.1/\" xmlns:rdf=\"http://www.w3.org/1999/02/22-rdf-syntax-ns#\">\r\n   <cc:Work>\r\n    <dc:type rdf:resource=\"http://purl.org/dc/dcmitype/StillImage\"/>\r\n    <dc:date>2020-08-31T17:54:23.354518</dc:date>\r\n    <dc:format>image/svg+xml</dc:format>\r\n    <dc:creator>\r\n     <cc:Agent>\r\n      <dc:title>Matplotlib v3.3.1, https://matplotlib.org/</dc:title>\r\n     </cc:Agent>\r\n    </dc:creator>\r\n   </cc:Work>\r\n  </rdf:RDF>\r\n </metadata>\r\n <defs>\r\n  <style type=\"text/css\">*{stroke-linecap:butt;stroke-linejoin:round;}</style>\r\n </defs>\r\n <g id=\"figure_1\">\r\n  <g id=\"patch_1\">\r\n   <path d=\"M 0 262.19625 \r\nL 370.091406 262.19625 \r\nL 370.091406 0 \r\nL 0 0 \r\nz\r\n\" style=\"fill:none;\"/>\r\n  </g>\r\n  <g id=\"axes_1\">\r\n   <g id=\"patch_2\">\r\n    <path d=\"M 28.091406 224.64 \r\nL 362.891406 224.64 \r\nL 362.891406 7.2 \r\nL 28.091406 7.2 \r\nz\r\n\" style=\"fill:#ffffff;\"/>\r\n   </g>\r\n   <g id=\"matplotlib.axis_1\">\r\n    <g id=\"xtick_1\">\r\n     <g id=\"line2d_1\">\r\n      <defs>\r\n       <path d=\"M 0 0 \r\nL 0 3.5 \r\n\" id=\"m28288777ca\" style=\"stroke:#000000;stroke-width:0.8;\"/>\r\n      </defs>\r\n      <g>\r\n       <use style=\"stroke:#000000;stroke-width:0.8;\" x=\"28.091406\" xlink:href=\"#m28288777ca\" y=\"224.64\"/>\r\n      </g>\r\n     </g>\r\n     <g id=\"text_1\">\r\n      <!-- 2019-01 -->\r\n      <g transform=\"translate(7.2 239.238437)scale(0.1 -0.1)\">\r\n       <defs>\r\n        <path d=\"M 19.1875 8.296875 \r\nL 53.609375 8.296875 \r\nL 53.609375 0 \r\nL 7.328125 0 \r\nL 7.328125 8.296875 \r\nQ 12.9375 14.109375 22.625 23.890625 \r\nQ 32.328125 33.6875 34.8125 36.53125 \r\nQ 39.546875 41.84375 41.421875 45.53125 \r\nQ 43.3125 49.21875 43.3125 52.78125 \r\nQ 43.3125 58.59375 39.234375 62.25 \r\nQ 35.15625 65.921875 28.609375 65.921875 \r\nQ 23.96875 65.921875 18.8125 64.3125 \r\nQ 13.671875 62.703125 7.8125 59.421875 \r\nL 7.8125 69.390625 \r\nQ 13.765625 71.78125 18.9375 73 \r\nQ 24.125 74.21875 28.421875 74.21875 \r\nQ 39.75 74.21875 46.484375 68.546875 \r\nQ 53.21875 62.890625 53.21875 53.421875 \r\nQ 53.21875 48.921875 51.53125 44.890625 \r\nQ 49.859375 40.875 45.40625 35.40625 \r\nQ 44.1875 33.984375 37.640625 27.21875 \r\nQ 31.109375 20.453125 19.1875 8.296875 \r\nz\r\n\" id=\"DejaVuSans-50\"/>\r\n        <path d=\"M 31.78125 66.40625 \r\nQ 24.171875 66.40625 20.328125 58.90625 \r\nQ 16.5 51.421875 16.5 36.375 \r\nQ 16.5 21.390625 20.328125 13.890625 \r\nQ 24.171875 6.390625 31.78125 6.390625 \r\nQ 39.453125 6.390625 43.28125 13.890625 \r\nQ 47.125 21.390625 47.125 36.375 \r\nQ 47.125 51.421875 43.28125 58.90625 \r\nQ 39.453125 66.40625 31.78125 66.40625 \r\nz\r\nM 31.78125 74.21875 \r\nQ 44.046875 74.21875 50.515625 64.515625 \r\nQ 56.984375 54.828125 56.984375 36.375 \r\nQ 56.984375 17.96875 50.515625 8.265625 \r\nQ 44.046875 -1.421875 31.78125 -1.421875 \r\nQ 19.53125 -1.421875 13.0625 8.265625 \r\nQ 6.59375 17.96875 6.59375 36.375 \r\nQ 6.59375 54.828125 13.0625 64.515625 \r\nQ 19.53125 74.21875 31.78125 74.21875 \r\nz\r\n\" id=\"DejaVuSans-48\"/>\r\n        <path d=\"M 12.40625 8.296875 \r\nL 28.515625 8.296875 \r\nL 28.515625 63.921875 \r\nL 10.984375 60.40625 \r\nL 10.984375 69.390625 \r\nL 28.421875 72.90625 \r\nL 38.28125 72.90625 \r\nL 38.28125 8.296875 \r\nL 54.390625 8.296875 \r\nL 54.390625 0 \r\nL 12.40625 0 \r\nz\r\n\" id=\"DejaVuSans-49\"/>\r\n        <path d=\"M 10.984375 1.515625 \r\nL 10.984375 10.5 \r\nQ 14.703125 8.734375 18.5 7.8125 \r\nQ 22.3125 6.890625 25.984375 6.890625 \r\nQ 35.75 6.890625 40.890625 13.453125 \r\nQ 46.046875 20.015625 46.78125 33.40625 \r\nQ 43.953125 29.203125 39.59375 26.953125 \r\nQ 35.25 24.703125 29.984375 24.703125 \r\nQ 19.046875 24.703125 12.671875 31.3125 \r\nQ 6.296875 37.9375 6.296875 49.421875 \r\nQ 6.296875 60.640625 12.9375 67.421875 \r\nQ 19.578125 74.21875 30.609375 74.21875 \r\nQ 43.265625 74.21875 49.921875 64.515625 \r\nQ 56.59375 54.828125 56.59375 36.375 \r\nQ 56.59375 19.140625 48.40625 8.859375 \r\nQ 40.234375 -1.421875 26.421875 -1.421875 \r\nQ 22.703125 -1.421875 18.890625 -0.6875 \r\nQ 15.09375 0.046875 10.984375 1.515625 \r\nz\r\nM 30.609375 32.421875 \r\nQ 37.25 32.421875 41.125 36.953125 \r\nQ 45.015625 41.5 45.015625 49.421875 \r\nQ 45.015625 57.28125 41.125 61.84375 \r\nQ 37.25 66.40625 30.609375 66.40625 \r\nQ 23.96875 66.40625 20.09375 61.84375 \r\nQ 16.21875 57.28125 16.21875 49.421875 \r\nQ 16.21875 41.5 20.09375 36.953125 \r\nQ 23.96875 32.421875 30.609375 32.421875 \r\nz\r\n\" id=\"DejaVuSans-57\"/>\r\n        <path d=\"M 4.890625 31.390625 \r\nL 31.203125 31.390625 \r\nL 31.203125 23.390625 \r\nL 4.890625 23.390625 \r\nz\r\n\" id=\"DejaVuSans-45\"/>\r\n       </defs>\r\n       <use xlink:href=\"#DejaVuSans-50\"/>\r\n       <use x=\"63.623047\" xlink:href=\"#DejaVuSans-48\"/>\r\n       <use x=\"127.246094\" xlink:href=\"#DejaVuSans-49\"/>\r\n       <use x=\"190.869141\" xlink:href=\"#DejaVuSans-57\"/>\r\n       <use x=\"254.492188\" xlink:href=\"#DejaVuSans-45\"/>\r\n       <use x=\"290.576172\" xlink:href=\"#DejaVuSans-48\"/>\r\n       <use x=\"354.199219\" xlink:href=\"#DejaVuSans-49\"/>\r\n      </g>\r\n     </g>\r\n    </g>\r\n    <g id=\"xtick_2\">\r\n     <g id=\"line2d_2\">\r\n      <g>\r\n       <use style=\"stroke:#000000;stroke-width:0.8;\" x=\"88.964134\" xlink:href=\"#m28288777ca\" y=\"224.64\"/>\r\n      </g>\r\n     </g>\r\n     <g id=\"text_2\">\r\n      <!-- 2019-03 -->\r\n      <g transform=\"translate(68.072727 239.238437)scale(0.1 -0.1)\">\r\n       <defs>\r\n        <path d=\"M 40.578125 39.3125 \r\nQ 47.65625 37.796875 51.625 33 \r\nQ 55.609375 28.21875 55.609375 21.1875 \r\nQ 55.609375 10.40625 48.1875 4.484375 \r\nQ 40.765625 -1.421875 27.09375 -1.421875 \r\nQ 22.515625 -1.421875 17.65625 -0.515625 \r\nQ 12.796875 0.390625 7.625 2.203125 \r\nL 7.625 11.71875 \r\nQ 11.71875 9.328125 16.59375 8.109375 \r\nQ 21.484375 6.890625 26.8125 6.890625 \r\nQ 36.078125 6.890625 40.9375 10.546875 \r\nQ 45.796875 14.203125 45.796875 21.1875 \r\nQ 45.796875 27.640625 41.28125 31.265625 \r\nQ 36.765625 34.90625 28.71875 34.90625 \r\nL 20.21875 34.90625 \r\nL 20.21875 43.015625 \r\nL 29.109375 43.015625 \r\nQ 36.375 43.015625 40.234375 45.921875 \r\nQ 44.09375 48.828125 44.09375 54.296875 \r\nQ 44.09375 59.90625 40.109375 62.90625 \r\nQ 36.140625 65.921875 28.71875 65.921875 \r\nQ 24.65625 65.921875 20.015625 65.03125 \r\nQ 15.375 64.15625 9.8125 62.3125 \r\nL 9.8125 71.09375 \r\nQ 15.4375 72.65625 20.34375 73.4375 \r\nQ 25.25 74.21875 29.59375 74.21875 \r\nQ 40.828125 74.21875 47.359375 69.109375 \r\nQ 53.90625 64.015625 53.90625 55.328125 \r\nQ 53.90625 49.265625 50.4375 45.09375 \r\nQ 46.96875 40.921875 40.578125 39.3125 \r\nz\r\n\" id=\"DejaVuSans-51\"/>\r\n       </defs>\r\n       <use xlink:href=\"#DejaVuSans-50\"/>\r\n       <use x=\"63.623047\" xlink:href=\"#DejaVuSans-48\"/>\r\n       <use x=\"127.246094\" xlink:href=\"#DejaVuSans-49\"/>\r\n       <use x=\"190.869141\" xlink:href=\"#DejaVuSans-57\"/>\r\n       <use x=\"254.492188\" xlink:href=\"#DejaVuSans-45\"/>\r\n       <use x=\"290.576172\" xlink:href=\"#DejaVuSans-48\"/>\r\n       <use x=\"354.199219\" xlink:href=\"#DejaVuSans-51\"/>\r\n      </g>\r\n     </g>\r\n    </g>\r\n    <g id=\"xtick_3\">\r\n     <g id=\"line2d_3\">\r\n      <g>\r\n       <use style=\"stroke:#000000;stroke-width:0.8;\" x=\"149.836861\" xlink:href=\"#m28288777ca\" y=\"224.64\"/>\r\n      </g>\r\n     </g>\r\n     <g id=\"text_3\">\r\n      <!-- 2019-05 -->\r\n      <g transform=\"translate(128.945455 239.238437)scale(0.1 -0.1)\">\r\n       <defs>\r\n        <path d=\"M 10.796875 72.90625 \r\nL 49.515625 72.90625 \r\nL 49.515625 64.59375 \r\nL 19.828125 64.59375 \r\nL 19.828125 46.734375 \r\nQ 21.96875 47.46875 24.109375 47.828125 \r\nQ 26.265625 48.1875 28.421875 48.1875 \r\nQ 40.625 48.1875 47.75 41.5 \r\nQ 54.890625 34.8125 54.890625 23.390625 \r\nQ 54.890625 11.625 47.5625 5.09375 \r\nQ 40.234375 -1.421875 26.90625 -1.421875 \r\nQ 22.3125 -1.421875 17.546875 -0.640625 \r\nQ 12.796875 0.140625 7.71875 1.703125 \r\nL 7.71875 11.625 \r\nQ 12.109375 9.234375 16.796875 8.0625 \r\nQ 21.484375 6.890625 26.703125 6.890625 \r\nQ 35.15625 6.890625 40.078125 11.328125 \r\nQ 45.015625 15.765625 45.015625 23.390625 \r\nQ 45.015625 31 40.078125 35.4375 \r\nQ 35.15625 39.890625 26.703125 39.890625 \r\nQ 22.75 39.890625 18.8125 39.015625 \r\nQ 14.890625 38.140625 10.796875 36.28125 \r\nz\r\n\" id=\"DejaVuSans-53\"/>\r\n       </defs>\r\n       <use xlink:href=\"#DejaVuSans-50\"/>\r\n       <use x=\"63.623047\" xlink:href=\"#DejaVuSans-48\"/>\r\n       <use x=\"127.246094\" xlink:href=\"#DejaVuSans-49\"/>\r\n       <use x=\"190.869141\" xlink:href=\"#DejaVuSans-57\"/>\r\n       <use x=\"254.492188\" xlink:href=\"#DejaVuSans-45\"/>\r\n       <use x=\"290.576172\" xlink:href=\"#DejaVuSans-48\"/>\r\n       <use x=\"354.199219\" xlink:href=\"#DejaVuSans-53\"/>\r\n      </g>\r\n     </g>\r\n    </g>\r\n    <g id=\"xtick_4\">\r\n     <g id=\"line2d_4\">\r\n      <g>\r\n       <use style=\"stroke:#000000;stroke-width:0.8;\" x=\"210.709588\" xlink:href=\"#m28288777ca\" y=\"224.64\"/>\r\n      </g>\r\n     </g>\r\n     <g id=\"text_4\">\r\n      <!-- 2019-07 -->\r\n      <g transform=\"translate(189.818182 239.238437)scale(0.1 -0.1)\">\r\n       <defs>\r\n        <path d=\"M 8.203125 72.90625 \r\nL 55.078125 72.90625 \r\nL 55.078125 68.703125 \r\nL 28.609375 0 \r\nL 18.3125 0 \r\nL 43.21875 64.59375 \r\nL 8.203125 64.59375 \r\nz\r\n\" id=\"DejaVuSans-55\"/>\r\n       </defs>\r\n       <use xlink:href=\"#DejaVuSans-50\"/>\r\n       <use x=\"63.623047\" xlink:href=\"#DejaVuSans-48\"/>\r\n       <use x=\"127.246094\" xlink:href=\"#DejaVuSans-49\"/>\r\n       <use x=\"190.869141\" xlink:href=\"#DejaVuSans-57\"/>\r\n       <use x=\"254.492188\" xlink:href=\"#DejaVuSans-45\"/>\r\n       <use x=\"290.576172\" xlink:href=\"#DejaVuSans-48\"/>\r\n       <use x=\"354.199219\" xlink:href=\"#DejaVuSans-55\"/>\r\n      </g>\r\n     </g>\r\n    </g>\r\n    <g id=\"xtick_5\">\r\n     <g id=\"line2d_5\">\r\n      <g>\r\n       <use style=\"stroke:#000000;stroke-width:0.8;\" x=\"271.582315\" xlink:href=\"#m28288777ca\" y=\"224.64\"/>\r\n      </g>\r\n     </g>\r\n     <g id=\"text_5\">\r\n      <!-- 2019-09 -->\r\n      <g transform=\"translate(250.690909 239.238437)scale(0.1 -0.1)\">\r\n       <use xlink:href=\"#DejaVuSans-50\"/>\r\n       <use x=\"63.623047\" xlink:href=\"#DejaVuSans-48\"/>\r\n       <use x=\"127.246094\" xlink:href=\"#DejaVuSans-49\"/>\r\n       <use x=\"190.869141\" xlink:href=\"#DejaVuSans-57\"/>\r\n       <use x=\"254.492188\" xlink:href=\"#DejaVuSans-45\"/>\r\n       <use x=\"290.576172\" xlink:href=\"#DejaVuSans-48\"/>\r\n       <use x=\"354.199219\" xlink:href=\"#DejaVuSans-57\"/>\r\n      </g>\r\n     </g>\r\n    </g>\r\n    <g id=\"xtick_6\">\r\n     <g id=\"line2d_6\">\r\n      <g>\r\n       <use style=\"stroke:#000000;stroke-width:0.8;\" x=\"332.455043\" xlink:href=\"#m28288777ca\" y=\"224.64\"/>\r\n      </g>\r\n     </g>\r\n     <g id=\"text_6\">\r\n      <!-- 2019-11 -->\r\n      <g transform=\"translate(311.563636 239.238437)scale(0.1 -0.1)\">\r\n       <use xlink:href=\"#DejaVuSans-50\"/>\r\n       <use x=\"63.623047\" xlink:href=\"#DejaVuSans-48\"/>\r\n       <use x=\"127.246094\" xlink:href=\"#DejaVuSans-49\"/>\r\n       <use x=\"190.869141\" xlink:href=\"#DejaVuSans-57\"/>\r\n       <use x=\"254.492188\" xlink:href=\"#DejaVuSans-45\"/>\r\n       <use x=\"290.576172\" xlink:href=\"#DejaVuSans-49\"/>\r\n       <use x=\"354.199219\" xlink:href=\"#DejaVuSans-49\"/>\r\n      </g>\r\n     </g>\r\n    </g>\r\n    <g id=\"text_7\">\r\n     <!-- month -->\r\n     <g transform=\"translate(179.264063 252.916562)scale(0.1 -0.1)\">\r\n      <defs>\r\n       <path d=\"M 52 44.1875 \r\nQ 55.375 50.25 60.0625 53.125 \r\nQ 64.75 56 71.09375 56 \r\nQ 79.640625 56 84.28125 50.015625 \r\nQ 88.921875 44.046875 88.921875 33.015625 \r\nL 88.921875 0 \r\nL 79.890625 0 \r\nL 79.890625 32.71875 \r\nQ 79.890625 40.578125 77.09375 44.375 \r\nQ 74.3125 48.1875 68.609375 48.1875 \r\nQ 61.625 48.1875 57.5625 43.546875 \r\nQ 53.515625 38.921875 53.515625 30.90625 \r\nL 53.515625 0 \r\nL 44.484375 0 \r\nL 44.484375 32.71875 \r\nQ 44.484375 40.625 41.703125 44.40625 \r\nQ 38.921875 48.1875 33.109375 48.1875 \r\nQ 26.21875 48.1875 22.15625 43.53125 \r\nQ 18.109375 38.875 18.109375 30.90625 \r\nL 18.109375 0 \r\nL 9.078125 0 \r\nL 9.078125 54.6875 \r\nL 18.109375 54.6875 \r\nL 18.109375 46.1875 \r\nQ 21.1875 51.21875 25.484375 53.609375 \r\nQ 29.78125 56 35.6875 56 \r\nQ 41.65625 56 45.828125 52.96875 \r\nQ 50 49.953125 52 44.1875 \r\nz\r\n\" id=\"DejaVuSans-109\"/>\r\n       <path d=\"M 30.609375 48.390625 \r\nQ 23.390625 48.390625 19.1875 42.75 \r\nQ 14.984375 37.109375 14.984375 27.296875 \r\nQ 14.984375 17.484375 19.15625 11.84375 \r\nQ 23.34375 6.203125 30.609375 6.203125 \r\nQ 37.796875 6.203125 41.984375 11.859375 \r\nQ 46.1875 17.53125 46.1875 27.296875 \r\nQ 46.1875 37.015625 41.984375 42.703125 \r\nQ 37.796875 48.390625 30.609375 48.390625 \r\nz\r\nM 30.609375 56 \r\nQ 42.328125 56 49.015625 48.375 \r\nQ 55.71875 40.765625 55.71875 27.296875 \r\nQ 55.71875 13.875 49.015625 6.21875 \r\nQ 42.328125 -1.421875 30.609375 -1.421875 \r\nQ 18.84375 -1.421875 12.171875 6.21875 \r\nQ 5.515625 13.875 5.515625 27.296875 \r\nQ 5.515625 40.765625 12.171875 48.375 \r\nQ 18.84375 56 30.609375 56 \r\nz\r\n\" id=\"DejaVuSans-111\"/>\r\n       <path d=\"M 54.890625 33.015625 \r\nL 54.890625 0 \r\nL 45.90625 0 \r\nL 45.90625 32.71875 \r\nQ 45.90625 40.484375 42.875 44.328125 \r\nQ 39.84375 48.1875 33.796875 48.1875 \r\nQ 26.515625 48.1875 22.3125 43.546875 \r\nQ 18.109375 38.921875 18.109375 30.90625 \r\nL 18.109375 0 \r\nL 9.078125 0 \r\nL 9.078125 54.6875 \r\nL 18.109375 54.6875 \r\nL 18.109375 46.1875 \r\nQ 21.34375 51.125 25.703125 53.5625 \r\nQ 30.078125 56 35.796875 56 \r\nQ 45.21875 56 50.046875 50.171875 \r\nQ 54.890625 44.34375 54.890625 33.015625 \r\nz\r\n\" id=\"DejaVuSans-110\"/>\r\n       <path d=\"M 18.3125 70.21875 \r\nL 18.3125 54.6875 \r\nL 36.8125 54.6875 \r\nL 36.8125 47.703125 \r\nL 18.3125 47.703125 \r\nL 18.3125 18.015625 \r\nQ 18.3125 11.328125 20.140625 9.421875 \r\nQ 21.96875 7.515625 27.59375 7.515625 \r\nL 36.8125 7.515625 \r\nL 36.8125 0 \r\nL 27.59375 0 \r\nQ 17.1875 0 13.234375 3.875 \r\nQ 9.28125 7.765625 9.28125 18.015625 \r\nL 9.28125 47.703125 \r\nL 2.6875 47.703125 \r\nL 2.6875 54.6875 \r\nL 9.28125 54.6875 \r\nL 9.28125 70.21875 \r\nz\r\n\" id=\"DejaVuSans-116\"/>\r\n       <path d=\"M 54.890625 33.015625 \r\nL 54.890625 0 \r\nL 45.90625 0 \r\nL 45.90625 32.71875 \r\nQ 45.90625 40.484375 42.875 44.328125 \r\nQ 39.84375 48.1875 33.796875 48.1875 \r\nQ 26.515625 48.1875 22.3125 43.546875 \r\nQ 18.109375 38.921875 18.109375 30.90625 \r\nL 18.109375 0 \r\nL 9.078125 0 \r\nL 9.078125 75.984375 \r\nL 18.109375 75.984375 \r\nL 18.109375 46.1875 \r\nQ 21.34375 51.125 25.703125 53.5625 \r\nQ 30.078125 56 35.796875 56 \r\nQ 45.21875 56 50.046875 50.171875 \r\nQ 54.890625 44.34375 54.890625 33.015625 \r\nz\r\n\" id=\"DejaVuSans-104\"/>\r\n      </defs>\r\n      <use xlink:href=\"#DejaVuSans-109\"/>\r\n      <use x=\"97.412109\" xlink:href=\"#DejaVuSans-111\"/>\r\n      <use x=\"158.59375\" xlink:href=\"#DejaVuSans-110\"/>\r\n      <use x=\"221.972656\" xlink:href=\"#DejaVuSans-116\"/>\r\n      <use x=\"261.181641\" xlink:href=\"#DejaVuSans-104\"/>\r\n     </g>\r\n    </g>\r\n   </g>\r\n   <g id=\"matplotlib.axis_2\">\r\n    <g id=\"ytick_1\">\r\n     <g id=\"line2d_7\">\r\n      <defs>\r\n       <path d=\"M 0 0 \r\nL -3.5 0 \r\n\" id=\"m70072a20fd\" style=\"stroke:#000000;stroke-width:0.8;\"/>\r\n      </defs>\r\n      <g>\r\n       <use style=\"stroke:#000000;stroke-width:0.8;\" x=\"28.091406\" xlink:href=\"#m70072a20fd\" y=\"214.756364\"/>\r\n      </g>\r\n     </g>\r\n     <g id=\"text_8\">\r\n      <!-- 0 -->\r\n      <g transform=\"translate(14.728906 218.555582)scale(0.1 -0.1)\">\r\n       <use xlink:href=\"#DejaVuSans-48\"/>\r\n      </g>\r\n     </g>\r\n    </g>\r\n    <g id=\"ytick_2\">\r\n     <g id=\"line2d_8\">\r\n      <g>\r\n       <use style=\"stroke:#000000;stroke-width:0.8;\" x=\"28.091406\" xlink:href=\"#m70072a20fd\" y=\"188.422653\"/>\r\n      </g>\r\n     </g>\r\n     <g id=\"text_9\">\r\n      <!-- 10 -->\r\n      <g transform=\"translate(8.366406 192.221871)scale(0.1 -0.1)\">\r\n       <use xlink:href=\"#DejaVuSans-49\"/>\r\n       <use x=\"63.623047\" xlink:href=\"#DejaVuSans-48\"/>\r\n      </g>\r\n     </g>\r\n    </g>\r\n    <g id=\"ytick_3\">\r\n     <g id=\"line2d_9\">\r\n      <g>\r\n       <use style=\"stroke:#000000;stroke-width:0.8;\" x=\"28.091406\" xlink:href=\"#m70072a20fd\" y=\"162.088942\"/>\r\n      </g>\r\n     </g>\r\n     <g id=\"text_10\">\r\n      <!-- 20 -->\r\n      <g transform=\"translate(8.366406 165.88816)scale(0.1 -0.1)\">\r\n       <use xlink:href=\"#DejaVuSans-50\"/>\r\n       <use x=\"63.623047\" xlink:href=\"#DejaVuSans-48\"/>\r\n      </g>\r\n     </g>\r\n    </g>\r\n    <g id=\"ytick_4\">\r\n     <g id=\"line2d_10\">\r\n      <g>\r\n       <use style=\"stroke:#000000;stroke-width:0.8;\" x=\"28.091406\" xlink:href=\"#m70072a20fd\" y=\"135.755231\"/>\r\n      </g>\r\n     </g>\r\n     <g id=\"text_11\">\r\n      <!-- 30 -->\r\n      <g transform=\"translate(8.366406 139.554449)scale(0.1 -0.1)\">\r\n       <use xlink:href=\"#DejaVuSans-51\"/>\r\n       <use x=\"63.623047\" xlink:href=\"#DejaVuSans-48\"/>\r\n      </g>\r\n     </g>\r\n    </g>\r\n    <g id=\"ytick_5\">\r\n     <g id=\"line2d_11\">\r\n      <g>\r\n       <use style=\"stroke:#000000;stroke-width:0.8;\" x=\"28.091406\" xlink:href=\"#m70072a20fd\" y=\"109.42152\"/>\r\n      </g>\r\n     </g>\r\n     <g id=\"text_12\">\r\n      <!-- 40 -->\r\n      <g transform=\"translate(8.366406 113.220738)scale(0.1 -0.1)\">\r\n       <defs>\r\n        <path d=\"M 37.796875 64.3125 \r\nL 12.890625 25.390625 \r\nL 37.796875 25.390625 \r\nz\r\nM 35.203125 72.90625 \r\nL 47.609375 72.90625 \r\nL 47.609375 25.390625 \r\nL 58.015625 25.390625 \r\nL 58.015625 17.1875 \r\nL 47.609375 17.1875 \r\nL 47.609375 0 \r\nL 37.796875 0 \r\nL 37.796875 17.1875 \r\nL 4.890625 17.1875 \r\nL 4.890625 26.703125 \r\nz\r\n\" id=\"DejaVuSans-52\"/>\r\n       </defs>\r\n       <use xlink:href=\"#DejaVuSans-52\"/>\r\n       <use x=\"63.623047\" xlink:href=\"#DejaVuSans-48\"/>\r\n      </g>\r\n     </g>\r\n    </g>\r\n    <g id=\"ytick_6\">\r\n     <g id=\"line2d_12\">\r\n      <g>\r\n       <use style=\"stroke:#000000;stroke-width:0.8;\" x=\"28.091406\" xlink:href=\"#m70072a20fd\" y=\"83.087809\"/>\r\n      </g>\r\n     </g>\r\n     <g id=\"text_13\">\r\n      <!-- 50 -->\r\n      <g transform=\"translate(8.366406 86.887027)scale(0.1 -0.1)\">\r\n       <use xlink:href=\"#DejaVuSans-53\"/>\r\n       <use x=\"63.623047\" xlink:href=\"#DejaVuSans-48\"/>\r\n      </g>\r\n     </g>\r\n    </g>\r\n    <g id=\"ytick_7\">\r\n     <g id=\"line2d_13\">\r\n      <g>\r\n       <use style=\"stroke:#000000;stroke-width:0.8;\" x=\"28.091406\" xlink:href=\"#m70072a20fd\" y=\"56.754098\"/>\r\n      </g>\r\n     </g>\r\n     <g id=\"text_14\">\r\n      <!-- 60 -->\r\n      <g transform=\"translate(8.366406 60.553316)scale(0.1 -0.1)\">\r\n       <defs>\r\n        <path d=\"M 33.015625 40.375 \r\nQ 26.375 40.375 22.484375 35.828125 \r\nQ 18.609375 31.296875 18.609375 23.390625 \r\nQ 18.609375 15.53125 22.484375 10.953125 \r\nQ 26.375 6.390625 33.015625 6.390625 \r\nQ 39.65625 6.390625 43.53125 10.953125 \r\nQ 47.40625 15.53125 47.40625 23.390625 \r\nQ 47.40625 31.296875 43.53125 35.828125 \r\nQ 39.65625 40.375 33.015625 40.375 \r\nz\r\nM 52.59375 71.296875 \r\nL 52.59375 62.3125 \r\nQ 48.875 64.0625 45.09375 64.984375 \r\nQ 41.3125 65.921875 37.59375 65.921875 \r\nQ 27.828125 65.921875 22.671875 59.328125 \r\nQ 17.53125 52.734375 16.796875 39.40625 \r\nQ 19.671875 43.65625 24.015625 45.921875 \r\nQ 28.375 48.1875 33.59375 48.1875 \r\nQ 44.578125 48.1875 50.953125 41.515625 \r\nQ 57.328125 34.859375 57.328125 23.390625 \r\nQ 57.328125 12.15625 50.6875 5.359375 \r\nQ 44.046875 -1.421875 33.015625 -1.421875 \r\nQ 20.359375 -1.421875 13.671875 8.265625 \r\nQ 6.984375 17.96875 6.984375 36.375 \r\nQ 6.984375 53.65625 15.1875 63.9375 \r\nQ 23.390625 74.21875 37.203125 74.21875 \r\nQ 40.921875 74.21875 44.703125 73.484375 \r\nQ 48.484375 72.75 52.59375 71.296875 \r\nz\r\n\" id=\"DejaVuSans-54\"/>\r\n       </defs>\r\n       <use xlink:href=\"#DejaVuSans-54\"/>\r\n       <use x=\"63.623047\" xlink:href=\"#DejaVuSans-48\"/>\r\n      </g>\r\n     </g>\r\n    </g>\r\n    <g id=\"ytick_8\">\r\n     <g id=\"line2d_14\">\r\n      <g>\r\n       <use style=\"stroke:#000000;stroke-width:0.8;\" x=\"28.091406\" xlink:href=\"#m70072a20fd\" y=\"30.420387\"/>\r\n      </g>\r\n     </g>\r\n     <g id=\"text_15\">\r\n      <!-- 70 -->\r\n      <g transform=\"translate(8.366406 34.219606)scale(0.1 -0.1)\">\r\n       <use xlink:href=\"#DejaVuSans-55\"/>\r\n       <use x=\"63.623047\" xlink:href=\"#DejaVuSans-48\"/>\r\n      </g>\r\n     </g>\r\n    </g>\r\n   </g>\r\n   <g id=\"line2d_15\">\r\n    <path clip-path=\"url(#p38a708606c)\" d=\"M 28.091406 175.255797 \r\nL 58.52777 172.622426 \r\nL 88.964134 148.922086 \r\nL 119.400497 138.388602 \r\nL 149.836861 125.221746 \r\nL 180.273224 127.855117 \r\nL 210.709588 117.321633 \r\nL 241.145952 119.955004 \r\nL 271.582315 130.488488 \r\nL 302.018679 135.755231 \r\nL 332.455043 151.555457 \r\nL 362.891406 162.088942 \r\n\" style=\"fill:none;stroke:#1f77b4;stroke-linecap:square;stroke-width:1.5;\"/>\r\n   </g>\r\n   <g id=\"line2d_16\">\r\n    <path clip-path=\"url(#p38a708606c)\" d=\"M 28.091406 214.756364 \r\nL 58.52777 209.489621 \r\nL 88.964134 204.222879 \r\nL 119.400497 191.056024 \r\nL 149.836861 183.15591 \r\nL 180.273224 164.722313 \r\nL 210.709588 159.455571 \r\nL 241.145952 156.822199 \r\nL 271.582315 167.355684 \r\nL 302.018679 180.522539 \r\nL 332.455043 196.322766 \r\nL 362.891406 209.489621 \r\n\" style=\"fill:none;stroke:#ff7f0e;stroke-linecap:square;stroke-width:1.5;\"/>\r\n   </g>\r\n   <g id=\"line2d_17\">\r\n    <path clip-path=\"url(#p38a708606c)\" d=\"M 28.091406 27.871963 \r\nL 58.52777 51.769502 \r\nL 88.964134 17.083636 \r\nL 119.400497 57.280772 \r\nL 149.836861 59.727259 \r\nL 180.273224 91.602375 \r\nL 210.709588 101.861196 \r\nL 241.145952 102.200986 \r\nL 271.582315 108.280392 \r\nL 302.018679 53.441147 \r\nL 332.455043 63.8642 \r\nL 362.891406 26.512804 \r\n\" style=\"fill:none;stroke:#2ca02c;stroke-linecap:square;stroke-width:1.5;\"/>\r\n   </g>\r\n   <g id=\"patch_3\">\r\n    <path d=\"M 28.091406 224.64 \r\nL 28.091406 7.2 \r\n\" style=\"fill:none;stroke:#000000;stroke-linecap:square;stroke-linejoin:miter;stroke-width:0.8;\"/>\r\n   </g>\r\n   <g id=\"patch_4\">\r\n    <path d=\"M 362.891406 224.64 \r\nL 362.891406 7.2 \r\n\" style=\"fill:none;stroke:#000000;stroke-linecap:square;stroke-linejoin:miter;stroke-width:0.8;\"/>\r\n   </g>\r\n   <g id=\"patch_5\">\r\n    <path d=\"M 28.091406 224.64 \r\nL 362.891406 224.64 \r\n\" style=\"fill:none;stroke:#000000;stroke-linecap:square;stroke-linejoin:miter;stroke-width:0.8;\"/>\r\n   </g>\r\n   <g id=\"patch_6\">\r\n    <path d=\"M 28.091406 7.2 \r\nL 362.891406 7.2 \r\n\" style=\"fill:none;stroke:#000000;stroke-linecap:square;stroke-linejoin:miter;stroke-width:0.8;\"/>\r\n   </g>\r\n   <g id=\"legend_1\">\r\n    <g id=\"patch_7\">\r\n     <path d=\"M 35.091406 139.437187 \r\nL 107.916406 139.437187 \r\nQ 109.916406 139.437187 109.916406 137.437187 \r\nL 109.916406 94.402812 \r\nQ 109.916406 92.402812 107.916406 92.402812 \r\nL 35.091406 92.402812 \r\nQ 33.091406 92.402812 33.091406 94.402812 \r\nL 33.091406 137.437187 \r\nQ 33.091406 139.437187 35.091406 139.437187 \r\nz\r\n\" style=\"fill:#ffffff;opacity:0.8;stroke:#cccccc;stroke-linejoin:miter;\"/>\r\n    </g>\r\n    <g id=\"line2d_18\">\r\n     <path d=\"M 37.091406 100.50125 \r\nL 57.091406 100.50125 \r\n\" style=\"fill:none;stroke:#1f77b4;stroke-linecap:square;stroke-width:1.5;\"/>\r\n    </g>\r\n    <g id=\"line2d_19\"/>\r\n    <g id=\"text_16\">\r\n     <!-- bWendu -->\r\n     <g transform=\"translate(65.091406 104.00125)scale(0.1 -0.1)\">\r\n      <defs>\r\n       <path d=\"M 48.6875 27.296875 \r\nQ 48.6875 37.203125 44.609375 42.84375 \r\nQ 40.53125 48.484375 33.40625 48.484375 \r\nQ 26.265625 48.484375 22.1875 42.84375 \r\nQ 18.109375 37.203125 18.109375 27.296875 \r\nQ 18.109375 17.390625 22.1875 11.75 \r\nQ 26.265625 6.109375 33.40625 6.109375 \r\nQ 40.53125 6.109375 44.609375 11.75 \r\nQ 48.6875 17.390625 48.6875 27.296875 \r\nz\r\nM 18.109375 46.390625 \r\nQ 20.953125 51.265625 25.265625 53.625 \r\nQ 29.59375 56 35.59375 56 \r\nQ 45.5625 56 51.78125 48.09375 \r\nQ 58.015625 40.1875 58.015625 27.296875 \r\nQ 58.015625 14.40625 51.78125 6.484375 \r\nQ 45.5625 -1.421875 35.59375 -1.421875 \r\nQ 29.59375 -1.421875 25.265625 0.953125 \r\nQ 20.953125 3.328125 18.109375 8.203125 \r\nL 18.109375 0 \r\nL 9.078125 0 \r\nL 9.078125 75.984375 \r\nL 18.109375 75.984375 \r\nz\r\n\" id=\"DejaVuSans-98\"/>\r\n       <path d=\"M 3.328125 72.90625 \r\nL 13.28125 72.90625 \r\nL 28.609375 11.28125 \r\nL 43.890625 72.90625 \r\nL 54.984375 72.90625 \r\nL 70.3125 11.28125 \r\nL 85.59375 72.90625 \r\nL 95.609375 72.90625 \r\nL 77.296875 0 \r\nL 64.890625 0 \r\nL 49.515625 63.28125 \r\nL 33.984375 0 \r\nL 21.578125 0 \r\nz\r\n\" id=\"DejaVuSans-87\"/>\r\n       <path d=\"M 56.203125 29.59375 \r\nL 56.203125 25.203125 \r\nL 14.890625 25.203125 \r\nQ 15.484375 15.921875 20.484375 11.0625 \r\nQ 25.484375 6.203125 34.421875 6.203125 \r\nQ 39.59375 6.203125 44.453125 7.46875 \r\nQ 49.3125 8.734375 54.109375 11.28125 \r\nL 54.109375 2.78125 \r\nQ 49.265625 0.734375 44.1875 -0.34375 \r\nQ 39.109375 -1.421875 33.890625 -1.421875 \r\nQ 20.796875 -1.421875 13.15625 6.1875 \r\nQ 5.515625 13.8125 5.515625 26.8125 \r\nQ 5.515625 40.234375 12.765625 48.109375 \r\nQ 20.015625 56 32.328125 56 \r\nQ 43.359375 56 49.78125 48.890625 \r\nQ 56.203125 41.796875 56.203125 29.59375 \r\nz\r\nM 47.21875 32.234375 \r\nQ 47.125 39.59375 43.09375 43.984375 \r\nQ 39.0625 48.390625 32.421875 48.390625 \r\nQ 24.90625 48.390625 20.390625 44.140625 \r\nQ 15.875 39.890625 15.1875 32.171875 \r\nz\r\n\" id=\"DejaVuSans-101\"/>\r\n       <path d=\"M 45.40625 46.390625 \r\nL 45.40625 75.984375 \r\nL 54.390625 75.984375 \r\nL 54.390625 0 \r\nL 45.40625 0 \r\nL 45.40625 8.203125 \r\nQ 42.578125 3.328125 38.25 0.953125 \r\nQ 33.9375 -1.421875 27.875 -1.421875 \r\nQ 17.96875 -1.421875 11.734375 6.484375 \r\nQ 5.515625 14.40625 5.515625 27.296875 \r\nQ 5.515625 40.1875 11.734375 48.09375 \r\nQ 17.96875 56 27.875 56 \r\nQ 33.9375 56 38.25 53.625 \r\nQ 42.578125 51.265625 45.40625 46.390625 \r\nz\r\nM 14.796875 27.296875 \r\nQ 14.796875 17.390625 18.875 11.75 \r\nQ 22.953125 6.109375 30.078125 6.109375 \r\nQ 37.203125 6.109375 41.296875 11.75 \r\nQ 45.40625 17.390625 45.40625 27.296875 \r\nQ 45.40625 37.203125 41.296875 42.84375 \r\nQ 37.203125 48.484375 30.078125 48.484375 \r\nQ 22.953125 48.484375 18.875 42.84375 \r\nQ 14.796875 37.203125 14.796875 27.296875 \r\nz\r\n\" id=\"DejaVuSans-100\"/>\r\n       <path d=\"M 8.5 21.578125 \r\nL 8.5 54.6875 \r\nL 17.484375 54.6875 \r\nL 17.484375 21.921875 \r\nQ 17.484375 14.15625 20.5 10.265625 \r\nQ 23.53125 6.390625 29.59375 6.390625 \r\nQ 36.859375 6.390625 41.078125 11.03125 \r\nQ 45.3125 15.671875 45.3125 23.6875 \r\nL 45.3125 54.6875 \r\nL 54.296875 54.6875 \r\nL 54.296875 0 \r\nL 45.3125 0 \r\nL 45.3125 8.40625 \r\nQ 42.046875 3.421875 37.71875 1 \r\nQ 33.40625 -1.421875 27.6875 -1.421875 \r\nQ 18.265625 -1.421875 13.375 4.4375 \r\nQ 8.5 10.296875 8.5 21.578125 \r\nz\r\nM 31.109375 56 \r\nz\r\n\" id=\"DejaVuSans-117\"/>\r\n      </defs>\r\n      <use xlink:href=\"#DejaVuSans-98\"/>\r\n      <use x=\"63.476562\" xlink:href=\"#DejaVuSans-87\"/>\r\n      <use x=\"156.478516\" xlink:href=\"#DejaVuSans-101\"/>\r\n      <use x=\"218.001953\" xlink:href=\"#DejaVuSans-110\"/>\r\n      <use x=\"281.380859\" xlink:href=\"#DejaVuSans-100\"/>\r\n      <use x=\"344.857422\" xlink:href=\"#DejaVuSans-117\"/>\r\n     </g>\r\n    </g>\r\n    <g id=\"line2d_20\">\r\n     <path d=\"M 37.091406 115.179375 \r\nL 57.091406 115.179375 \r\n\" style=\"fill:none;stroke:#ff7f0e;stroke-linecap:square;stroke-width:1.5;\"/>\r\n    </g>\r\n    <g id=\"line2d_21\"/>\r\n    <g id=\"text_17\">\r\n     <!-- yWendu -->\r\n     <g transform=\"translate(65.091406 118.679375)scale(0.1 -0.1)\">\r\n      <defs>\r\n       <path d=\"M 32.171875 -5.078125 \r\nQ 28.375 -14.84375 24.75 -17.8125 \r\nQ 21.140625 -20.796875 15.09375 -20.796875 \r\nL 7.90625 -20.796875 \r\nL 7.90625 -13.28125 \r\nL 13.1875 -13.28125 \r\nQ 16.890625 -13.28125 18.9375 -11.515625 \r\nQ 21 -9.765625 23.484375 -3.21875 \r\nL 25.09375 0.875 \r\nL 2.984375 54.6875 \r\nL 12.5 54.6875 \r\nL 29.59375 11.921875 \r\nL 46.6875 54.6875 \r\nL 56.203125 54.6875 \r\nz\r\n\" id=\"DejaVuSans-121\"/>\r\n      </defs>\r\n      <use xlink:href=\"#DejaVuSans-121\"/>\r\n      <use x=\"59.179688\" xlink:href=\"#DejaVuSans-87\"/>\r\n      <use x=\"152.181641\" xlink:href=\"#DejaVuSans-101\"/>\r\n      <use x=\"213.705078\" xlink:href=\"#DejaVuSans-110\"/>\r\n      <use x=\"277.083984\" xlink:href=\"#DejaVuSans-100\"/>\r\n      <use x=\"340.560547\" xlink:href=\"#DejaVuSans-117\"/>\r\n     </g>\r\n    </g>\r\n    <g id=\"line2d_22\">\r\n     <path d=\"M 37.091406 129.8575 \r\nL 57.091406 129.8575 \r\n\" style=\"fill:none;stroke:#2ca02c;stroke-linecap:square;stroke-width:1.5;\"/>\r\n    </g>\r\n    <g id=\"line2d_23\"/>\r\n    <g id=\"text_18\">\r\n     <!-- aqi -->\r\n     <g transform=\"translate(65.091406 133.3575)scale(0.1 -0.1)\">\r\n      <defs>\r\n       <path d=\"M 34.28125 27.484375 \r\nQ 23.390625 27.484375 19.1875 25 \r\nQ 14.984375 22.515625 14.984375 16.5 \r\nQ 14.984375 11.71875 18.140625 8.90625 \r\nQ 21.296875 6.109375 26.703125 6.109375 \r\nQ 34.1875 6.109375 38.703125 11.40625 \r\nQ 43.21875 16.703125 43.21875 25.484375 \r\nL 43.21875 27.484375 \r\nz\r\nM 52.203125 31.203125 \r\nL 52.203125 0 \r\nL 43.21875 0 \r\nL 43.21875 8.296875 \r\nQ 40.140625 3.328125 35.546875 0.953125 \r\nQ 30.953125 -1.421875 24.3125 -1.421875 \r\nQ 15.921875 -1.421875 10.953125 3.296875 \r\nQ 6 8.015625 6 15.921875 \r\nQ 6 25.140625 12.171875 29.828125 \r\nQ 18.359375 34.515625 30.609375 34.515625 \r\nL 43.21875 34.515625 \r\nL 43.21875 35.40625 \r\nQ 43.21875 41.609375 39.140625 45 \r\nQ 35.0625 48.390625 27.6875 48.390625 \r\nQ 23 48.390625 18.546875 47.265625 \r\nQ 14.109375 46.140625 10.015625 43.890625 \r\nL 10.015625 52.203125 \r\nQ 14.9375 54.109375 19.578125 55.046875 \r\nQ 24.21875 56 28.609375 56 \r\nQ 40.484375 56 46.34375 49.84375 \r\nQ 52.203125 43.703125 52.203125 31.203125 \r\nz\r\n\" id=\"DejaVuSans-97\"/>\r\n       <path d=\"M 14.796875 27.296875 \r\nQ 14.796875 17.390625 18.875 11.75 \r\nQ 22.953125 6.109375 30.078125 6.109375 \r\nQ 37.203125 6.109375 41.296875 11.75 \r\nQ 45.40625 17.390625 45.40625 27.296875 \r\nQ 45.40625 37.203125 41.296875 42.84375 \r\nQ 37.203125 48.484375 30.078125 48.484375 \r\nQ 22.953125 48.484375 18.875 42.84375 \r\nQ 14.796875 37.203125 14.796875 27.296875 \r\nz\r\nM 45.40625 8.203125 \r\nQ 42.578125 3.328125 38.25 0.953125 \r\nQ 33.9375 -1.421875 27.875 -1.421875 \r\nQ 17.96875 -1.421875 11.734375 6.484375 \r\nQ 5.515625 14.40625 5.515625 27.296875 \r\nQ 5.515625 40.1875 11.734375 48.09375 \r\nQ 17.96875 56 27.875 56 \r\nQ 33.9375 56 38.25 53.625 \r\nQ 42.578125 51.265625 45.40625 46.390625 \r\nL 45.40625 54.6875 \r\nL 54.390625 54.6875 \r\nL 54.390625 -20.796875 \r\nL 45.40625 -20.796875 \r\nz\r\n\" id=\"DejaVuSans-113\"/>\r\n       <path d=\"M 9.421875 54.6875 \r\nL 18.40625 54.6875 \r\nL 18.40625 0 \r\nL 9.421875 0 \r\nz\r\nM 9.421875 75.984375 \r\nL 18.40625 75.984375 \r\nL 18.40625 64.59375 \r\nL 9.421875 64.59375 \r\nz\r\n\" id=\"DejaVuSans-105\"/>\r\n      </defs>\r\n      <use xlink:href=\"#DejaVuSans-97\"/>\r\n      <use x=\"61.279297\" xlink:href=\"#DejaVuSans-113\"/>\r\n      <use x=\"124.755859\" xlink:href=\"#DejaVuSans-105\"/>\r\n     </g>\r\n    </g>\r\n   </g>\r\n  </g>\r\n </g>\r\n <defs>\r\n  <clipPath id=\"p38a708606c\">\r\n   <rect height=\"217.44\" width=\"334.8\" x=\"28.091406\" y=\"7.2\"/>\r\n  </clipPath>\r\n </defs>\r\n</svg>\r\n",
      "image/png": "[encoded data removed]"
     },
     "metadata": {
      "needs_background": "light"
     }
    }
   ],
   "source": [
    "group_data.plot()"
   ]
  },
  {
   "cell_type": "code",
   "execution_count": null,
   "metadata": {},
   "outputs": [],
   "source": []
  }
 ]
}