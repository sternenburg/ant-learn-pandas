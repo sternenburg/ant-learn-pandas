{
 "metadata": {
  "language_info": {
   "codemirror_mode": {
    "name": "ipython",
    "version": 3
   },
   "file_extension": ".py",
   "mimetype": "text/x-python",
   "name": "python",
   "nbconvert_exporter": "python",
   "pygments_lexer": "ipython3",
   "version": "3.7.4-final"
  },
  "orig_nbformat": 2,
  "kernelspec": {
   "name": "python37464bit996bc1b053e443969e72b61be9e433e9",
   "display_name": "Python 3.7.4 64-bit"
  }
 },
 "nbformat": 4,
 "nbformat_minor": 2,
 "cells": [
  {
   "cell_type": "code",
   "execution_count": 1,
   "metadata": {},
   "outputs": [
    {
     "output_type": "execute_result",
     "data": {
      "text/plain": "['201901',\n '201902',\n '201903',\n '201904',\n '201905',\n '201906',\n '201907',\n '201908',\n '201909',\n '201910',\n '201911',\n '201912']"
     },
     "metadata": {},
     "execution_count": 1
    }
   ],
   "source": [
    "months = []\n",
    "for year in (2019, ):\n",
    "    for month in range(12):\n",
    "        months.append('%d%02d'%(year, month+1))\n",
    "months"
   ]
  },
  {
   "cell_type": "code",
   "execution_count": 2,
   "metadata": {},
   "outputs": [],
   "source": [
    "todo_urls = [\n",
    "    f\"http://tianqi.2345.com/t/wea_history/js/{month}/58362_{month}.js\"\n",
    "    for month in months\n",
    "]"
   ]
  },
  {
   "cell_type": "code",
   "execution_count": 3,
   "metadata": {},
   "outputs": [
    {
     "output_type": "execute_result",
     "data": {
      "text/plain": "['http://tianqi.2345.com/t/wea_history/js/201901/58362_201901.js',\n 'http://tianqi.2345.com/t/wea_history/js/201902/58362_201902.js',\n 'http://tianqi.2345.com/t/wea_history/js/201903/58362_201903.js',\n 'http://tianqi.2345.com/t/wea_history/js/201904/58362_201904.js',\n 'http://tianqi.2345.com/t/wea_history/js/201905/58362_201905.js',\n 'http://tianqi.2345.com/t/wea_history/js/201906/58362_201906.js',\n 'http://tianqi.2345.com/t/wea_history/js/201907/58362_201907.js',\n 'http://tianqi.2345.com/t/wea_history/js/201908/58362_201908.js',\n 'http://tianqi.2345.com/t/wea_history/js/201909/58362_201909.js',\n 'http://tianqi.2345.com/t/wea_history/js/201910/58362_201910.js',\n 'http://tianqi.2345.com/t/wea_history/js/201911/58362_201911.js',\n 'http://tianqi.2345.com/t/wea_history/js/201912/58362_201912.js']"
     },
     "metadata": {},
     "execution_count": 3
    }
   ],
   "source": [
    "todo_urls"
   ]
  },
  {
   "cell_type": "code",
   "execution_count": 4,
   "metadata": {},
   "outputs": [],
   "source": [
    "import requests"
   ]
  },
  {
   "cell_type": "code",
   "execution_count": 5,
   "metadata": {},
   "outputs": [],
   "source": [
    "datas = []"
   ]
  },
  {
   "cell_type": "code",
   "execution_count": 6,
   "metadata": {},
   "outputs": [],
   "source": [
    "for url in todo_urls:\n",
    "    r = requests.get(url)\n",
    "    if r.status_code != 200:\n",
    "        raise Exception()\n",
    "    # 去除javascript前后的字符串，达到一个js格式的JSON\n",
    "    data = r.text.lstrip(\"var weather_str=\").rstrip(\";\")\n",
    "    datas.append(data)"
   ]
  },
  {
   "cell_type": "code",
   "execution_count": 7,
   "metadata": {},
   "outputs": [
    {
     "output_type": "execute_result",
     "data": {
      "text/plain": "\"{city:'上海',tqInfo:[{ymd:'2019-01-01',bWendu:'6℃',yWendu:'3℃',tianqi:'阴~多云',fengxiang:'西北风',fengli:'3级',aqi:'39',aqiInfo:'优',aqiLevel:'1'},{ymd:'2019-01-02',bWendu:'8℃',yWendu:'4℃',tianqi:'阴~多云',fengxiang:'东北风',fengli:'2级',aqi:'86',aqiInfo:'良',aqiLevel:'2'},{ymd:'2019-01-03',bWendu:'10℃',yWendu:'8℃',tianqi:'多云~小雨',fengxiang:'东北风',fengli:'2级',aqi:'71',aqiInfo:'良',aqiLevel:'2'},{ymd:'2019-01-04',bWendu:'10℃',yWendu:'8℃',tianqi:'小雨',fengxiang:'东南风',fengli:'2级',aqi:'33',aqiInfo:'优',aqiLevel:'1'},{ymd:'2019-01-05',bWendu:'10℃',yWendu:'5℃',tianqi:'小雨',fengxiang:'西北风',fengli:'2级',aqi:'46',aqiInfo:'优',aqiLevel:'1'},{ymd:'2019-01-06',bWendu:'8℃',yWendu:'5℃',tianqi:'阴~多云',fengxiang:'东北风',fengli:'2级',aqi:'43',aqiInfo:'优',aqiLevel:'1'},{ymd:'2019-01-07',bWendu:'8℃',yWendu:'6℃',tianqi:'小雨~阴',fengxiang:'东北风',fengli:'2级',aqi:'41',aqiInfo:'优',aqiLevel:'1'},{ymd:'2019-01-08',bWendu:'8℃',yWendu:'5℃',tianqi:'多云~阴',fengxiang:'东北风',fengli:'3级',aqi:'73',aqiInfo:'良',aqiLevel:'2'},{ymd:'2019-01-09',bWendu:'7℃',yWendu:'6℃',tianqi:'小雨',fengxiang:'东北风',fengli:'3级',aqi:'37',aqiInfo:'优',aqiLevel:'1'},{ymd:'2019-01-10',bWendu:'9℃',yWendu:'7℃',tianqi:'小雨',fengxiang:'东北风',fengli:'2级',aqi:'28',aqiInfo:'优',aqiLevel:'1'},{ymd:'2019-01-11',bWendu:'9℃',yWendu:'6℃',tianqi:'小雨',fengxiang:'东风',fengli:'2级',aqi:'28',aqiInfo:'优',aqiLevel:'1'},{ymd:'2019-01-12',bWendu:'9℃',yWendu:'6℃',tianqi:'小雨~阴',fengxiang:'西北风',fengli:'3级',aqi:'56',aqiInfo:'良',aqiLevel:'2'},{ymd:'2019-01-13',bWendu:'9℃',yWendu:'5℃',tianqi:'阴~多云',fengxiang:'西北风',fengli:'2级',aqi:'101',aqiInfo:'轻度污染',aqiLevel:'3'},{ymd:'2019-01-14',bWendu:'10℃',yWendu:'6℃',tianqi:'多云',fengxiang:'东北风',fengli:'2级',aqi:'100',aqiInfo:'良',aqiLevel:'2'},{ymd:'2019-01-15',bWendu:'9℃',yWendu:'2℃',tianqi:'小雨~多云',fengxiang:'东北风',fengli:'3级',aqi:'142',aqiInfo:'轻度污染',aqiLevel:'3'},{ymd:'2019-01-16',bWendu:'6℃',yWendu:'0℃',tianqi:'阴~多云',fengxiang:'西北风',fengli:'2级',aqi:'51',aqiInfo:'良',aqiLevel:'2'},{ymd:'2019-01-17',bWendu:'8℃',yWendu:'1℃',tianqi:'晴~多云',fengxiang:'西北风',fengli:'2级',aqi:'98',aqiInfo:'良',aqiLevel:'2'},{ymd:'2019-01-18',bWendu:'11℃',yWendu:'7℃',tianqi:'晴~多云',fengxiang:'东南风',fengli:'2级',aqi:'115',aqiInfo:'轻度污染',aqiLevel:'3'},{ymd:'2019-01-19',bWendu:'13℃',yWendu:'5℃',tianqi:'多云~小雨',fengxiang:'西南风',fengli:'3级',aqi:'98',aqiInfo:'良',aqiLevel:'2'},{ymd:'2019-01-20',bWendu:'9℃',yWendu:'2℃',tianqi:'多云~晴',fengxiang:'西北风',fengli:'3级',aqi:'135',aqiInfo:'轻度污染',aqiLevel:'3'},{ymd:'2019-01-21',bWendu:'8℃',yWendu:'2℃',tianqi:'多云',fengxiang:'西北风',fengli:'2级',aqi:'59',aqiInfo:'良',aqiLevel:'2'},{ymd:'2019-01-22',bWendu:'10℃',yWendu:'2℃',tianqi:'晴',fengxiang:'西北风',fengli:'2级',aqi:'109',aqiInfo:'轻度污染',aqiLevel:'3'},{ymd:'2019-01-23',bWendu:'12℃',yWendu:'4℃',tianqi:'晴~多云',fengxiang:'西北风',fengli:'2级',aqi:'122',aqiInfo:'轻度污染',aqiLevel:'3'},{ymd:'2019-01-24',bWendu:'12℃',yWendu:'5℃',tianqi:'晴~多云',fengxiang:'东南风',fengli:'2级',aqi:'138',aqiInfo:'轻度污染',aqiLevel:'3'},{ymd:'2019-01-25',bWendu:'10℃',yWendu:'2℃',tianqi:'阴~多云',fengxiang:'东北风',fengli:'3级',aqi:'51',aqiInfo:'良',aqiLevel:'2'},{ymd:'2019-01-26',bWendu:'5℃',yWendu:'1℃',tianqi:'多云',fengxiang:'西北风',fengli:'3级',aqi:'35',aqiInfo:'优',aqiLevel:'1'},{ymd:'2019-01-27',bWendu:'9℃',yWendu:'3℃',tianqi:'多云~晴',fengxiang:'东南风',fengli:'2级',aqi:'37',aqiInfo:'优',aqiLevel:'1'},{ymd:'2019-01-28',bWendu:'10℃',yWendu:'6℃',tianqi:'多云',fengxiang:'东北风',fengli:'2级',aqi:'70',aqiInfo:'良',aqiLevel:'2'},{ymd:'2019-01-29',bWendu:'10℃',yWendu:'8℃',tianqi:'阴~多云',fengxiang:'东南风',fengli:'2级',aqi:'76',aqiInfo:'良',aqiLevel:'2'},{ymd:'2019-01-30',bWendu:'15℃',yWendu:'4℃',tianqi:'阴~小雨',fengxiang:'东南风',fengli:'2级',aqi:'49',aqiInfo:'优',aqiLevel:'1'},{ymd:'2019-01-31',bWendu:'11℃',yWendu:'0℃',tianqi:'小雨~多云',fengxiang:'东北风',fengli:'3级',aqi:'33',aqiInfo:'优',aqiLevel:'1'},{}],maxWendu:'15（2019-01-30）',minWendu:'1（2019-01-17）',avgbWendu:'9',avgyWendu:'4',maxAqi:'142',minAqi:'28',avgAqi:'71',maxAqiInfo:'轻度污染',maxAqiDate:'01月15日',maxAqiLevel:'3',minAqiInfo:'空气优',minAqiDate:'01月10日',minAqiLevel:'1'}\""
     },
     "metadata": {},
     "execution_count": 7
    }
   ],
   "source": [
    "datas[0]"
   ]
  },
  {
   "cell_type": "code",
   "execution_count": 8,
   "metadata": {},
   "outputs": [],
   "source": [
    "import demjson"
   ]
  },
  {
   "cell_type": "code",
   "execution_count": 10,
   "metadata": {},
   "outputs": [
    {
     "output_type": "execute_result",
     "data": {
      "text/plain": "{'city': '上海',\n 'tqInfo': [{'ymd': '2019-01-01',\n   'bWendu': '6℃',\n   'yWendu': '3℃',\n   'tianqi': '阴~多云',\n   'fengxiang': '西北风',\n   'fengli': '3级',\n   'aqi': '39',\n   'aqiInfo': '优',\n   'aqiLevel': '1'},\n  {'ymd': '2019-01-02',\n   'bWendu': '8℃',\n   'yWendu': '4℃',\n   'tianqi': '阴~多云',\n   'fengxiang': '东北风',\n   'fengli': '2级',\n   'aqi': '86',\n   'aqiInfo': '良',\n   'aqiLevel': '2'},\n  {'ymd': '2019-01-03',\n   'bWendu': '10℃',\n   'yWendu': '8℃',\n   'tianqi': '多云~小雨',\n   'fengxiang': '东北风',\n   'fengli': '2级',\n   'aqi': '71',\n   'aqiInfo': '良',\n   'aqiLevel': '2'},\n  {'ymd': '2019-01-04',\n   'bWendu': '10℃',\n   'yWendu': '8℃',\n   'tianqi': '小雨',\n   'fengxiang': '东南风',\n   'fengli': '2级',\n   'aqi': '33',\n   'aqiInfo': '优',\n   'aqiLevel': '1'},\n  {'ymd': '2019-01-05',\n   'bWendu': '10℃',\n   'yWendu': '5℃',\n   'tianqi': '小雨',\n   'fengxiang': '西北风',\n   'fengli': '2级',\n   'aqi': '46',\n   'aqiInfo': '优',\n   'aqiLevel': '1'},\n  {'ymd': '2019-01-06',\n   'bWendu': '8℃',\n   'yWendu': '5℃',\n   'tianqi': '阴~多云',\n   'fengxiang': '东北风',\n   'fengli': '2级',\n   'aqi': '43',\n   'aqiInfo': '优',\n   'aqiLevel': '1'},\n  {'ymd': '2019-01-07',\n   'bWendu': '8℃',\n   'yWendu': '6℃',\n   'tianqi': '小雨~阴',\n   'fengxiang': '东北风',\n   'fengli': '2级',\n   'aqi': '41',\n   'aqiInfo': '优',\n   'aqiLevel': '1'},\n  {'ymd': '2019-01-08',\n   'bWendu': '8℃',\n   'yWendu': '5℃',\n   'tianqi': '多云~阴',\n   'fengxiang': '东北风',\n   'fengli': '3级',\n   'aqi': '73',\n   'aqiInfo': '良',\n   'aqiLevel': '2'},\n  {'ymd': '2019-01-09',\n   'bWendu': '7℃',\n   'yWendu': '6℃',\n   'tianqi': '小雨',\n   'fengxiang': '东北风',\n   'fengli': '3级',\n   'aqi': '37',\n   'aqiInfo': '优',\n   'aqiLevel': '1'},\n  {'ymd': '2019-01-10',\n   'bWendu': '9℃',\n   'yWendu': '7℃',\n   'tianqi': '小雨',\n   'fengxiang': '东北风',\n   'fengli': '2级',\n   'aqi': '28',\n   'aqiInfo': '优',\n   'aqiLevel': '1'},\n  {'ymd': '2019-01-11',\n   'bWendu': '9℃',\n   'yWendu': '6℃',\n   'tianqi': '小雨',\n   'fengxiang': '东风',\n   'fengli': '2级',\n   'aqi': '28',\n   'aqiInfo': '优',\n   'aqiLevel': '1'},\n  {'ymd': '2019-01-12',\n   'bWendu': '9℃',\n   'yWendu': '6℃',\n   'tianqi': '小雨~阴',\n   'fengxiang': '西北风',\n   'fengli': '3级',\n   'aqi': '56',\n   'aqiInfo': '良',\n   'aqiLevel': '2'},\n  {'ymd': '2019-01-13',\n   'bWendu': '9℃',\n   'yWendu': '5℃',\n   'tianqi': '阴~多云',\n   'fengxiang': '西北风',\n   'fengli': '2级',\n   'aqi': '101',\n   'aqiInfo': '轻度污染',\n   'aqiLevel': '3'},\n  {'ymd': '2019-01-14',\n   'bWendu': '10℃',\n   'yWendu': '6℃',\n   'tianqi': '多云',\n   'fengxiang': '东北风',\n   'fengli': '2级',\n   'aqi': '100',\n   'aqiInfo': '良',\n   'aqiLevel': '2'},\n  {'ymd': '2019-01-15',\n   'bWendu': '9℃',\n   'yWendu': '2℃',\n   'tianqi': '小雨~多云',\n   'fengxiang': '东北风',\n   'fengli': '3级',\n   'aqi': '142',\n   'aqiInfo': '轻度污染',\n   'aqiLevel': '3'},\n  {'ymd': '2019-01-16',\n   'bWendu': '6℃',\n   'yWendu': '0℃',\n   'tianqi': '阴~多云',\n   'fengxiang': '西北风',\n   'fengli': '2级',\n   'aqi': '51',\n   'aqiInfo': '良',\n   'aqiLevel': '2'},\n  {'ymd': '2019-01-17',\n   'bWendu': '8℃',\n   'yWendu': '1℃',\n   'tianqi': '晴~多云',\n   'fengxiang': '西北风',\n   'fengli': '2级',\n   'aqi': '98',\n   'aqiInfo': '良',\n   'aqiLevel': '2'},\n  {'ymd': '2019-01-18',\n   'bWendu': '11℃',\n   'yWendu': '7℃',\n   'tianqi': '晴~多云',\n   'fengxiang': '东南风',\n   'fengli': '2级',\n   'aqi': '115',\n   'aqiInfo': '轻度污染',\n   'aqiLevel': '3'},\n  {'ymd': '2019-01-19',\n   'bWendu': '13℃',\n   'yWendu': '5℃',\n   'tianqi': '多云~小雨',\n   'fengxiang': '西南风',\n   'fengli': '3级',\n   'aqi': '98',\n   'aqiInfo': '良',\n   'aqiLevel': '2'},\n  {'ymd': '2019-01-20',\n   'bWendu': '9℃',\n   'yWendu': '2℃',\n   'tianqi': '多云~晴',\n   'fengxiang': '西北风',\n   'fengli': '3级',\n   'aqi': '135',\n   'aqiInfo': '轻度污染',\n   'aqiLevel': '3'},\n  {'ymd': '2019-01-21',\n   'bWendu': '8℃',\n   'yWendu': '2℃',\n   'tianqi': '多云',\n   'fengxiang': '西北风',\n   'fengli': '2级',\n   'aqi': '59',\n   'aqiInfo': '良',\n   'aqiLevel': '2'},\n  {'ymd': '2019-01-22',\n   'bWendu': '10℃',\n   'yWendu': '2℃',\n   'tianqi': '晴',\n   'fengxiang': '西北风',\n   'fengli': '2级',\n   'aqi': '109',\n   'aqiInfo': '轻度污染',\n   'aqiLevel': '3'},\n  {'ymd': '2019-01-23',\n   'bWendu': '12℃',\n   'yWendu': '4℃',\n   'tianqi': '晴~多云',\n   'fengxiang': '西北风',\n   'fengli': '2级',\n   'aqi': '122',\n   'aqiInfo': '轻度污染',\n   'aqiLevel': '3'},\n  {'ymd': '2019-01-24',\n   'bWendu': '12℃',\n   'yWendu': '5℃',\n   'tianqi': '晴~多云',\n   'fengxiang': '东南风',\n   'fengli': '2级',\n   'aqi': '138',\n   'aqiInfo': '轻度污染',\n   'aqiLevel': '3'},\n  {'ymd': '2019-01-25',\n   'bWendu': '10℃',\n   'yWendu': '2℃',\n   'tianqi': '阴~多云',\n   'fengxiang': '东北风',\n   'fengli': '3级',\n   'aqi': '51',\n   'aqiInfo': '良',\n   'aqiLevel': '2'},\n  {'ymd': '2019-01-26',\n   'bWendu': '5℃',\n   'yWendu': '1℃',\n   'tianqi': '多云',\n   'fengxiang': '西北风',\n   'fengli': '3级',\n   'aqi': '35',\n   'aqiInfo': '优',\n   'aqiLevel': '1'},\n  {'ymd': '2019-01-27',\n   'bWendu': '9℃',\n   'yWendu': '3℃',\n   'tianqi': '多云~晴',\n   'fengxiang': '东南风',\n   'fengli': '2级',\n   'aqi': '37',\n   'aqiInfo': '优',\n   'aqiLevel': '1'},\n  {'ymd': '2019-01-28',\n   'bWendu': '10℃',\n   'yWendu': '6℃',\n   'tianqi': '多云',\n   'fengxiang': '东北风',\n   'fengli': '2级',\n   'aqi': '70',\n   'aqiInfo': '良',\n   'aqiLevel': '2'},\n  {'ymd': '2019-01-29',\n   'bWendu': '10℃',\n   'yWendu': '8℃',\n   'tianqi': '阴~多云',\n   'fengxiang': '东南风',\n   'fengli': '2级',\n   'aqi': '76',\n   'aqiInfo': '良',\n   'aqiLevel': '2'},\n  {'ymd': '2019-01-30',\n   'bWendu': '15℃',\n   'yWendu': '4℃',\n   'tianqi': '阴~小雨',\n   'fengxiang': '东南风',\n   'fengli': '2级',\n   'aqi': '49',\n   'aqiInfo': '优',\n   'aqiLevel': '1'},\n  {'ymd': '2019-01-31',\n   'bWendu': '11℃',\n   'yWendu': '0℃',\n   'tianqi': '小雨~多云',\n   'fengxiang': '东北风',\n   'fengli': '3级',\n   'aqi': '33',\n   'aqiInfo': '优',\n   'aqiLevel': '1'},\n  {}],\n 'maxWendu': '15（2019-01-30）',\n 'minWendu': '1（2019-01-17）',\n 'avgbWendu': '9',\n 'avgyWendu': '4',\n 'maxAqi': '142',\n 'minAqi': '28',\n 'avgAqi': '71',\n 'maxAqiInfo': '轻度污染',\n 'maxAqiDate': '01月15日',\n 'maxAqiLevel': '3',\n 'minAqiInfo': '空气优',\n 'minAqiDate': '01月10日',\n 'minAqiLevel': '1'}"
     },
     "metadata": {},
     "execution_count": 10
    }
   ],
   "source": [
    "demjson.decode(datas[0])"
   ]
  },
  {
   "cell_type": "code",
   "execution_count": 12,
   "metadata": {},
   "outputs": [],
   "source": [
    "tqInfos = demjson.decode(datas[0])['tqInfo']"
   ]
  },
  {
   "cell_type": "code",
   "execution_count": 13,
   "metadata": {},
   "outputs": [
    {
     "output_type": "execute_result",
     "data": {
      "text/plain": "[{'ymd': '2019-01-01',\n  'bWendu': '6℃',\n  'yWendu': '3℃',\n  'tianqi': '阴~多云',\n  'fengxiang': '西北风',\n  'fengli': '3级',\n  'aqi': '39',\n  'aqiInfo': '优',\n  'aqiLevel': '1'},\n {'ymd': '2019-01-02',\n  'bWendu': '8℃',\n  'yWendu': '4℃',\n  'tianqi': '阴~多云',\n  'fengxiang': '东北风',\n  'fengli': '2级',\n  'aqi': '86',\n  'aqiInfo': '良',\n  'aqiLevel': '2'},\n {'ymd': '2019-01-03',\n  'bWendu': '10℃',\n  'yWendu': '8℃',\n  'tianqi': '多云~小雨',\n  'fengxiang': '东北风',\n  'fengli': '2级',\n  'aqi': '71',\n  'aqiInfo': '良',\n  'aqiLevel': '2'},\n {'ymd': '2019-01-04',\n  'bWendu': '10℃',\n  'yWendu': '8℃',\n  'tianqi': '小雨',\n  'fengxiang': '东南风',\n  'fengli': '2级',\n  'aqi': '33',\n  'aqiInfo': '优',\n  'aqiLevel': '1'},\n {'ymd': '2019-01-05',\n  'bWendu': '10℃',\n  'yWendu': '5℃',\n  'tianqi': '小雨',\n  'fengxiang': '西北风',\n  'fengli': '2级',\n  'aqi': '46',\n  'aqiInfo': '优',\n  'aqiLevel': '1'},\n {'ymd': '2019-01-06',\n  'bWendu': '8℃',\n  'yWendu': '5℃',\n  'tianqi': '阴~多云',\n  'fengxiang': '东北风',\n  'fengli': '2级',\n  'aqi': '43',\n  'aqiInfo': '优',\n  'aqiLevel': '1'},\n {'ymd': '2019-01-07',\n  'bWendu': '8℃',\n  'yWendu': '6℃',\n  'tianqi': '小雨~阴',\n  'fengxiang': '东北风',\n  'fengli': '2级',\n  'aqi': '41',\n  'aqiInfo': '优',\n  'aqiLevel': '1'},\n {'ymd': '2019-01-08',\n  'bWendu': '8℃',\n  'yWendu': '5℃',\n  'tianqi': '多云~阴',\n  'fengxiang': '东北风',\n  'fengli': '3级',\n  'aqi': '73',\n  'aqiInfo': '良',\n  'aqiLevel': '2'},\n {'ymd': '2019-01-09',\n  'bWendu': '7℃',\n  'yWendu': '6℃',\n  'tianqi': '小雨',\n  'fengxiang': '东北风',\n  'fengli': '3级',\n  'aqi': '37',\n  'aqiInfo': '优',\n  'aqiLevel': '1'},\n {'ymd': '2019-01-10',\n  'bWendu': '9℃',\n  'yWendu': '7℃',\n  'tianqi': '小雨',\n  'fengxiang': '东北风',\n  'fengli': '2级',\n  'aqi': '28',\n  'aqiInfo': '优',\n  'aqiLevel': '1'},\n {'ymd': '2019-01-11',\n  'bWendu': '9℃',\n  'yWendu': '6℃',\n  'tianqi': '小雨',\n  'fengxiang': '东风',\n  'fengli': '2级',\n  'aqi': '28',\n  'aqiInfo': '优',\n  'aqiLevel': '1'},\n {'ymd': '2019-01-12',\n  'bWendu': '9℃',\n  'yWendu': '6℃',\n  'tianqi': '小雨~阴',\n  'fengxiang': '西北风',\n  'fengli': '3级',\n  'aqi': '56',\n  'aqiInfo': '良',\n  'aqiLevel': '2'},\n {'ymd': '2019-01-13',\n  'bWendu': '9℃',\n  'yWendu': '5℃',\n  'tianqi': '阴~多云',\n  'fengxiang': '西北风',\n  'fengli': '2级',\n  'aqi': '101',\n  'aqiInfo': '轻度污染',\n  'aqiLevel': '3'},\n {'ymd': '2019-01-14',\n  'bWendu': '10℃',\n  'yWendu': '6℃',\n  'tianqi': '多云',\n  'fengxiang': '东北风',\n  'fengli': '2级',\n  'aqi': '100',\n  'aqiInfo': '良',\n  'aqiLevel': '2'},\n {'ymd': '2019-01-15',\n  'bWendu': '9℃',\n  'yWendu': '2℃',\n  'tianqi': '小雨~多云',\n  'fengxiang': '东北风',\n  'fengli': '3级',\n  'aqi': '142',\n  'aqiInfo': '轻度污染',\n  'aqiLevel': '3'},\n {'ymd': '2019-01-16',\n  'bWendu': '6℃',\n  'yWendu': '0℃',\n  'tianqi': '阴~多云',\n  'fengxiang': '西北风',\n  'fengli': '2级',\n  'aqi': '51',\n  'aqiInfo': '良',\n  'aqiLevel': '2'},\n {'ymd': '2019-01-17',\n  'bWendu': '8℃',\n  'yWendu': '1℃',\n  'tianqi': '晴~多云',\n  'fengxiang': '西北风',\n  'fengli': '2级',\n  'aqi': '98',\n  'aqiInfo': '良',\n  'aqiLevel': '2'},\n {'ymd': '2019-01-18',\n  'bWendu': '11℃',\n  'yWendu': '7℃',\n  'tianqi': '晴~多云',\n  'fengxiang': '东南风',\n  'fengli': '2级',\n  'aqi': '115',\n  'aqiInfo': '轻度污染',\n  'aqiLevel': '3'},\n {'ymd': '2019-01-19',\n  'bWendu': '13℃',\n  'yWendu': '5℃',\n  'tianqi': '多云~小雨',\n  'fengxiang': '西南风',\n  'fengli': '3级',\n  'aqi': '98',\n  'aqiInfo': '良',\n  'aqiLevel': '2'},\n {'ymd': '2019-01-20',\n  'bWendu': '9℃',\n  'yWendu': '2℃',\n  'tianqi': '多云~晴',\n  'fengxiang': '西北风',\n  'fengli': '3级',\n  'aqi': '135',\n  'aqiInfo': '轻度污染',\n  'aqiLevel': '3'},\n {'ymd': '2019-01-21',\n  'bWendu': '8℃',\n  'yWendu': '2℃',\n  'tianqi': '多云',\n  'fengxiang': '西北风',\n  'fengli': '2级',\n  'aqi': '59',\n  'aqiInfo': '良',\n  'aqiLevel': '2'},\n {'ymd': '2019-01-22',\n  'bWendu': '10℃',\n  'yWendu': '2℃',\n  'tianqi': '晴',\n  'fengxiang': '西北风',\n  'fengli': '2级',\n  'aqi': '109',\n  'aqiInfo': '轻度污染',\n  'aqiLevel': '3'},\n {'ymd': '2019-01-23',\n  'bWendu': '12℃',\n  'yWendu': '4℃',\n  'tianqi': '晴~多云',\n  'fengxiang': '西北风',\n  'fengli': '2级',\n  'aqi': '122',\n  'aqiInfo': '轻度污染',\n  'aqiLevel': '3'},\n {'ymd': '2019-01-24',\n  'bWendu': '12℃',\n  'yWendu': '5℃',\n  'tianqi': '晴~多云',\n  'fengxiang': '东南风',\n  'fengli': '2级',\n  'aqi': '138',\n  'aqiInfo': '轻度污染',\n  'aqiLevel': '3'},\n {'ymd': '2019-01-25',\n  'bWendu': '10℃',\n  'yWendu': '2℃',\n  'tianqi': '阴~多云',\n  'fengxiang': '东北风',\n  'fengli': '3级',\n  'aqi': '51',\n  'aqiInfo': '良',\n  'aqiLevel': '2'},\n {'ymd': '2019-01-26',\n  'bWendu': '5℃',\n  'yWendu': '1℃',\n  'tianqi': '多云',\n  'fengxiang': '西北风',\n  'fengli': '3级',\n  'aqi': '35',\n  'aqiInfo': '优',\n  'aqiLevel': '1'},\n {'ymd': '2019-01-27',\n  'bWendu': '9℃',\n  'yWendu': '3℃',\n  'tianqi': '多云~晴',\n  'fengxiang': '东南风',\n  'fengli': '2级',\n  'aqi': '37',\n  'aqiInfo': '优',\n  'aqiLevel': '1'},\n {'ymd': '2019-01-28',\n  'bWendu': '10℃',\n  'yWendu': '6℃',\n  'tianqi': '多云',\n  'fengxiang': '东北风',\n  'fengli': '2级',\n  'aqi': '70',\n  'aqiInfo': '良',\n  'aqiLevel': '2'},\n {'ymd': '2019-01-29',\n  'bWendu': '10℃',\n  'yWendu': '8℃',\n  'tianqi': '阴~多云',\n  'fengxiang': '东南风',\n  'fengli': '2级',\n  'aqi': '76',\n  'aqiInfo': '良',\n  'aqiLevel': '2'},\n {'ymd': '2019-01-30',\n  'bWendu': '15℃',\n  'yWendu': '4℃',\n  'tianqi': '阴~小雨',\n  'fengxiang': '东南风',\n  'fengli': '2级',\n  'aqi': '49',\n  'aqiInfo': '优',\n  'aqiLevel': '1'},\n {'ymd': '2019-01-31',\n  'bWendu': '11℃',\n  'yWendu': '0℃',\n  'tianqi': '小雨~多云',\n  'fengxiang': '东北风',\n  'fengli': '3级',\n  'aqi': '33',\n  'aqiInfo': '优',\n  'aqiLevel': '1'},\n {}]"
     },
     "metadata": {},
     "execution_count": 13
    }
   ],
   "source": [
    "tqInfos"
   ]
  },
  {
   "cell_type": "code",
   "execution_count": 14,
   "metadata": {},
   "outputs": [],
   "source": [
    "all_datas = []"
   ]
  },
  {
   "cell_type": "code",
   "execution_count": 15,
   "metadata": {},
   "outputs": [],
   "source": [
    "for data in datas:\n",
    "    tqInfos = demjson.decode(data)['tqInfo']\n",
    "    all_datas.extend([x for x in tqInfos if len(x) > 0])"
   ]
  },
  {
   "cell_type": "code",
   "execution_count": 18,
   "metadata": {},
   "outputs": [
    {
     "output_type": "execute_result",
     "data": {
      "text/plain": "{'ymd': '2019-01-01',\n 'bWendu': '6℃',\n 'yWendu': '3℃',\n 'tianqi': '阴~多云',\n 'fengxiang': '西北风',\n 'fengli': '3级',\n 'aqi': '39',\n 'aqiInfo': '优',\n 'aqiLevel': '1'}"
     },
     "metadata": {},
     "execution_count": 18
    }
   ],
   "source": [
    "all_datas[0]"
   ]
  },
  {
   "cell_type": "code",
   "execution_count": 19,
   "metadata": {},
   "outputs": [
    {
     "output_type": "execute_result",
     "data": {
      "text/plain": "365"
     },
     "metadata": {},
     "execution_count": 19
    }
   ],
   "source": [
    "len(all_datas)"
   ]
  },
  {
   "cell_type": "code",
   "execution_count": 24,
   "metadata": {},
   "outputs": [],
   "source": [
    "columns = list(all_datas[0].keys())"
   ]
  },
  {
   "cell_type": "code",
   "execution_count": 25,
   "metadata": {},
   "outputs": [
    {
     "output_type": "execute_result",
     "data": {
      "text/plain": "['ymd',\n 'bWendu',\n 'yWendu',\n 'tianqi',\n 'fengxiang',\n 'fengli',\n 'aqi',\n 'aqiInfo',\n 'aqiLevel']"
     },
     "metadata": {},
     "execution_count": 25
    }
   ],
   "source": [
    "columns"
   ]
  },
  {
   "cell_type": "code",
   "execution_count": 26,
   "metadata": {},
   "outputs": [],
   "source": [
    "import csv"
   ]
  },
  {
   "cell_type": "code",
   "execution_count": 27,
   "metadata": {},
   "outputs": [
    {
     "output_type": "execute_result",
     "data": {
      "text/plain": "'c:\\\\Users\\\\Lei\\\\Documents\\\\GitHub\\\\ant-learn-pandas'"
     },
     "metadata": {},
     "execution_count": 27
    }
   ],
   "source": [
    "pwd"
   ]
  },
  {
   "cell_type": "code",
   "execution_count": 28,
   "metadata": {},
   "outputs": [],
   "source": [
    "import os\n",
    "work_dir = './shanghai_weather'\n",
    "if not os.path.exists(work_dir):\n",
    "    os.mkdir(work_dir)\n",
    "\n",
    "import csv\n",
    "with open(f'{work_dir}/shanghai_weather_2019.csv', 'w', newline = '', encoding = 'utf-8') as csv_file:\n",
    "    writer = csv.writer(csv_file)\n",
    "    writer.writerow(columns)\n",
    "    for data in all_datas:\n",
    "        writer.writerow([data[column] for column in columns])\n"
   ]
  },
  {
   "cell_type": "code",
   "execution_count": null,
   "metadata": {},
   "outputs": [],
   "source": []
  }
 ]
}