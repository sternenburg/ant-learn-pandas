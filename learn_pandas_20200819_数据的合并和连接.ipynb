{
 "metadata": {
  "language_info": {
   "codemirror_mode": {
    "name": "ipython",
    "version": 3
   },
   "file_extension": ".py",
   "mimetype": "text/x-python",
   "name": "python",
   "nbconvert_exporter": "python",
   "pygments_lexer": "ipython3",
   "version": "3.8.3-final"
  },
  "orig_nbformat": 2,
  "kernelspec": {
   "name": "python_defaultSpec_1598173665577",
   "display_name": "Python 3.8.3 64-bit"
  }
 },
 "nbformat": 4,
 "nbformat_minor": 2,
 "cells": [
  {
   "cell_type": "markdown",
   "metadata": {},
   "source": [
    "## 数据的合并merge"
   ]
  },
  {
   "cell_type": "code",
   "execution_count": 1,
   "metadata": {},
   "outputs": [],
   "source": [
    "import os\n",
    "import pandas as pd "
   ]
  },
  {
   "cell_type": "code",
   "execution_count": 2,
   "metadata": {},
   "outputs": [],
   "source": [
    "df_ratings = pd.read_csv(\n",
    "    \"./datas/movielens-1m/ratings.dat\", \n",
    "    sep=\"::\",\n",
    "    engine='python', \n",
    "    names=\"UserID::MovieID::Rating::Timestamp\".split(\"::\")\n",
    ")"
   ]
  },
  {
   "cell_type": "code",
   "execution_count": 4,
   "metadata": {},
   "outputs": [],
   "source": [
    "df_users = pd.read_csv(\n",
    "    \"./datas/movielens-1m/users.dat\", \n",
    "    sep=\"::\",\n",
    "    engine='python', \n",
    "    names=\"UserID::Gender::Age::Occupation::Zip-code\".split(\"::\")\n",
    ")"
   ]
  },
  {
   "cell_type": "code",
   "execution_count": 5,
   "metadata": {},
   "outputs": [],
   "source": [
    "df_movies = pd.read_csv(\n",
    "    \"./datas/movielens-1m/movies.dat\", \n",
    "    sep=\"::\",\n",
    "    engine='python', \n",
    "    names=\"MovieID::Title::Genres\".split(\"::\")\n",
    ")"
   ]
  },
  {
   "cell_type": "code",
   "execution_count": 6,
   "metadata": {},
   "outputs": [],
   "source": [
    "df_ratings_users = pd.merge(df_ratings, df_users, on = 'UserID', how = 'inner')"
   ]
  },
  {
   "cell_type": "code",
   "execution_count": 7,
   "metadata": {},
   "outputs": [
    {
     "output_type": "execute_result",
     "data": {
      "text/plain": "   UserID  MovieID  Rating  Timestamp Gender  Age  Occupation Zip-code\n0       1     1193       5  978300760      F    1          10    48067\n1       1      661       3  978302109      F    1          10    48067\n2       1      914       3  978301968      F    1          10    48067\n3       1     3408       4  978300275      F    1          10    48067\n4       1     2355       5  978824291      F    1          10    48067",
      "text/html": "<div>\n<style scoped>\n    .dataframe tbody tr th:only-of-type {\n        vertical-align: middle;\n    }\n\n    .dataframe tbody tr th {\n        vertical-align: top;\n    }\n\n    .dataframe thead th {\n        text-align: right;\n    }\n</style>\n<table border=\"1\" class=\"dataframe\">\n  <thead>\n    <tr style=\"text-align: right;\">\n      <th></th>\n      <th>UserID</th>\n      <th>MovieID</th>\n      <th>Rating</th>\n      <th>Timestamp</th>\n      <th>Gender</th>\n      <th>Age</th>\n      <th>Occupation</th>\n      <th>Zip-code</th>\n    </tr>\n  </thead>\n  <tbody>\n    <tr>\n      <th>0</th>\n      <td>1</td>\n      <td>1193</td>\n      <td>5</td>\n      <td>978300760</td>\n      <td>F</td>\n      <td>1</td>\n      <td>10</td>\n      <td>48067</td>\n    </tr>\n    <tr>\n      <th>1</th>\n      <td>1</td>\n      <td>661</td>\n      <td>3</td>\n      <td>978302109</td>\n      <td>F</td>\n      <td>1</td>\n      <td>10</td>\n      <td>48067</td>\n    </tr>\n    <tr>\n      <th>2</th>\n      <td>1</td>\n      <td>914</td>\n      <td>3</td>\n      <td>978301968</td>\n      <td>F</td>\n      <td>1</td>\n      <td>10</td>\n      <td>48067</td>\n    </tr>\n    <tr>\n      <th>3</th>\n      <td>1</td>\n      <td>3408</td>\n      <td>4</td>\n      <td>978300275</td>\n      <td>F</td>\n      <td>1</td>\n      <td>10</td>\n      <td>48067</td>\n    </tr>\n    <tr>\n      <th>4</th>\n      <td>1</td>\n      <td>2355</td>\n      <td>5</td>\n      <td>978824291</td>\n      <td>F</td>\n      <td>1</td>\n      <td>10</td>\n      <td>48067</td>\n    </tr>\n  </tbody>\n</table>\n</div>"
     },
     "metadata": {},
     "execution_count": 7
    }
   ],
   "source": [
    "df_ratings_users.head()"
   ]
  },
  {
   "cell_type": "code",
   "execution_count": 9,
   "metadata": {},
   "outputs": [
    {
     "output_type": "execute_result",
     "data": {
      "text/plain": "(1000209, 8)"
     },
     "metadata": {},
     "execution_count": 9
    }
   ],
   "source": [
    "df_ratings_users.shape"
   ]
  },
  {
   "cell_type": "code",
   "execution_count": 11,
   "metadata": {},
   "outputs": [],
   "source": [
    "df_ratings_users_movies = pd.merge(\n",
    "    df_ratings_users, df_movies,\n",
    "    on = 'MovieID',\n",
    "    how = 'inner'\n",
    ")"
   ]
  },
  {
   "cell_type": "code",
   "execution_count": 12,
   "metadata": {},
   "outputs": [
    {
     "output_type": "execute_result",
     "data": {
      "text/plain": "(1000209, 10)"
     },
     "metadata": {},
     "execution_count": 12
    }
   ],
   "source": [
    "df_ratings_users_movies.shape"
   ]
  },
  {
   "cell_type": "markdown",
   "metadata": {},
   "source": [
    "## Merge时数量的对应关系\n",
    "## 1.一对一"
   ]
  },
  {
   "cell_type": "code",
   "execution_count": 15,
   "metadata": {},
   "outputs": [],
   "source": [
    "left = pd.DataFrame({'sno': [11, 12, 13, 14],\n",
    "                      'name': ['name_a', 'name_b', 'name_c', 'name_d']\n",
    "                    })"
   ]
  },
  {
   "cell_type": "code",
   "execution_count": 18,
   "metadata": {},
   "outputs": [],
   "source": [
    "right = pd.DataFrame({'sno': [11, 12, 13, 14],\n",
    "                      'age': ['21', '22', '23', '24']\n",
    "                    })"
   ]
  },
  {
   "cell_type": "code",
   "execution_count": 20,
   "metadata": {},
   "outputs": [
    {
     "output_type": "execute_result",
     "data": {
      "text/plain": "   sno    name age\n0   11  name_a  21\n1   12  name_b  22\n2   13  name_c  23\n3   14  name_d  24",
      "text/html": "<div>\n<style scoped>\n    .dataframe tbody tr th:only-of-type {\n        vertical-align: middle;\n    }\n\n    .dataframe tbody tr th {\n        vertical-align: top;\n    }\n\n    .dataframe thead th {\n        text-align: right;\n    }\n</style>\n<table border=\"1\" class=\"dataframe\">\n  <thead>\n    <tr style=\"text-align: right;\">\n      <th></th>\n      <th>sno</th>\n      <th>name</th>\n      <th>age</th>\n    </tr>\n  </thead>\n  <tbody>\n    <tr>\n      <th>0</th>\n      <td>11</td>\n      <td>name_a</td>\n      <td>21</td>\n    </tr>\n    <tr>\n      <th>1</th>\n      <td>12</td>\n      <td>name_b</td>\n      <td>22</td>\n    </tr>\n    <tr>\n      <th>2</th>\n      <td>13</td>\n      <td>name_c</td>\n      <td>23</td>\n    </tr>\n    <tr>\n      <th>3</th>\n      <td>14</td>\n      <td>name_d</td>\n      <td>24</td>\n    </tr>\n  </tbody>\n</table>\n</div>"
     },
     "metadata": {},
     "execution_count": 20
    }
   ],
   "source": [
    "pd.merge(left, right)"
   ]
  },
  {
   "cell_type": "markdown",
   "metadata": {},
   "source": [
    "## 2. 一对多"
   ]
  },
  {
   "cell_type": "code",
   "execution_count": 21,
   "metadata": {},
   "outputs": [],
   "source": [
    "left = pd.DataFrame({'sno': [11, 12, 13, 14],\n",
    "                      'name': ['name_a', 'name_b', 'name_c', 'name_d']\n",
    "                    })"
   ]
  },
  {
   "cell_type": "code",
   "execution_count": 22,
   "metadata": {},
   "outputs": [],
   "source": [
    "right = pd.DataFrame({'sno': [11, 11, 11, 12, 12, 12],\n",
    "                       'grade': ['语文88', '数学90', '英语75','语文66', '数学55', '英语29']\n",
    "                     })"
   ]
  },
  {
   "cell_type": "code",
   "execution_count": 24,
   "metadata": {},
   "outputs": [
    {
     "output_type": "execute_result",
     "data": {
      "text/plain": "   sno    name grade\n0   11  name_a  语文88\n1   11  name_a  数学90\n2   11  name_a  英语75\n3   12  name_b  语文66\n4   12  name_b  数学55\n5   12  name_b  英语29\n6   13  name_c   NaN\n7   14  name_d   NaN",
      "text/html": "<div>\n<style scoped>\n    .dataframe tbody tr th:only-of-type {\n        vertical-align: middle;\n    }\n\n    .dataframe tbody tr th {\n        vertical-align: top;\n    }\n\n    .dataframe thead th {\n        text-align: right;\n    }\n</style>\n<table border=\"1\" class=\"dataframe\">\n  <thead>\n    <tr style=\"text-align: right;\">\n      <th></th>\n      <th>sno</th>\n      <th>name</th>\n      <th>grade</th>\n    </tr>\n  </thead>\n  <tbody>\n    <tr>\n      <th>0</th>\n      <td>11</td>\n      <td>name_a</td>\n      <td>语文88</td>\n    </tr>\n    <tr>\n      <th>1</th>\n      <td>11</td>\n      <td>name_a</td>\n      <td>数学90</td>\n    </tr>\n    <tr>\n      <th>2</th>\n      <td>11</td>\n      <td>name_a</td>\n      <td>英语75</td>\n    </tr>\n    <tr>\n      <th>3</th>\n      <td>12</td>\n      <td>name_b</td>\n      <td>语文66</td>\n    </tr>\n    <tr>\n      <th>4</th>\n      <td>12</td>\n      <td>name_b</td>\n      <td>数学55</td>\n    </tr>\n    <tr>\n      <th>5</th>\n      <td>12</td>\n      <td>name_b</td>\n      <td>英语29</td>\n    </tr>\n    <tr>\n      <th>6</th>\n      <td>13</td>\n      <td>name_c</td>\n      <td>NaN</td>\n    </tr>\n    <tr>\n      <th>7</th>\n      <td>14</td>\n      <td>name_d</td>\n      <td>NaN</td>\n    </tr>\n  </tbody>\n</table>\n</div>"
     },
     "metadata": {},
     "execution_count": 24
    }
   ],
   "source": [
    "pd.merge(left, right, on = 'sno', how = 'left')"
   ]
  },
  {
   "cell_type": "markdown",
   "metadata": {},
   "source": [
    "## 3. 多对多"
   ]
  },
  {
   "cell_type": "code",
   "execution_count": 25,
   "metadata": {},
   "outputs": [],
   "source": [
    "left = pd.DataFrame({'sno': [11, 11, 12, 12,12],\n",
    "                      '爱好': ['篮球', '羽毛球', '乒乓球', '篮球', \"足球\"]\n",
    "                    })"
   ]
  },
  {
   "cell_type": "code",
   "execution_count": 26,
   "metadata": {},
   "outputs": [],
   "source": [
    "right = pd.DataFrame({'sno': [11, 11, 11, 12, 12, 13],\n",
    "                       'grade': ['语文88', '数学90', '英语75','语文66', '数学55', '英语29']\n",
    "                     })"
   ]
  },
  {
   "cell_type": "code",
   "execution_count": 27,
   "metadata": {},
   "outputs": [
    {
     "output_type": "execute_result",
     "data": {
      "text/plain": "    sno   爱好 grade\n0    11   篮球  语文88\n1    11   篮球  数学90\n2    11   篮球  英语75\n3    11  羽毛球  语文88\n4    11  羽毛球  数学90\n5    11  羽毛球  英语75\n6    12  乒乓球  语文66\n7    12  乒乓球  数学55\n8    12   篮球  语文66\n9    12   篮球  数学55\n10   12   足球  语文66\n11   12   足球  数学55",
      "text/html": "<div>\n<style scoped>\n    .dataframe tbody tr th:only-of-type {\n        vertical-align: middle;\n    }\n\n    .dataframe tbody tr th {\n        vertical-align: top;\n    }\n\n    .dataframe thead th {\n        text-align: right;\n    }\n</style>\n<table border=\"1\" class=\"dataframe\">\n  <thead>\n    <tr style=\"text-align: right;\">\n      <th></th>\n      <th>sno</th>\n      <th>爱好</th>\n      <th>grade</th>\n    </tr>\n  </thead>\n  <tbody>\n    <tr>\n      <th>0</th>\n      <td>11</td>\n      <td>篮球</td>\n      <td>语文88</td>\n    </tr>\n    <tr>\n      <th>1</th>\n      <td>11</td>\n      <td>篮球</td>\n      <td>数学90</td>\n    </tr>\n    <tr>\n      <th>2</th>\n      <td>11</td>\n      <td>篮球</td>\n      <td>英语75</td>\n    </tr>\n    <tr>\n      <th>3</th>\n      <td>11</td>\n      <td>羽毛球</td>\n      <td>语文88</td>\n    </tr>\n    <tr>\n      <th>4</th>\n      <td>11</td>\n      <td>羽毛球</td>\n      <td>数学90</td>\n    </tr>\n    <tr>\n      <th>5</th>\n      <td>11</td>\n      <td>羽毛球</td>\n      <td>英语75</td>\n    </tr>\n    <tr>\n      <th>6</th>\n      <td>12</td>\n      <td>乒乓球</td>\n      <td>语文66</td>\n    </tr>\n    <tr>\n      <th>7</th>\n      <td>12</td>\n      <td>乒乓球</td>\n      <td>数学55</td>\n    </tr>\n    <tr>\n      <th>8</th>\n      <td>12</td>\n      <td>篮球</td>\n      <td>语文66</td>\n    </tr>\n    <tr>\n      <th>9</th>\n      <td>12</td>\n      <td>篮球</td>\n      <td>数学55</td>\n    </tr>\n    <tr>\n      <th>10</th>\n      <td>12</td>\n      <td>足球</td>\n      <td>语文66</td>\n    </tr>\n    <tr>\n      <th>11</th>\n      <td>12</td>\n      <td>足球</td>\n      <td>数学55</td>\n    </tr>\n  </tbody>\n</table>\n</div>"
     },
     "metadata": {},
     "execution_count": 27
    }
   ],
   "source": [
    "pd.merge(left, right, on = 'sno')"
   ]
  },
  {
   "cell_type": "code",
   "execution_count": null,
   "metadata": {},
   "outputs": [],
   "source": []
  }
 ]
}