{
 "cells": [
  {
   "cell_type": "markdown",
   "metadata": {},
   "source": [
    "# 数据的查询、新增"
   ]
  },
  {
   "cell_type": "code",
   "execution_count": 1,
   "metadata": {},
   "outputs": [
    {
     "output_type": "execute_result",
     "data": {
      "text/plain": "'c:\\\\Users\\\\Lei\\\\Documents\\\\GitHub\\\\ant-learn-pandas'"
     },
     "metadata": {},
     "execution_count": 1
    }
   ],
   "source": [
    "pwd"
   ]
  },
  {
   "cell_type": "code",
   "execution_count": 2,
   "metadata": {},
   "outputs": [],
   "source": [
    "import pandas as pd\n",
    "df = pd.read_csv(\"./datas/beijing_tianqi/beijing_tianqi_2018.csv\")\n"
   ]
  },
  {
   "cell_type": "code",
   "execution_count": 3,
   "metadata": {},
   "outputs": [
    {
     "output_type": "execute_result",
     "data": {
      "text/plain": "          ymd bWendu yWendu tianqi fengxiang fengli  aqi aqiInfo  aqiLevel\n0  2018-01-01     3℃    -6℃   晴~多云       东北风   1-2级   59       良         2\n1  2018-01-02     2℃    -5℃   阴~多云       东北风   1-2级   49       优         1\n2  2018-01-03     2℃    -5℃     多云        北风   1-2级   28       优         1\n3  2018-01-04     0℃    -8℃      阴       东北风   1-2级   28       优         1\n4  2018-01-05     3℃    -6℃   多云~晴       西北风   1-2级   50       优         1",
      "text/html": "<div>\n<style scoped>\n    .dataframe tbody tr th:only-of-type {\n        vertical-align: middle;\n    }\n\n    .dataframe tbody tr th {\n        vertical-align: top;\n    }\n\n    .dataframe thead th {\n        text-align: right;\n    }\n</style>\n<table border=\"1\" class=\"dataframe\">\n  <thead>\n    <tr style=\"text-align: right;\">\n      <th></th>\n      <th>ymd</th>\n      <th>bWendu</th>\n      <th>yWendu</th>\n      <th>tianqi</th>\n      <th>fengxiang</th>\n      <th>fengli</th>\n      <th>aqi</th>\n      <th>aqiInfo</th>\n      <th>aqiLevel</th>\n    </tr>\n  </thead>\n  <tbody>\n    <tr>\n      <th>0</th>\n      <td>2018-01-01</td>\n      <td>3℃</td>\n      <td>-6℃</td>\n      <td>晴~多云</td>\n      <td>东北风</td>\n      <td>1-2级</td>\n      <td>59</td>\n      <td>良</td>\n      <td>2</td>\n    </tr>\n    <tr>\n      <th>1</th>\n      <td>2018-01-02</td>\n      <td>2℃</td>\n      <td>-5℃</td>\n      <td>阴~多云</td>\n      <td>东北风</td>\n      <td>1-2级</td>\n      <td>49</td>\n      <td>优</td>\n      <td>1</td>\n    </tr>\n    <tr>\n      <th>2</th>\n      <td>2018-01-03</td>\n      <td>2℃</td>\n      <td>-5℃</td>\n      <td>多云</td>\n      <td>北风</td>\n      <td>1-2级</td>\n      <td>28</td>\n      <td>优</td>\n      <td>1</td>\n    </tr>\n    <tr>\n      <th>3</th>\n      <td>2018-01-04</td>\n      <td>0℃</td>\n      <td>-8℃</td>\n      <td>阴</td>\n      <td>东北风</td>\n      <td>1-2级</td>\n      <td>28</td>\n      <td>优</td>\n      <td>1</td>\n    </tr>\n    <tr>\n      <th>4</th>\n      <td>2018-01-05</td>\n      <td>3℃</td>\n      <td>-6℃</td>\n      <td>多云~晴</td>\n      <td>西北风</td>\n      <td>1-2级</td>\n      <td>50</td>\n      <td>优</td>\n      <td>1</td>\n    </tr>\n  </tbody>\n</table>\n</div>"
     },
     "metadata": {},
     "execution_count": 3
    }
   ],
   "source": [
    "df.head()"
   ]
  },
  {
   "cell_type": "code",
   "execution_count": 4,
   "metadata": {},
   "outputs": [],
   "source": [
    "df.set_index('ymd', inplace = True)"
   ]
  },
  {
   "cell_type": "code",
   "execution_count": 5,
   "metadata": {},
   "outputs": [
    {
     "output_type": "execute_result",
     "data": {
      "text/plain": "Index(['2018-01-01', '2018-01-02', '2018-01-03', '2018-01-04', '2018-01-05',\n       '2018-01-06', '2018-01-07', '2018-01-08', '2018-01-09', '2018-01-10',\n       ...\n       '2018-12-22', '2018-12-23', '2018-12-24', '2018-12-25', '2018-12-26',\n       '2018-12-27', '2018-12-28', '2018-12-29', '2018-12-30', '2018-12-31'],\n      dtype='object', name='ymd', length=365)"
     },
     "metadata": {},
     "execution_count": 5
    }
   ],
   "source": [
    "df.index"
   ]
  },
  {
   "cell_type": "markdown",
   "metadata": {},
   "source": [
    "### 替换掉温度里面的非数字字符，便于处理"
   ]
  },
  {
   "cell_type": "code",
   "execution_count": 6,
   "metadata": {},
   "outputs": [],
   "source": [
    "df.loc[:, 'bWendu'] = df['bWendu'].str.replace('℃', '').astype('int32')"
   ]
  },
  {
   "cell_type": "code",
   "execution_count": 7,
   "metadata": {},
   "outputs": [
    {
     "output_type": "execute_result",
     "data": {
      "text/plain": "            bWendu yWendu tianqi fengxiang fengli  aqi aqiInfo  aqiLevel\nymd                                                                     \n2018-01-01       3    -6℃   晴~多云       东北风   1-2级   59       良         2\n2018-01-02       2    -5℃   阴~多云       东北风   1-2级   49       优         1\n2018-01-03       2    -5℃     多云        北风   1-2级   28       优         1\n2018-01-04       0    -8℃      阴       东北风   1-2级   28       优         1\n2018-01-05       3    -6℃   多云~晴       西北风   1-2级   50       优         1",
      "text/html": "<div>\n<style scoped>\n    .dataframe tbody tr th:only-of-type {\n        vertical-align: middle;\n    }\n\n    .dataframe tbody tr th {\n        vertical-align: top;\n    }\n\n    .dataframe thead th {\n        text-align: right;\n    }\n</style>\n<table border=\"1\" class=\"dataframe\">\n  <thead>\n    <tr style=\"text-align: right;\">\n      <th></th>\n      <th>bWendu</th>\n      <th>yWendu</th>\n      <th>tianqi</th>\n      <th>fengxiang</th>\n      <th>fengli</th>\n      <th>aqi</th>\n      <th>aqiInfo</th>\n      <th>aqiLevel</th>\n    </tr>\n    <tr>\n      <th>ymd</th>\n      <th></th>\n      <th></th>\n      <th></th>\n      <th></th>\n      <th></th>\n      <th></th>\n      <th></th>\n      <th></th>\n    </tr>\n  </thead>\n  <tbody>\n    <tr>\n      <th>2018-01-01</th>\n      <td>3</td>\n      <td>-6℃</td>\n      <td>晴~多云</td>\n      <td>东北风</td>\n      <td>1-2级</td>\n      <td>59</td>\n      <td>良</td>\n      <td>2</td>\n    </tr>\n    <tr>\n      <th>2018-01-02</th>\n      <td>2</td>\n      <td>-5℃</td>\n      <td>阴~多云</td>\n      <td>东北风</td>\n      <td>1-2级</td>\n      <td>49</td>\n      <td>优</td>\n      <td>1</td>\n    </tr>\n    <tr>\n      <th>2018-01-03</th>\n      <td>2</td>\n      <td>-5℃</td>\n      <td>多云</td>\n      <td>北风</td>\n      <td>1-2级</td>\n      <td>28</td>\n      <td>优</td>\n      <td>1</td>\n    </tr>\n    <tr>\n      <th>2018-01-04</th>\n      <td>0</td>\n      <td>-8℃</td>\n      <td>阴</td>\n      <td>东北风</td>\n      <td>1-2级</td>\n      <td>28</td>\n      <td>优</td>\n      <td>1</td>\n    </tr>\n    <tr>\n      <th>2018-01-05</th>\n      <td>3</td>\n      <td>-6℃</td>\n      <td>多云~晴</td>\n      <td>西北风</td>\n      <td>1-2级</td>\n      <td>50</td>\n      <td>优</td>\n      <td>1</td>\n    </tr>\n  </tbody>\n</table>\n</div>"
     },
     "metadata": {},
     "execution_count": 7
    }
   ],
   "source": [
    "df.head()"
   ]
  },
  {
   "cell_type": "code",
   "execution_count": 8,
   "metadata": {},
   "outputs": [],
   "source": [
    "df['yWendu'] = df['yWendu'].str.replace('℃', '').astype('int32')"
   ]
  },
  {
   "cell_type": "code",
   "execution_count": 9,
   "metadata": {},
   "outputs": [
    {
     "output_type": "execute_result",
     "data": {
      "text/plain": "            bWendu  yWendu tianqi fengxiang fengli  aqi aqiInfo  aqiLevel\nymd                                                                      \n2018-01-01       3      -6   晴~多云       东北风   1-2级   59       良         2\n2018-01-02       2      -5   阴~多云       东北风   1-2级   49       优         1\n2018-01-03       2      -5     多云        北风   1-2级   28       优         1\n2018-01-04       0      -8      阴       东北风   1-2级   28       优         1\n2018-01-05       3      -6   多云~晴       西北风   1-2级   50       优         1",
      "text/html": "<div>\n<style scoped>\n    .dataframe tbody tr th:only-of-type {\n        vertical-align: middle;\n    }\n\n    .dataframe tbody tr th {\n        vertical-align: top;\n    }\n\n    .dataframe thead th {\n        text-align: right;\n    }\n</style>\n<table border=\"1\" class=\"dataframe\">\n  <thead>\n    <tr style=\"text-align: right;\">\n      <th></th>\n      <th>bWendu</th>\n      <th>yWendu</th>\n      <th>tianqi</th>\n      <th>fengxiang</th>\n      <th>fengli</th>\n      <th>aqi</th>\n      <th>aqiInfo</th>\n      <th>aqiLevel</th>\n    </tr>\n    <tr>\n      <th>ymd</th>\n      <th></th>\n      <th></th>\n      <th></th>\n      <th></th>\n      <th></th>\n      <th></th>\n      <th></th>\n      <th></th>\n    </tr>\n  </thead>\n  <tbody>\n    <tr>\n      <th>2018-01-01</th>\n      <td>3</td>\n      <td>-6</td>\n      <td>晴~多云</td>\n      <td>东北风</td>\n      <td>1-2级</td>\n      <td>59</td>\n      <td>良</td>\n      <td>2</td>\n    </tr>\n    <tr>\n      <th>2018-01-02</th>\n      <td>2</td>\n      <td>-5</td>\n      <td>阴~多云</td>\n      <td>东北风</td>\n      <td>1-2级</td>\n      <td>49</td>\n      <td>优</td>\n      <td>1</td>\n    </tr>\n    <tr>\n      <th>2018-01-03</th>\n      <td>2</td>\n      <td>-5</td>\n      <td>多云</td>\n      <td>北风</td>\n      <td>1-2级</td>\n      <td>28</td>\n      <td>优</td>\n      <td>1</td>\n    </tr>\n    <tr>\n      <th>2018-01-04</th>\n      <td>0</td>\n      <td>-8</td>\n      <td>阴</td>\n      <td>东北风</td>\n      <td>1-2级</td>\n      <td>28</td>\n      <td>优</td>\n      <td>1</td>\n    </tr>\n    <tr>\n      <th>2018-01-05</th>\n      <td>3</td>\n      <td>-6</td>\n      <td>多云~晴</td>\n      <td>西北风</td>\n      <td>1-2级</td>\n      <td>50</td>\n      <td>优</td>\n      <td>1</td>\n    </tr>\n  </tbody>\n</table>\n</div>"
     },
     "metadata": {},
     "execution_count": 9
    }
   ],
   "source": [
    "df.head()"
   ]
  },
  {
   "cell_type": "markdown",
   "metadata": {},
   "source": [
    "# 查询\n",
    "## 1. 使用单个label值查询数据"
   ]
  },
  {
   "cell_type": "code",
   "execution_count": 18,
   "metadata": {},
   "outputs": [
    {
     "output_type": "execute_result",
     "data": {
      "text/plain": "3"
     },
     "metadata": {},
     "execution_count": 18
    }
   ],
   "source": [
    "# 得到单个值\n",
    "df.loc['2018-01-01', 'bWendu']"
   ]
  },
  {
   "cell_type": "code",
   "execution_count": 19,
   "metadata": {},
   "outputs": [
    {
     "output_type": "execute_result",
     "data": {
      "text/plain": "bWendu     3\nyWendu    -6\nName: 2018-01-01, dtype: object"
     },
     "metadata": {},
     "execution_count": 19
    }
   ],
   "source": [
    "# 得到一个Series\n",
    "df.loc['2018-01-01', ['bWendu', 'yWendu']]"
   ]
  },
  {
   "cell_type": "code",
   "execution_count": 10,
   "metadata": {},
   "outputs": [
    {
     "output_type": "execute_result",
     "data": {
      "text/plain": "ymd\n2018-01-02    2\n2018-02-01    4\n2018-03-01    8\nName: bWendu, dtype: int32"
     },
     "metadata": {},
     "execution_count": 10
    }
   ],
   "source": [
    "df.loc[['2018-01-02', '2018-02-01', '2018-03-01'], 'bWendu']"
   ]
  },
  {
   "cell_type": "code",
   "execution_count": 11,
   "metadata": {},
   "outputs": [
    {
     "output_type": "execute_result",
     "data": {
      "text/plain": "ymd\n2018-01-01    3\n2018-01-02    2\n2018-01-03    2\n2018-01-04    0\n2018-01-05    3\n2018-01-06    2\n2018-01-07    2\n2018-01-08    2\n2018-01-09    1\n2018-01-10   -2\n2018-01-11   -1\n2018-01-12    2\n2018-01-13    3\n2018-01-14    6\n2018-01-15    2\n2018-01-16    4\n2018-01-17    6\n2018-01-18    5\n2018-01-19    7\n2018-01-20    3\n2018-01-21    0\n2018-01-22   -3\n2018-01-23   -4\n2018-01-24   -4\n2018-01-25   -3\n2018-01-26   -3\n2018-01-27   -1\n2018-01-28   -1\n2018-01-29    1\n2018-01-30    4\nName: bWendu, dtype: int32"
     },
     "metadata": {},
     "execution_count": 11
    }
   ],
   "source": [
    "df.loc['2018-01-01':'2018-01-30', 'bWendu']"
   ]
  },
  {
   "cell_type": "code",
   "execution_count": 14,
   "metadata": {},
   "outputs": [
    {
     "output_type": "execute_result",
     "data": {
      "text/plain": "            bWendu  yWendu tianqi fengxiang fengli  aqi\nymd                                                    \n2018-01-01       3      -6   晴~多云       东北风   1-2级   59\n2018-01-02       2      -5   阴~多云       东北风   1-2级   49\n2018-01-03       2      -5     多云        北风   1-2级   28\n2018-01-04       0      -8      阴       东北风   1-2级   28\n2018-01-05       3      -6   多云~晴       西北风   1-2级   50\n2018-01-06       2      -5   多云~阴       西南风   1-2级   32\n2018-01-07       2      -4   阴~多云       西南风   1-2级   59\n2018-01-08       2      -6      晴       西北风   4-5级   50\n2018-01-09       1      -8      晴       西北风   3-4级   34\n2018-01-10      -2     -10      晴       西北风   1-2级   26",
      "text/html": "<div>\n<style scoped>\n    .dataframe tbody tr th:only-of-type {\n        vertical-align: middle;\n    }\n\n    .dataframe tbody tr th {\n        vertical-align: top;\n    }\n\n    .dataframe thead th {\n        text-align: right;\n    }\n</style>\n<table border=\"1\" class=\"dataframe\">\n  <thead>\n    <tr style=\"text-align: right;\">\n      <th></th>\n      <th>bWendu</th>\n      <th>yWendu</th>\n      <th>tianqi</th>\n      <th>fengxiang</th>\n      <th>fengli</th>\n      <th>aqi</th>\n    </tr>\n    <tr>\n      <th>ymd</th>\n      <th></th>\n      <th></th>\n      <th></th>\n      <th></th>\n      <th></th>\n      <th></th>\n    </tr>\n  </thead>\n  <tbody>\n    <tr>\n      <th>2018-01-01</th>\n      <td>3</td>\n      <td>-6</td>\n      <td>晴~多云</td>\n      <td>东北风</td>\n      <td>1-2级</td>\n      <td>59</td>\n    </tr>\n    <tr>\n      <th>2018-01-02</th>\n      <td>2</td>\n      <td>-5</td>\n      <td>阴~多云</td>\n      <td>东北风</td>\n      <td>1-2级</td>\n      <td>49</td>\n    </tr>\n    <tr>\n      <th>2018-01-03</th>\n      <td>2</td>\n      <td>-5</td>\n      <td>多云</td>\n      <td>北风</td>\n      <td>1-2级</td>\n      <td>28</td>\n    </tr>\n    <tr>\n      <th>2018-01-04</th>\n      <td>0</td>\n      <td>-8</td>\n      <td>阴</td>\n      <td>东北风</td>\n      <td>1-2级</td>\n      <td>28</td>\n    </tr>\n    <tr>\n      <th>2018-01-05</th>\n      <td>3</td>\n      <td>-6</td>\n      <td>多云~晴</td>\n      <td>西北风</td>\n      <td>1-2级</td>\n      <td>50</td>\n    </tr>\n    <tr>\n      <th>2018-01-06</th>\n      <td>2</td>\n      <td>-5</td>\n      <td>多云~阴</td>\n      <td>西南风</td>\n      <td>1-2级</td>\n      <td>32</td>\n    </tr>\n    <tr>\n      <th>2018-01-07</th>\n      <td>2</td>\n      <td>-4</td>\n      <td>阴~多云</td>\n      <td>西南风</td>\n      <td>1-2级</td>\n      <td>59</td>\n    </tr>\n    <tr>\n      <th>2018-01-08</th>\n      <td>2</td>\n      <td>-6</td>\n      <td>晴</td>\n      <td>西北风</td>\n      <td>4-5级</td>\n      <td>50</td>\n    </tr>\n    <tr>\n      <th>2018-01-09</th>\n      <td>1</td>\n      <td>-8</td>\n      <td>晴</td>\n      <td>西北风</td>\n      <td>3-4级</td>\n      <td>34</td>\n    </tr>\n    <tr>\n      <th>2018-01-10</th>\n      <td>-2</td>\n      <td>-10</td>\n      <td>晴</td>\n      <td>西北风</td>\n      <td>1-2级</td>\n      <td>26</td>\n    </tr>\n  </tbody>\n</table>\n</div>"
     },
     "metadata": {},
     "execution_count": 14
    }
   ],
   "source": [
    "df.loc['2018-01-01':'2018-01-10', 'bWendu':'aqi']"
   ]
  },
  {
   "cell_type": "markdown",
   "metadata": {},
   "source": [
    "## 2. 条件查询"
   ]
  },
  {
   "cell_type": "code",
   "execution_count": 31,
   "metadata": {},
   "outputs": [
    {
     "output_type": "execute_result",
     "data": {
      "text/plain": "2488"
     },
     "metadata": {},
     "execution_count": 31
    }
   ],
   "source": [
    "df.loc[df['bWendu']>3].size"
   ]
  },
  {
   "cell_type": "code",
   "execution_count": 44,
   "metadata": {},
   "outputs": [
    {
     "output_type": "execute_result",
     "data": {
      "text/plain": "            bWendu  yWendu  tianqi fengxiang fengli  aqi aqiInfo  aqiLevel\nymd                                                                       \n2018-05-16      29      21   多云~小雨        东风   1-2级  142    轻度污染         3\n2018-07-11      25      22  雷阵雨~大雨       东北风   1-2级   44       优         1\n2018-07-12      27      22      多云        南风   1-2级   46       优         1\n2018-07-13      28      23     雷阵雨        东风   1-2级   60       良         2\n2018-07-17      27      23  中雨~雷阵雨        西风   1-2级   28       优         1\n2018-07-24      28      26  暴雨~雷阵雨       东北风   3-4级   29       优         1\n2018-08-07      29      24  雷阵雨~中雨       东南风   1-2级   85       良         2\n2018-08-08      29      24   雷阵雨~阴       东北风   1-2级   45       优         1\n2018-08-14      29      24   中雨~小雨       东北风   1-2级   42       优         1\n2018-08-18      28      23   小雨~中雨        北风   3-4级   40       优         1\n2018-08-19      26      23   中雨~小雨       东北风   1-2级   37       优         1\n2018-08-22      28      21  雷阵雨~多云       西南风   1-2级   48       优         1\n2018-08-28      29      22   小雨~多云        南风   1-2级   58       良         2",
      "text/html": "<div>\n<style scoped>\n    .dataframe tbody tr th:only-of-type {\n        vertical-align: middle;\n    }\n\n    .dataframe tbody tr th {\n        vertical-align: top;\n    }\n\n    .dataframe thead th {\n        text-align: right;\n    }\n</style>\n<table border=\"1\" class=\"dataframe\">\n  <thead>\n    <tr style=\"text-align: right;\">\n      <th></th>\n      <th>bWendu</th>\n      <th>yWendu</th>\n      <th>tianqi</th>\n      <th>fengxiang</th>\n      <th>fengli</th>\n      <th>aqi</th>\n      <th>aqiInfo</th>\n      <th>aqiLevel</th>\n    </tr>\n    <tr>\n      <th>ymd</th>\n      <th></th>\n      <th></th>\n      <th></th>\n      <th></th>\n      <th></th>\n      <th></th>\n      <th></th>\n      <th></th>\n    </tr>\n  </thead>\n  <tbody>\n    <tr>\n      <th>2018-05-16</th>\n      <td>29</td>\n      <td>21</td>\n      <td>多云~小雨</td>\n      <td>东风</td>\n      <td>1-2级</td>\n      <td>142</td>\n      <td>轻度污染</td>\n      <td>3</td>\n    </tr>\n    <tr>\n      <th>2018-07-11</th>\n      <td>25</td>\n      <td>22</td>\n      <td>雷阵雨~大雨</td>\n      <td>东北风</td>\n      <td>1-2级</td>\n      <td>44</td>\n      <td>优</td>\n      <td>1</td>\n    </tr>\n    <tr>\n      <th>2018-07-12</th>\n      <td>27</td>\n      <td>22</td>\n      <td>多云</td>\n      <td>南风</td>\n      <td>1-2级</td>\n      <td>46</td>\n      <td>优</td>\n      <td>1</td>\n    </tr>\n    <tr>\n      <th>2018-07-13</th>\n      <td>28</td>\n      <td>23</td>\n      <td>雷阵雨</td>\n      <td>东风</td>\n      <td>1-2级</td>\n      <td>60</td>\n      <td>良</td>\n      <td>2</td>\n    </tr>\n    <tr>\n      <th>2018-07-17</th>\n      <td>27</td>\n      <td>23</td>\n      <td>中雨~雷阵雨</td>\n      <td>西风</td>\n      <td>1-2级</td>\n      <td>28</td>\n      <td>优</td>\n      <td>1</td>\n    </tr>\n    <tr>\n      <th>2018-07-24</th>\n      <td>28</td>\n      <td>26</td>\n      <td>暴雨~雷阵雨</td>\n      <td>东北风</td>\n      <td>3-4级</td>\n      <td>29</td>\n      <td>优</td>\n      <td>1</td>\n    </tr>\n    <tr>\n      <th>2018-08-07</th>\n      <td>29</td>\n      <td>24</td>\n      <td>雷阵雨~中雨</td>\n      <td>东南风</td>\n      <td>1-2级</td>\n      <td>85</td>\n      <td>良</td>\n      <td>2</td>\n    </tr>\n    <tr>\n      <th>2018-08-08</th>\n      <td>29</td>\n      <td>24</td>\n      <td>雷阵雨~阴</td>\n      <td>东北风</td>\n      <td>1-2级</td>\n      <td>45</td>\n      <td>优</td>\n      <td>1</td>\n    </tr>\n    <tr>\n      <th>2018-08-14</th>\n      <td>29</td>\n      <td>24</td>\n      <td>中雨~小雨</td>\n      <td>东北风</td>\n      <td>1-2级</td>\n      <td>42</td>\n      <td>优</td>\n      <td>1</td>\n    </tr>\n    <tr>\n      <th>2018-08-18</th>\n      <td>28</td>\n      <td>23</td>\n      <td>小雨~中雨</td>\n      <td>北风</td>\n      <td>3-4级</td>\n      <td>40</td>\n      <td>优</td>\n      <td>1</td>\n    </tr>\n    <tr>\n      <th>2018-08-19</th>\n      <td>26</td>\n      <td>23</td>\n      <td>中雨~小雨</td>\n      <td>东北风</td>\n      <td>1-2级</td>\n      <td>37</td>\n      <td>优</td>\n      <td>1</td>\n    </tr>\n    <tr>\n      <th>2018-08-22</th>\n      <td>28</td>\n      <td>21</td>\n      <td>雷阵雨~多云</td>\n      <td>西南风</td>\n      <td>1-2级</td>\n      <td>48</td>\n      <td>优</td>\n      <td>1</td>\n    </tr>\n    <tr>\n      <th>2018-08-28</th>\n      <td>29</td>\n      <td>22</td>\n      <td>小雨~多云</td>\n      <td>南风</td>\n      <td>1-2级</td>\n      <td>58</td>\n      <td>良</td>\n      <td>2</td>\n    </tr>\n  </tbody>\n</table>\n</div>"
     },
     "metadata": {},
     "execution_count": 44
    }
   ],
   "source": [
    "df.loc[(df['bWendu']<30) & (df['yWendu']>20)]"
   ]
  },
  {
   "cell_type": "code",
   "execution_count": 45,
   "metadata": {},
   "outputs": [
    {
     "output_type": "execute_result",
     "data": {
      "text/plain": "东北风    5\n东风     2\n南风     2\n东南风    1\n北风     1\n西风     1\n西南风    1\nName: fengxiang, dtype: int64"
     },
     "metadata": {},
     "execution_count": 45
    }
   ],
   "source": [
    "df.loc[(df['bWendu']<30) & (df['yWendu']>20)]['fengxiang'].value_counts()"
   ]
  },
  {
   "cell_type": "code",
   "execution_count": 46,
   "metadata": {},
   "outputs": [],
   "source": [
    "df.loc[:, 'wencha'] = df['bWendu'] - df['yWendu']"
   ]
  },
  {
   "cell_type": "code",
   "execution_count": 47,
   "metadata": {},
   "outputs": [
    {
     "output_type": "execute_result",
     "data": {
      "text/plain": "            bWendu  yWendu tianqi fengxiang fengli  aqi aqiInfo  aqiLevel  \\\nymd                                                                         \n2018-01-01       3      -6   晴~多云       东北风   1-2级   59       良         2   \n2018-01-02       2      -5   阴~多云       东北风   1-2级   49       优         1   \n2018-01-03       2      -5     多云        北风   1-2级   28       优         1   \n2018-01-04       0      -8      阴       东北风   1-2级   28       优         1   \n2018-01-05       3      -6   多云~晴       西北风   1-2级   50       优         1   \n...            ...     ...    ...       ...    ...  ...     ...       ...   \n2018-12-27      -5     -12   多云~晴       西北风     3级   48       优         1   \n2018-12-28      -3     -11      晴       西北风     3级   40       优         1   \n2018-12-29      -3     -12      晴       西北风     2级   29       优         1   \n2018-12-30      -2     -11   晴~多云       东北风     1级   31       优         1   \n2018-12-31      -2     -10     多云       东北风     1级   56       良         2   \n\n            wencha  \nymd                 \n2018-01-01       9  \n2018-01-02       7  \n2018-01-03       7  \n2018-01-04       8  \n2018-01-05       9  \n...            ...  \n2018-12-27       7  \n2018-12-28       8  \n2018-12-29       9  \n2018-12-30       9  \n2018-12-31       8  \n\n[365 rows x 9 columns]",
      "text/html": "<div>\n<style scoped>\n    .dataframe tbody tr th:only-of-type {\n        vertical-align: middle;\n    }\n\n    .dataframe tbody tr th {\n        vertical-align: top;\n    }\n\n    .dataframe thead th {\n        text-align: right;\n    }\n</style>\n<table border=\"1\" class=\"dataframe\">\n  <thead>\n    <tr style=\"text-align: right;\">\n      <th></th>\n      <th>bWendu</th>\n      <th>yWendu</th>\n      <th>tianqi</th>\n      <th>fengxiang</th>\n      <th>fengli</th>\n      <th>aqi</th>\n      <th>aqiInfo</th>\n      <th>aqiLevel</th>\n      <th>wencha</th>\n    </tr>\n    <tr>\n      <th>ymd</th>\n      <th></th>\n      <th></th>\n      <th></th>\n      <th></th>\n      <th></th>\n      <th></th>\n      <th></th>\n      <th></th>\n      <th></th>\n    </tr>\n  </thead>\n  <tbody>\n    <tr>\n      <th>2018-01-01</th>\n      <td>3</td>\n      <td>-6</td>\n      <td>晴~多云</td>\n      <td>东北风</td>\n      <td>1-2级</td>\n      <td>59</td>\n      <td>良</td>\n      <td>2</td>\n      <td>9</td>\n    </tr>\n    <tr>\n      <th>2018-01-02</th>\n      <td>2</td>\n      <td>-5</td>\n      <td>阴~多云</td>\n      <td>东北风</td>\n      <td>1-2级</td>\n      <td>49</td>\n      <td>优</td>\n      <td>1</td>\n      <td>7</td>\n    </tr>\n    <tr>\n      <th>2018-01-03</th>\n      <td>2</td>\n      <td>-5</td>\n      <td>多云</td>\n      <td>北风</td>\n      <td>1-2级</td>\n      <td>28</td>\n      <td>优</td>\n      <td>1</td>\n      <td>7</td>\n    </tr>\n    <tr>\n      <th>2018-01-04</th>\n      <td>0</td>\n      <td>-8</td>\n      <td>阴</td>\n      <td>东北风</td>\n      <td>1-2级</td>\n      <td>28</td>\n      <td>优</td>\n      <td>1</td>\n      <td>8</td>\n    </tr>\n    <tr>\n      <th>2018-01-05</th>\n      <td>3</td>\n      <td>-6</td>\n      <td>多云~晴</td>\n      <td>西北风</td>\n      <td>1-2级</td>\n      <td>50</td>\n      <td>优</td>\n      <td>1</td>\n      <td>9</td>\n    </tr>\n    <tr>\n      <th>...</th>\n      <td>...</td>\n      <td>...</td>\n      <td>...</td>\n      <td>...</td>\n      <td>...</td>\n      <td>...</td>\n      <td>...</td>\n      <td>...</td>\n      <td>...</td>\n    </tr>\n    <tr>\n      <th>2018-12-27</th>\n      <td>-5</td>\n      <td>-12</td>\n      <td>多云~晴</td>\n      <td>西北风</td>\n      <td>3级</td>\n      <td>48</td>\n      <td>优</td>\n      <td>1</td>\n      <td>7</td>\n    </tr>\n    <tr>\n      <th>2018-12-28</th>\n      <td>-3</td>\n      <td>-11</td>\n      <td>晴</td>\n      <td>西北风</td>\n      <td>3级</td>\n      <td>40</td>\n      <td>优</td>\n      <td>1</td>\n      <td>8</td>\n    </tr>\n    <tr>\n      <th>2018-12-29</th>\n      <td>-3</td>\n      <td>-12</td>\n      <td>晴</td>\n      <td>西北风</td>\n      <td>2级</td>\n      <td>29</td>\n      <td>优</td>\n      <td>1</td>\n      <td>9</td>\n    </tr>\n    <tr>\n      <th>2018-12-30</th>\n      <td>-2</td>\n      <td>-11</td>\n      <td>晴~多云</td>\n      <td>东北风</td>\n      <td>1级</td>\n      <td>31</td>\n      <td>优</td>\n      <td>1</td>\n      <td>9</td>\n    </tr>\n    <tr>\n      <th>2018-12-31</th>\n      <td>-2</td>\n      <td>-10</td>\n      <td>多云</td>\n      <td>东北风</td>\n      <td>1级</td>\n      <td>56</td>\n      <td>良</td>\n      <td>2</td>\n      <td>8</td>\n    </tr>\n  </tbody>\n</table>\n<p>365 rows × 9 columns</p>\n</div>"
     },
     "metadata": {},
     "execution_count": 47
    }
   ],
   "source": [
    "df"
   ]
  },
  {
   "cell_type": "code",
   "execution_count": 49,
   "metadata": {},
   "outputs": [
    {
     "output_type": "execute_result",
     "data": {
      "text/plain": "            bWendu  yWendu tianqi fengxiang fengli  aqi aqiInfo  aqiLevel  \\\nymd                                                                         \n2018-01-01       3      -6   晴~多云       东北风   1-2级   59       良         2   \n2018-01-02       2      -5   阴~多云       东北风   1-2级   49       优         1   \n2018-01-03       2      -5     多云        北风   1-2级   28       优         1   \n2018-01-04       0      -8      阴       东北风   1-2级   28       优         1   \n2018-01-05       3      -6   多云~晴       西北风   1-2级   50       优         1   \n...            ...     ...    ...       ...    ...  ...     ...       ...   \n2018-12-27      -5     -12   多云~晴       西北风     3级   48       优         1   \n2018-12-28      -3     -11      晴       西北风     3级   40       优         1   \n2018-12-29      -3     -12      晴       西北风     2级   29       优         1   \n2018-12-30      -2     -11   晴~多云       东北风     1级   31       优         1   \n2018-12-31      -2     -10     多云       东北风     1级   56       良         2   \n\n            wencha  \nymd                 \n2018-01-01       9  \n2018-01-02       7  \n2018-01-03       7  \n2018-01-04       8  \n2018-01-05       9  \n...            ...  \n2018-12-27       7  \n2018-12-28       8  \n2018-12-29       9  \n2018-12-30       9  \n2018-12-31       8  \n\n[365 rows x 9 columns]",
      "text/html": "<div>\n<style scoped>\n    .dataframe tbody tr th:only-of-type {\n        vertical-align: middle;\n    }\n\n    .dataframe tbody tr th {\n        vertical-align: top;\n    }\n\n    .dataframe thead th {\n        text-align: right;\n    }\n</style>\n<table border=\"1\" class=\"dataframe\">\n  <thead>\n    <tr style=\"text-align: right;\">\n      <th></th>\n      <th>bWendu</th>\n      <th>yWendu</th>\n      <th>tianqi</th>\n      <th>fengxiang</th>\n      <th>fengli</th>\n      <th>aqi</th>\n      <th>aqiInfo</th>\n      <th>aqiLevel</th>\n      <th>wencha</th>\n    </tr>\n    <tr>\n      <th>ymd</th>\n      <th></th>\n      <th></th>\n      <th></th>\n      <th></th>\n      <th></th>\n      <th></th>\n      <th></th>\n      <th></th>\n      <th></th>\n    </tr>\n  </thead>\n  <tbody>\n    <tr>\n      <th>2018-01-01</th>\n      <td>3</td>\n      <td>-6</td>\n      <td>晴~多云</td>\n      <td>东北风</td>\n      <td>1-2级</td>\n      <td>59</td>\n      <td>良</td>\n      <td>2</td>\n      <td>9</td>\n    </tr>\n    <tr>\n      <th>2018-01-02</th>\n      <td>2</td>\n      <td>-5</td>\n      <td>阴~多云</td>\n      <td>东北风</td>\n      <td>1-2级</td>\n      <td>49</td>\n      <td>优</td>\n      <td>1</td>\n      <td>7</td>\n    </tr>\n    <tr>\n      <th>2018-01-03</th>\n      <td>2</td>\n      <td>-5</td>\n      <td>多云</td>\n      <td>北风</td>\n      <td>1-2级</td>\n      <td>28</td>\n      <td>优</td>\n      <td>1</td>\n      <td>7</td>\n    </tr>\n    <tr>\n      <th>2018-01-04</th>\n      <td>0</td>\n      <td>-8</td>\n      <td>阴</td>\n      <td>东北风</td>\n      <td>1-2级</td>\n      <td>28</td>\n      <td>优</td>\n      <td>1</td>\n      <td>8</td>\n    </tr>\n    <tr>\n      <th>2018-01-05</th>\n      <td>3</td>\n      <td>-6</td>\n      <td>多云~晴</td>\n      <td>西北风</td>\n      <td>1-2级</td>\n      <td>50</td>\n      <td>优</td>\n      <td>1</td>\n      <td>9</td>\n    </tr>\n    <tr>\n      <th>...</th>\n      <td>...</td>\n      <td>...</td>\n      <td>...</td>\n      <td>...</td>\n      <td>...</td>\n      <td>...</td>\n      <td>...</td>\n      <td>...</td>\n      <td>...</td>\n    </tr>\n    <tr>\n      <th>2018-12-27</th>\n      <td>-5</td>\n      <td>-12</td>\n      <td>多云~晴</td>\n      <td>西北风</td>\n      <td>3级</td>\n      <td>48</td>\n      <td>优</td>\n      <td>1</td>\n      <td>7</td>\n    </tr>\n    <tr>\n      <th>2018-12-28</th>\n      <td>-3</td>\n      <td>-11</td>\n      <td>晴</td>\n      <td>西北风</td>\n      <td>3级</td>\n      <td>40</td>\n      <td>优</td>\n      <td>1</td>\n      <td>8</td>\n    </tr>\n    <tr>\n      <th>2018-12-29</th>\n      <td>-3</td>\n      <td>-12</td>\n      <td>晴</td>\n      <td>西北风</td>\n      <td>2级</td>\n      <td>29</td>\n      <td>优</td>\n      <td>1</td>\n      <td>9</td>\n    </tr>\n    <tr>\n      <th>2018-12-30</th>\n      <td>-2</td>\n      <td>-11</td>\n      <td>晴~多云</td>\n      <td>东北风</td>\n      <td>1级</td>\n      <td>31</td>\n      <td>优</td>\n      <td>1</td>\n      <td>9</td>\n    </tr>\n    <tr>\n      <th>2018-12-31</th>\n      <td>-2</td>\n      <td>-10</td>\n      <td>多云</td>\n      <td>东北风</td>\n      <td>1级</td>\n      <td>56</td>\n      <td>良</td>\n      <td>2</td>\n      <td>8</td>\n    </tr>\n  </tbody>\n</table>\n<p>365 rows × 9 columns</p>\n</div>"
     },
     "metadata": {},
     "execution_count": 49
    }
   ],
   "source": [
    "df"
   ]
  },
  {
   "cell_type": "code",
   "execution_count": 51,
   "metadata": {},
   "outputs": [
    {
     "output_type": "execute_result",
     "data": {
      "text/plain": "(365, 9)"
     },
     "metadata": {},
     "execution_count": 51
    }
   ],
   "source": [
    "df.shape"
   ]
  },
  {
   "cell_type": "markdown",
   "metadata": {},
   "source": [
    "# 新增数列\n",
    "## 1. 直接赋值"
   ]
  },
  {
   "cell_type": "code",
   "execution_count": 52,
   "metadata": {},
   "outputs": [],
   "source": [
    "df.loc[:, 'wencha'] = df['bWendu'] - df['yWendu']"
   ]
  },
  {
   "cell_type": "code",
   "execution_count": 53,
   "metadata": {},
   "outputs": [
    {
     "output_type": "execute_result",
     "data": {
      "text/plain": "<bound method NDFrame.head of             bWendu  yWendu tianqi fengxiang fengli  aqi aqiInfo  aqiLevel  \\\nymd                                                                         \n2018-01-01       3      -6   晴~多云       东北风   1-2级   59       良         2   \n2018-01-02       2      -5   阴~多云       东北风   1-2级   49       优         1   \n2018-01-03       2      -5     多云        北风   1-2级   28       优         1   \n2018-01-04       0      -8      阴       东北风   1-2级   28       优         1   \n2018-01-05       3      -6   多云~晴       西北风   1-2级   50       优         1   \n...            ...     ...    ...       ...    ...  ...     ...       ...   \n2018-12-27      -5     -12   多云~晴       西北风     3级   48       优         1   \n2018-12-28      -3     -11      晴       西北风     3级   40       优         1   \n2018-12-29      -3     -12      晴       西北风     2级   29       优         1   \n2018-12-30      -2     -11   晴~多云       东北风     1级   31       优         1   \n2018-12-31      -2     -10     多云       东北风     1级   56       良         2   \n\n            wencha  \nymd                 \n2018-01-01       9  \n2018-01-02       7  \n2018-01-03       7  \n2018-01-04       8  \n2018-01-05       9  \n...            ...  \n2018-12-27       7  \n2018-12-28       8  \n2018-12-29       9  \n2018-12-30       9  \n2018-12-31       8  \n\n[365 rows x 9 columns]>"
     },
     "metadata": {},
     "execution_count": 53
    }
   ],
   "source": [
    "df.head"
   ]
  },
  {
   "cell_type": "markdown",
   "metadata": {},
   "source": [
    "## 2. df.apply方法"
   ]
  },
  {
   "cell_type": "code",
   "execution_count": 54,
   "metadata": {},
   "outputs": [],
   "source": [
    "def get_wendu_type(x):\n",
    "    if x['bWendu'] > 33:\n",
    "        return '高温'\n",
    "    if x['yWendu'] < -10:\n",
    "        return '低温'\n",
    "    return '常温'\n",
    "df.loc[:, 'wendu_type'] = df.apply(get_wendu_type, axis = 1)"
   ]
  },
  {
   "cell_type": "code",
   "execution_count": 55,
   "metadata": {},
   "outputs": [
    {
     "output_type": "execute_result",
     "data": {
      "text/plain": "            bWendu  yWendu tianqi fengxiang fengli  aqi aqiInfo  aqiLevel  \\\nymd                                                                         \n2018-01-01       3      -6   晴~多云       东北风   1-2级   59       良         2   \n2018-01-02       2      -5   阴~多云       东北风   1-2级   49       优         1   \n2018-01-03       2      -5     多云        北风   1-2级   28       优         1   \n2018-01-04       0      -8      阴       东北风   1-2级   28       优         1   \n2018-01-05       3      -6   多云~晴       西北风   1-2级   50       优         1   \n...            ...     ...    ...       ...    ...  ...     ...       ...   \n2018-12-27      -5     -12   多云~晴       西北风     3级   48       优         1   \n2018-12-28      -3     -11      晴       西北风     3级   40       优         1   \n2018-12-29      -3     -12      晴       西北风     2级   29       优         1   \n2018-12-30      -2     -11   晴~多云       东北风     1级   31       优         1   \n2018-12-31      -2     -10     多云       东北风     1级   56       良         2   \n\n            wencha wendu_type  \nymd                            \n2018-01-01       9         常温  \n2018-01-02       7         常温  \n2018-01-03       7         常温  \n2018-01-04       8         常温  \n2018-01-05       9         常温  \n...            ...        ...  \n2018-12-27       7         低温  \n2018-12-28       8         低温  \n2018-12-29       9         低温  \n2018-12-30       9         低温  \n2018-12-31       8         常温  \n\n[365 rows x 10 columns]",
      "text/html": "<div>\n<style scoped>\n    .dataframe tbody tr th:only-of-type {\n        vertical-align: middle;\n    }\n\n    .dataframe tbody tr th {\n        vertical-align: top;\n    }\n\n    .dataframe thead th {\n        text-align: right;\n    }\n</style>\n<table border=\"1\" class=\"dataframe\">\n  <thead>\n    <tr style=\"text-align: right;\">\n      <th></th>\n      <th>bWendu</th>\n      <th>yWendu</th>\n      <th>tianqi</th>\n      <th>fengxiang</th>\n      <th>fengli</th>\n      <th>aqi</th>\n      <th>aqiInfo</th>\n      <th>aqiLevel</th>\n      <th>wencha</th>\n      <th>wendu_type</th>\n    </tr>\n    <tr>\n      <th>ymd</th>\n      <th></th>\n      <th></th>\n      <th></th>\n      <th></th>\n      <th></th>\n      <th></th>\n      <th></th>\n      <th></th>\n      <th></th>\n      <th></th>\n    </tr>\n  </thead>\n  <tbody>\n    <tr>\n      <th>2018-01-01</th>\n      <td>3</td>\n      <td>-6</td>\n      <td>晴~多云</td>\n      <td>东北风</td>\n      <td>1-2级</td>\n      <td>59</td>\n      <td>良</td>\n      <td>2</td>\n      <td>9</td>\n      <td>常温</td>\n    </tr>\n    <tr>\n      <th>2018-01-02</th>\n      <td>2</td>\n      <td>-5</td>\n      <td>阴~多云</td>\n      <td>东北风</td>\n      <td>1-2级</td>\n      <td>49</td>\n      <td>优</td>\n      <td>1</td>\n      <td>7</td>\n      <td>常温</td>\n    </tr>\n    <tr>\n      <th>2018-01-03</th>\n      <td>2</td>\n      <td>-5</td>\n      <td>多云</td>\n      <td>北风</td>\n      <td>1-2级</td>\n      <td>28</td>\n      <td>优</td>\n      <td>1</td>\n      <td>7</td>\n      <td>常温</td>\n    </tr>\n    <tr>\n      <th>2018-01-04</th>\n      <td>0</td>\n      <td>-8</td>\n      <td>阴</td>\n      <td>东北风</td>\n      <td>1-2级</td>\n      <td>28</td>\n      <td>优</td>\n      <td>1</td>\n      <td>8</td>\n      <td>常温</td>\n    </tr>\n    <tr>\n      <th>2018-01-05</th>\n      <td>3</td>\n      <td>-6</td>\n      <td>多云~晴</td>\n      <td>西北风</td>\n      <td>1-2级</td>\n      <td>50</td>\n      <td>优</td>\n      <td>1</td>\n      <td>9</td>\n      <td>常温</td>\n    </tr>\n    <tr>\n      <th>...</th>\n      <td>...</td>\n      <td>...</td>\n      <td>...</td>\n      <td>...</td>\n      <td>...</td>\n      <td>...</td>\n      <td>...</td>\n      <td>...</td>\n      <td>...</td>\n      <td>...</td>\n    </tr>\n    <tr>\n      <th>2018-12-27</th>\n      <td>-5</td>\n      <td>-12</td>\n      <td>多云~晴</td>\n      <td>西北风</td>\n      <td>3级</td>\n      <td>48</td>\n      <td>优</td>\n      <td>1</td>\n      <td>7</td>\n      <td>低温</td>\n    </tr>\n    <tr>\n      <th>2018-12-28</th>\n      <td>-3</td>\n      <td>-11</td>\n      <td>晴</td>\n      <td>西北风</td>\n      <td>3级</td>\n      <td>40</td>\n      <td>优</td>\n      <td>1</td>\n      <td>8</td>\n      <td>低温</td>\n    </tr>\n    <tr>\n      <th>2018-12-29</th>\n      <td>-3</td>\n      <td>-12</td>\n      <td>晴</td>\n      <td>西北风</td>\n      <td>2级</td>\n      <td>29</td>\n      <td>优</td>\n      <td>1</td>\n      <td>9</td>\n      <td>低温</td>\n    </tr>\n    <tr>\n      <th>2018-12-30</th>\n      <td>-2</td>\n      <td>-11</td>\n      <td>晴~多云</td>\n      <td>东北风</td>\n      <td>1级</td>\n      <td>31</td>\n      <td>优</td>\n      <td>1</td>\n      <td>9</td>\n      <td>低温</td>\n    </tr>\n    <tr>\n      <th>2018-12-31</th>\n      <td>-2</td>\n      <td>-10</td>\n      <td>多云</td>\n      <td>东北风</td>\n      <td>1级</td>\n      <td>56</td>\n      <td>良</td>\n      <td>2</td>\n      <td>8</td>\n      <td>常温</td>\n    </tr>\n  </tbody>\n</table>\n<p>365 rows × 10 columns</p>\n</div>"
     },
     "metadata": {},
     "execution_count": 55
    }
   ],
   "source": [
    "df"
   ]
  },
  {
   "cell_type": "code",
   "execution_count": 56,
   "metadata": {},
   "outputs": [
    {
     "output_type": "execute_result",
     "data": {
      "text/plain": "常温    328\n高温     29\n低温      8\nName: wendu_type, dtype: int64"
     },
     "metadata": {},
     "execution_count": 56
    }
   ],
   "source": [
    "df['wendu_type'].value_counts()"
   ]
  },
  {
   "cell_type": "markdown",
   "metadata": {},
   "source": [
    "## 3. df.assign方法"
   ]
  },
  {
   "cell_type": "code",
   "execution_count": 57,
   "metadata": {},
   "outputs": [
    {
     "output_type": "execute_result",
     "data": {
      "text/plain": "            bWendu  yWendu tianqi fengxiang fengli  aqi aqiInfo  aqiLevel  \\\nymd                                                                         \n2018-01-01       3      -6   晴~多云       东北风   1-2级   59       良         2   \n2018-01-02       2      -5   阴~多云       东北风   1-2级   49       优         1   \n2018-01-03       2      -5     多云        北风   1-2级   28       优         1   \n2018-01-04       0      -8      阴       东北风   1-2级   28       优         1   \n2018-01-05       3      -6   多云~晴       西北风   1-2级   50       优         1   \n...            ...     ...    ...       ...    ...  ...     ...       ...   \n2018-12-27      -5     -12   多云~晴       西北风     3级   48       优         1   \n2018-12-28      -3     -11      晴       西北风     3级   40       优         1   \n2018-12-29      -3     -12      晴       西北风     2级   29       优         1   \n2018-12-30      -2     -11   晴~多云       东北风     1级   31       优         1   \n2018-12-31      -2     -10     多云       东北风     1级   56       良         2   \n\n            wencha wendu_type  yWendu_huashi  bWendu_huashi  \nymd                                                          \n2018-01-01       9         常温           21.2             64  \n2018-01-02       7         常温           23.0             55  \n2018-01-03       7         常温           23.0             55  \n2018-01-04       8         常温           17.6             37  \n2018-01-05       9         常温           21.2             64  \n...            ...        ...            ...            ...  \n2018-12-27       7         低温           10.4             -8  \n2018-12-28       8         低温           12.2             10  \n2018-12-29       9         低温           10.4             10  \n2018-12-30       9         低温           12.2             19  \n2018-12-31       8         常温           14.0             19  \n\n[365 rows x 12 columns]",
      "text/html": "<div>\n<style scoped>\n    .dataframe tbody tr th:only-of-type {\n        vertical-align: middle;\n    }\n\n    .dataframe tbody tr th {\n        vertical-align: top;\n    }\n\n    .dataframe thead th {\n        text-align: right;\n    }\n</style>\n<table border=\"1\" class=\"dataframe\">\n  <thead>\n    <tr style=\"text-align: right;\">\n      <th></th>\n      <th>bWendu</th>\n      <th>yWendu</th>\n      <th>tianqi</th>\n      <th>fengxiang</th>\n      <th>fengli</th>\n      <th>aqi</th>\n      <th>aqiInfo</th>\n      <th>aqiLevel</th>\n      <th>wencha</th>\n      <th>wendu_type</th>\n      <th>yWendu_huashi</th>\n      <th>bWendu_huashi</th>\n    </tr>\n    <tr>\n      <th>ymd</th>\n      <th></th>\n      <th></th>\n      <th></th>\n      <th></th>\n      <th></th>\n      <th></th>\n      <th></th>\n      <th></th>\n      <th></th>\n      <th></th>\n      <th></th>\n      <th></th>\n    </tr>\n  </thead>\n  <tbody>\n    <tr>\n      <th>2018-01-01</th>\n      <td>3</td>\n      <td>-6</td>\n      <td>晴~多云</td>\n      <td>东北风</td>\n      <td>1-2级</td>\n      <td>59</td>\n      <td>良</td>\n      <td>2</td>\n      <td>9</td>\n      <td>常温</td>\n      <td>21.2</td>\n      <td>64</td>\n    </tr>\n    <tr>\n      <th>2018-01-02</th>\n      <td>2</td>\n      <td>-5</td>\n      <td>阴~多云</td>\n      <td>东北风</td>\n      <td>1-2级</td>\n      <td>49</td>\n      <td>优</td>\n      <td>1</td>\n      <td>7</td>\n      <td>常温</td>\n      <td>23.0</td>\n      <td>55</td>\n    </tr>\n    <tr>\n      <th>2018-01-03</th>\n      <td>2</td>\n      <td>-5</td>\n      <td>多云</td>\n      <td>北风</td>\n      <td>1-2级</td>\n      <td>28</td>\n      <td>优</td>\n      <td>1</td>\n      <td>7</td>\n      <td>常温</td>\n      <td>23.0</td>\n      <td>55</td>\n    </tr>\n    <tr>\n      <th>2018-01-04</th>\n      <td>0</td>\n      <td>-8</td>\n      <td>阴</td>\n      <td>东北风</td>\n      <td>1-2级</td>\n      <td>28</td>\n      <td>优</td>\n      <td>1</td>\n      <td>8</td>\n      <td>常温</td>\n      <td>17.6</td>\n      <td>37</td>\n    </tr>\n    <tr>\n      <th>2018-01-05</th>\n      <td>3</td>\n      <td>-6</td>\n      <td>多云~晴</td>\n      <td>西北风</td>\n      <td>1-2级</td>\n      <td>50</td>\n      <td>优</td>\n      <td>1</td>\n      <td>9</td>\n      <td>常温</td>\n      <td>21.2</td>\n      <td>64</td>\n    </tr>\n    <tr>\n      <th>...</th>\n      <td>...</td>\n      <td>...</td>\n      <td>...</td>\n      <td>...</td>\n      <td>...</td>\n      <td>...</td>\n      <td>...</td>\n      <td>...</td>\n      <td>...</td>\n      <td>...</td>\n      <td>...</td>\n      <td>...</td>\n    </tr>\n    <tr>\n      <th>2018-12-27</th>\n      <td>-5</td>\n      <td>-12</td>\n      <td>多云~晴</td>\n      <td>西北风</td>\n      <td>3级</td>\n      <td>48</td>\n      <td>优</td>\n      <td>1</td>\n      <td>7</td>\n      <td>低温</td>\n      <td>10.4</td>\n      <td>-8</td>\n    </tr>\n    <tr>\n      <th>2018-12-28</th>\n      <td>-3</td>\n      <td>-11</td>\n      <td>晴</td>\n      <td>西北风</td>\n      <td>3级</td>\n      <td>40</td>\n      <td>优</td>\n      <td>1</td>\n      <td>8</td>\n      <td>低温</td>\n      <td>12.2</td>\n      <td>10</td>\n    </tr>\n    <tr>\n      <th>2018-12-29</th>\n      <td>-3</td>\n      <td>-12</td>\n      <td>晴</td>\n      <td>西北风</td>\n      <td>2级</td>\n      <td>29</td>\n      <td>优</td>\n      <td>1</td>\n      <td>9</td>\n      <td>低温</td>\n      <td>10.4</td>\n      <td>10</td>\n    </tr>\n    <tr>\n      <th>2018-12-30</th>\n      <td>-2</td>\n      <td>-11</td>\n      <td>晴~多云</td>\n      <td>东北风</td>\n      <td>1级</td>\n      <td>31</td>\n      <td>优</td>\n      <td>1</td>\n      <td>9</td>\n      <td>低温</td>\n      <td>12.2</td>\n      <td>19</td>\n    </tr>\n    <tr>\n      <th>2018-12-31</th>\n      <td>-2</td>\n      <td>-10</td>\n      <td>多云</td>\n      <td>东北风</td>\n      <td>1级</td>\n      <td>56</td>\n      <td>良</td>\n      <td>2</td>\n      <td>8</td>\n      <td>常温</td>\n      <td>14.0</td>\n      <td>19</td>\n    </tr>\n  </tbody>\n</table>\n<p>365 rows × 12 columns</p>\n</div>"
     },
     "metadata": {},
     "execution_count": 57
    }
   ],
   "source": [
    "df.assign(\n",
    "    yWendu_huashi = lambda x : x['yWendu'] * 9 / 5 + 32,\n",
    "    bWendu_huashi = lambda x : x['bWendu'] * 9 + 5 + 32\n",
    ")"
   ]
  },
  {
   "cell_type": "code",
   "execution_count": 58,
   "metadata": {},
   "outputs": [],
   "source": [
    "df['wencha_type'] = ''"
   ]
  },
  {
   "cell_type": "code",
   "execution_count": 60,
   "metadata": {},
   "outputs": [
    {
     "output_type": "execute_result",
     "data": {
      "text/plain": "            bWendu  yWendu tianqi fengxiang fengli  aqi aqiInfo  aqiLevel  \\\nymd                                                                         \n2018-01-01       3      -6   晴~多云       东北风   1-2级   59       良         2   \n2018-01-02       2      -5   阴~多云       东北风   1-2级   49       优         1   \n2018-01-03       2      -5     多云        北风   1-2级   28       优         1   \n2018-01-04       0      -8      阴       东北风   1-2级   28       优         1   \n2018-01-05       3      -6   多云~晴       西北风   1-2级   50       优         1   \n\n            wencha wendu_type wencha_type  \nymd                                        \n2018-01-01       9         常温              \n2018-01-02       7         常温              \n2018-01-03       7         常温              \n2018-01-04       8         常温              \n2018-01-05       9         常温              ",
      "text/html": "<div>\n<style scoped>\n    .dataframe tbody tr th:only-of-type {\n        vertical-align: middle;\n    }\n\n    .dataframe tbody tr th {\n        vertical-align: top;\n    }\n\n    .dataframe thead th {\n        text-align: right;\n    }\n</style>\n<table border=\"1\" class=\"dataframe\">\n  <thead>\n    <tr style=\"text-align: right;\">\n      <th></th>\n      <th>bWendu</th>\n      <th>yWendu</th>\n      <th>tianqi</th>\n      <th>fengxiang</th>\n      <th>fengli</th>\n      <th>aqi</th>\n      <th>aqiInfo</th>\n      <th>aqiLevel</th>\n      <th>wencha</th>\n      <th>wendu_type</th>\n      <th>wencha_type</th>\n    </tr>\n    <tr>\n      <th>ymd</th>\n      <th></th>\n      <th></th>\n      <th></th>\n      <th></th>\n      <th></th>\n      <th></th>\n      <th></th>\n      <th></th>\n      <th></th>\n      <th></th>\n      <th></th>\n    </tr>\n  </thead>\n  <tbody>\n    <tr>\n      <th>2018-01-01</th>\n      <td>3</td>\n      <td>-6</td>\n      <td>晴~多云</td>\n      <td>东北风</td>\n      <td>1-2级</td>\n      <td>59</td>\n      <td>良</td>\n      <td>2</td>\n      <td>9</td>\n      <td>常温</td>\n      <td></td>\n    </tr>\n    <tr>\n      <th>2018-01-02</th>\n      <td>2</td>\n      <td>-5</td>\n      <td>阴~多云</td>\n      <td>东北风</td>\n      <td>1-2级</td>\n      <td>49</td>\n      <td>优</td>\n      <td>1</td>\n      <td>7</td>\n      <td>常温</td>\n      <td></td>\n    </tr>\n    <tr>\n      <th>2018-01-03</th>\n      <td>2</td>\n      <td>-5</td>\n      <td>多云</td>\n      <td>北风</td>\n      <td>1-2级</td>\n      <td>28</td>\n      <td>优</td>\n      <td>1</td>\n      <td>7</td>\n      <td>常温</td>\n      <td></td>\n    </tr>\n    <tr>\n      <th>2018-01-04</th>\n      <td>0</td>\n      <td>-8</td>\n      <td>阴</td>\n      <td>东北风</td>\n      <td>1-2级</td>\n      <td>28</td>\n      <td>优</td>\n      <td>1</td>\n      <td>8</td>\n      <td>常温</td>\n      <td></td>\n    </tr>\n    <tr>\n      <th>2018-01-05</th>\n      <td>3</td>\n      <td>-6</td>\n      <td>多云~晴</td>\n      <td>西北风</td>\n      <td>1-2级</td>\n      <td>50</td>\n      <td>优</td>\n      <td>1</td>\n      <td>9</td>\n      <td>常温</td>\n      <td></td>\n    </tr>\n  </tbody>\n</table>\n</div>"
     },
     "metadata": {},
     "execution_count": 60
    }
   ],
   "source": [
    "df.head()"
   ]
  },
  {
   "cell_type": "code",
   "execution_count": 61,
   "metadata": {},
   "outputs": [],
   "source": [
    "df.loc[df['wencha']>10, 'wencha_type'] = '温差大'"
   ]
  },
  {
   "cell_type": "code",
   "execution_count": 63,
   "metadata": {},
   "outputs": [],
   "source": [
    "df.loc[df['wencha'] <= 10, 'wencha_type'] = '温差小'"
   ]
  },
  {
   "cell_type": "code",
   "execution_count": 64,
   "metadata": {},
   "outputs": [
    {
     "output_type": "execute_result",
     "data": {
      "text/plain": "            bWendu  yWendu tianqi fengxiang fengli  aqi aqiInfo  aqiLevel  \\\nymd                                                                         \n2018-01-01       3      -6   晴~多云       东北风   1-2级   59       良         2   \n2018-01-02       2      -5   阴~多云       东北风   1-2级   49       优         1   \n2018-01-03       2      -5     多云        北风   1-2级   28       优         1   \n2018-01-04       0      -8      阴       东北风   1-2级   28       优         1   \n2018-01-05       3      -6   多云~晴       西北风   1-2级   50       优         1   \n...            ...     ...    ...       ...    ...  ...     ...       ...   \n2018-12-27      -5     -12   多云~晴       西北风     3级   48       优         1   \n2018-12-28      -3     -11      晴       西北风     3级   40       优         1   \n2018-12-29      -3     -12      晴       西北风     2级   29       优         1   \n2018-12-30      -2     -11   晴~多云       东北风     1级   31       优         1   \n2018-12-31      -2     -10     多云       东北风     1级   56       良         2   \n\n            wencha wendu_type wencha_type  \nymd                                        \n2018-01-01       9         常温         温差小  \n2018-01-02       7         常温         温差小  \n2018-01-03       7         常温         温差小  \n2018-01-04       8         常温         温差小  \n2018-01-05       9         常温         温差小  \n...            ...        ...         ...  \n2018-12-27       7         低温         温差小  \n2018-12-28       8         低温         温差小  \n2018-12-29       9         低温         温差小  \n2018-12-30       9         低温         温差小  \n2018-12-31       8         常温         温差小  \n\n[365 rows x 11 columns]",
      "text/html": "<div>\n<style scoped>\n    .dataframe tbody tr th:only-of-type {\n        vertical-align: middle;\n    }\n\n    .dataframe tbody tr th {\n        vertical-align: top;\n    }\n\n    .dataframe thead th {\n        text-align: right;\n    }\n</style>\n<table border=\"1\" class=\"dataframe\">\n  <thead>\n    <tr style=\"text-align: right;\">\n      <th></th>\n      <th>bWendu</th>\n      <th>yWendu</th>\n      <th>tianqi</th>\n      <th>fengxiang</th>\n      <th>fengli</th>\n      <th>aqi</th>\n      <th>aqiInfo</th>\n      <th>aqiLevel</th>\n      <th>wencha</th>\n      <th>wendu_type</th>\n      <th>wencha_type</th>\n    </tr>\n    <tr>\n      <th>ymd</th>\n      <th></th>\n      <th></th>\n      <th></th>\n      <th></th>\n      <th></th>\n      <th></th>\n      <th></th>\n      <th></th>\n      <th></th>\n      <th></th>\n      <th></th>\n    </tr>\n  </thead>\n  <tbody>\n    <tr>\n      <th>2018-01-01</th>\n      <td>3</td>\n      <td>-6</td>\n      <td>晴~多云</td>\n      <td>东北风</td>\n      <td>1-2级</td>\n      <td>59</td>\n      <td>良</td>\n      <td>2</td>\n      <td>9</td>\n      <td>常温</td>\n      <td>温差小</td>\n    </tr>\n    <tr>\n      <th>2018-01-02</th>\n      <td>2</td>\n      <td>-5</td>\n      <td>阴~多云</td>\n      <td>东北风</td>\n      <td>1-2级</td>\n      <td>49</td>\n      <td>优</td>\n      <td>1</td>\n      <td>7</td>\n      <td>常温</td>\n      <td>温差小</td>\n    </tr>\n    <tr>\n      <th>2018-01-03</th>\n      <td>2</td>\n      <td>-5</td>\n      <td>多云</td>\n      <td>北风</td>\n      <td>1-2级</td>\n      <td>28</td>\n      <td>优</td>\n      <td>1</td>\n      <td>7</td>\n      <td>常温</td>\n      <td>温差小</td>\n    </tr>\n    <tr>\n      <th>2018-01-04</th>\n      <td>0</td>\n      <td>-8</td>\n      <td>阴</td>\n      <td>东北风</td>\n      <td>1-2级</td>\n      <td>28</td>\n      <td>优</td>\n      <td>1</td>\n      <td>8</td>\n      <td>常温</td>\n      <td>温差小</td>\n    </tr>\n    <tr>\n      <th>2018-01-05</th>\n      <td>3</td>\n      <td>-6</td>\n      <td>多云~晴</td>\n      <td>西北风</td>\n      <td>1-2级</td>\n      <td>50</td>\n      <td>优</td>\n      <td>1</td>\n      <td>9</td>\n      <td>常温</td>\n      <td>温差小</td>\n    </tr>\n    <tr>\n      <th>...</th>\n      <td>...</td>\n      <td>...</td>\n      <td>...</td>\n      <td>...</td>\n      <td>...</td>\n      <td>...</td>\n      <td>...</td>\n      <td>...</td>\n      <td>...</td>\n      <td>...</td>\n      <td>...</td>\n    </tr>\n    <tr>\n      <th>2018-12-27</th>\n      <td>-5</td>\n      <td>-12</td>\n      <td>多云~晴</td>\n      <td>西北风</td>\n      <td>3级</td>\n      <td>48</td>\n      <td>优</td>\n      <td>1</td>\n      <td>7</td>\n      <td>低温</td>\n      <td>温差小</td>\n    </tr>\n    <tr>\n      <th>2018-12-28</th>\n      <td>-3</td>\n      <td>-11</td>\n      <td>晴</td>\n      <td>西北风</td>\n      <td>3级</td>\n      <td>40</td>\n      <td>优</td>\n      <td>1</td>\n      <td>8</td>\n      <td>低温</td>\n      <td>温差小</td>\n    </tr>\n    <tr>\n      <th>2018-12-29</th>\n      <td>-3</td>\n      <td>-12</td>\n      <td>晴</td>\n      <td>西北风</td>\n      <td>2级</td>\n      <td>29</td>\n      <td>优</td>\n      <td>1</td>\n      <td>9</td>\n      <td>低温</td>\n      <td>温差小</td>\n    </tr>\n    <tr>\n      <th>2018-12-30</th>\n      <td>-2</td>\n      <td>-11</td>\n      <td>晴~多云</td>\n      <td>东北风</td>\n      <td>1级</td>\n      <td>31</td>\n      <td>优</td>\n      <td>1</td>\n      <td>9</td>\n      <td>低温</td>\n      <td>温差小</td>\n    </tr>\n    <tr>\n      <th>2018-12-31</th>\n      <td>-2</td>\n      <td>-10</td>\n      <td>多云</td>\n      <td>东北风</td>\n      <td>1级</td>\n      <td>56</td>\n      <td>良</td>\n      <td>2</td>\n      <td>8</td>\n      <td>常温</td>\n      <td>温差小</td>\n    </tr>\n  </tbody>\n</table>\n<p>365 rows × 11 columns</p>\n</div>"
     },
     "metadata": {},
     "execution_count": 64
    }
   ],
   "source": [
    "df"
   ]
  },
  {
   "cell_type": "code",
   "execution_count": 66,
   "metadata": {},
   "outputs": [
    {
     "output_type": "execute_result",
     "data": {
      "text/plain": "温差小    187\n温差大    178\nName: wencha_type, dtype: int64"
     },
     "metadata": {},
     "execution_count": 66
    }
   ],
   "source": [
    "df['wencha_type'].value_counts()"
   ]
  },
  {
   "cell_type": "code",
   "execution_count": null,
   "metadata": {},
   "outputs": [],
   "source": []
  }
 ],
 "metadata": {
  "language_info": {
   "codemirror_mode": {
    "name": "ipython",
    "version": 3
   },
   "file_extension": ".py",
   "mimetype": "text/x-python",
   "name": "python",
   "nbconvert_exporter": "python",
   "pygments_lexer": "ipython3",
   "version": "3.7.4-final"
  },
  "orig_nbformat": 2,
  "kernelspec": {
   "name": "python_defaultSpec_1594467512724",
   "display_name": "Python 3.8.3 64-bit"
  }
 },
 "nbformat": 4,
 "nbformat_minor": 2
}